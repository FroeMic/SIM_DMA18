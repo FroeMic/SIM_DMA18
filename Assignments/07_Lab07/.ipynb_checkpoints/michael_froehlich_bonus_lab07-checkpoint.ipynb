{
 "cells": [
  {
   "cell_type": "markdown",
   "metadata": {},
   "source": [
    "# Bonus Lab - Neural Language Model\n",
    "A language model predicts the next word in the sequence based on the specific words that have come before it in the sequence.\n",
    "\n",
    "It is also possible to develop language models at the character level using neural networks. The benefit of character-based language models is their small vocabulary and flexibility in handling any words, punctuation, and other document structure. This comes at the cost of requiring larger models that are slower to train.\n",
    "\n",
    "Nevertheless, in the field of neural language models, character-based models offer a lot of promise for a general, flexible and powerful approach to language modeling."
   ]
  },
  {
   "cell_type": "markdown",
   "metadata": {},
   "source": [
    "As a prerequisite for the lab, make sure to pip install:\n",
    "- keras\n",
    "- tensorflow\n",
    "- h5py"
   ]
  },
  {
   "cell_type": "markdown",
   "metadata": {},
   "source": [
    "# Source Text Creation"
   ]
  },
  {
   "cell_type": "markdown",
   "metadata": {},
   "source": [
    "To start out with, we'll be using a simple nursery rhyme. It's quite short so we can actually train something on your CPU and see relatively interesting results. Please copy and paste the following text in a text file and save it as \"rhyme.txt\". Place this in the same directory as this jupyter notebook:"
   ]
  },
  {
   "cell_type": "markdown",
   "metadata": {},
   "source": [
    "    Sing a song of sixpence,\n",
    "    A pocket full of rye.\n",
    "    Four and twenty blackbirds,\n",
    "    Baked in a pie.\n",
    "\n",
    "    When the pie was opened\n",
    "    The birds began to sing;\n",
    "    Wasn’t that a dainty dish,\n",
    "    To set before the king.\n",
    "\n",
    "    The king was in his counting house,\n",
    "    Counting out his money;\n",
    "    The queen was in the parlour,\n",
    "    Eating bread and honey.\n",
    "\n",
    "    The maid was in the garden,\n",
    "    Hanging out the clothes,\n",
    "    When down came a blackbird\n",
    "    And pecked off her nose."
   ]
  },
  {
   "cell_type": "markdown",
   "metadata": {},
   "source": [
    "# Sequence Generation\n",
    "\n",
    "A language model must be trained on the text, and in the case of a character-based language model, the input and output sequences must be characters.\n",
    "\n",
    "The number of characters used as input will also define the number of characters that will need to be provided to the model in order to elicit the first predicted character.\n",
    "\n",
    "After the first character has been generated, it can be appended to the input sequence and used as input for the model to generate the next character.\n",
    "\n",
    "Longer sequences offer more context for the model to learn what character to output next but take longer to train and impose more burden on seeding the model when generating text.\n",
    "\n",
    "We will use an arbitrary length of 10 characters for this model.\n",
    "\n",
    "There is not a lot of text, and 10 characters is a few words.\n",
    "\n",
    "We can now transform the raw text into a form that our model can learn; specifically, input and output sequences of characters."
   ]
  },
  {
   "cell_type": "code",
   "execution_count": 1,
   "metadata": {},
   "outputs": [],
   "source": [
    "# load doc into memory\n",
    "def load_doc(filename):\n",
    "    # open the file as read only\n",
    "    file = open(filename, 'r')\n",
    "    # read all text\n",
    "    text = file.read()\n",
    "    # close the file\n",
    "    file.close()\n",
    "    return text\n",
    "# save tokens to file, one dialog per line\n",
    "def save_doc(lines, filename):\n",
    "    data = '\\n'.join(lines)\n",
    "    file = open(filename, 'w')\n",
    "    file.write(data)\n",
    "    file.close()"
   ]
  },
  {
   "cell_type": "code",
   "execution_count": 2,
   "metadata": {},
   "outputs": [
    {
     "name": "stdout",
     "output_type": "stream",
     "text": [
      "Sing a song of sixpence,\n",
      "A pocket full of rye.\n",
      "Four and twenty blackbirds,\n",
      "Baked in a pie.\n",
      "\n",
      "When the pie was opened\n",
      "The birds began to sing;\n",
      "Wasn’t that a dainty dish,\n",
      "To set before the king.\n",
      "\n",
      "The king was in his counting house,\n",
      "Counting out his money;\n",
      "The queen was in the parlour,\n",
      "Eating bread and honey.\n",
      "\n",
      "The maid was in the garden,\n",
      "Hanging out the clothes,\n",
      "When down came a blackbird\n",
      "And pecked off her nose.\n",
      "Total Sequences: 399\n"
     ]
    }
   ],
   "source": [
    "# load text\n",
    "raw_text = load_doc('rhyme.txt')\n",
    "print(raw_text)\n",
    "\n",
    "# clean\n",
    "tokens = raw_text.split()\n",
    "raw_text = ' '.join(tokens)\n",
    "\n",
    "# organize into sequences of characters\n",
    "length = 10\n",
    "sequences = list()\n",
    "for i in range(length, len(raw_text)):\n",
    "    # select sequence of tokens\n",
    "    seq = raw_text[i-length:i+1]\n",
    "    # store\n",
    "    sequences.append(seq)\n",
    "print('Total Sequences: %d' % len(sequences))"
   ]
  },
  {
   "cell_type": "code",
   "execution_count": 3,
   "metadata": {},
   "outputs": [],
   "source": [
    "# save sequences to file\n",
    "out_filename = 'char_sequences.txt'\n",
    "save_doc(sequences, out_filename)"
   ]
  },
  {
   "cell_type": "markdown",
   "metadata": {},
   "source": [
    "# Train a Model\n",
    "In this section, we will develop a neural language model for the prepared sequence data.\n",
    "\n",
    "The model will read encoded characters and predict the next character in the sequence. A Long Short-Term Memory recurrent neural network hidden layer will be used to learn the context from the input sequence in order to make the predictions."
   ]
  },
  {
   "cell_type": "code",
   "execution_count": 4,
   "metadata": {},
   "outputs": [
    {
     "name": "stderr",
     "output_type": "stream",
     "text": [
      "/Users/mike/Desktop/Repositories/SIM/DataMining/.dma/lib/python3.6/site-packages/h5py/__init__.py:36: FutureWarning: Conversion of the second argument of issubdtype from `float` to `np.floating` is deprecated. In future, it will be treated as `np.float64 == np.dtype(float).type`.\n",
      "  from ._conv import register_converters as _register_converters\n",
      "Using TensorFlow backend.\n",
      "/Users/mike/Desktop/Repositories/SIM/DataMining/.dma/lib/python3.6/importlib/_bootstrap.py:219: RuntimeWarning: compiletime version 3.5 of module 'tensorflow.python.framework.fast_tensor_util' does not match runtime version 3.6\n",
      "  return f(*args, **kwds)\n"
     ]
    }
   ],
   "source": [
    "from numpy import array\n",
    "from pickle import dump\n",
    "from keras.utils import to_categorical\n",
    "from keras.models import Sequential\n",
    "from keras.layers import Dense\n",
    "from keras.layers import LSTM\n",
    "\n",
    "# load doc into memory\n",
    "def load_doc(filename):\n",
    "    # open the file as read only\n",
    "    file = open(filename, 'r')\n",
    "    # read all text\n",
    "    text = file.read()\n",
    "    # close the file\n",
    "    file.close()\n",
    "    return text"
   ]
  },
  {
   "cell_type": "code",
   "execution_count": 5,
   "metadata": {},
   "outputs": [],
   "source": [
    "# load\n",
    "in_filename = 'char_sequences.txt'\n",
    "raw_text = load_doc(in_filename)\n",
    "lines = raw_text.split('\\n')"
   ]
  },
  {
   "cell_type": "markdown",
   "metadata": {},
   "source": [
    "The sequences of characters must be encoded as integers.This means that each unique character will be assigned a specific integer value and each sequence of characters will be encoded as a sequence of integers. We can create the mapping given a sorted set of unique characters in the raw input data. The mapping is a dictionary of character values to integer values.\n",
    "\n",
    "Next, we can process each sequence of characters one at a time and use the dictionary mapping to look up the integer value for each character. The result is a list of integer lists.\n",
    "\n",
    "We need to know the size of the vocabulary later. We can retrieve this as the size of the dictionary mapping."
   ]
  },
  {
   "cell_type": "code",
   "execution_count": 6,
   "metadata": {},
   "outputs": [
    {
     "name": "stdout",
     "output_type": "stream",
     "text": [
      "Vocabulary Size: 38\n"
     ]
    }
   ],
   "source": [
    "# integer encode sequences of characters\n",
    "chars = sorted(list(set(raw_text)))\n",
    "mapping = dict((c, i) for i, c in enumerate(chars))\n",
    "sequences = list()\n",
    "for line in lines:\n",
    "    # integer encode line\n",
    "    encoded_seq = [mapping[char] for char in line]\n",
    "    # store\n",
    "    sequences.append(encoded_seq)\n",
    "\n",
    "# vocabulary size\n",
    "vocab_size = len(mapping)\n",
    "print('Vocabulary Size: %d' % vocab_size)\n",
    "\n",
    "# separate into input and output\n",
    "sequences = array(sequences)\n",
    "X, y = sequences[:,:-1], sequences[:,-1]\n",
    "sequences = [to_categorical(x, num_classes=vocab_size) for x in X]\n",
    "X = array(sequences)\n",
    "y = to_categorical(y, num_classes=vocab_size)"
   ]
  },
  {
   "cell_type": "markdown",
   "metadata": {},
   "source": [
    "The model is defined with an input layer that takes sequences that have 10 time steps and 38 features for the one hot encoded input sequences. Rather than specify these numbers, we use the second and third dimensions on the X input data. This is so that if we change the length of the sequences or size of the vocabulary, we do not need to change the model definition.\n",
    "\n",
    "The model has a single LSTM hidden layer with 75 memory cells. The model has a fully connected output layer that outputs one vector with a probability distribution across all characters in the vocabulary. A softmax activation function is used on the output layer to ensure the output has the properties of a probability distribution.\n",
    "\n",
    "The model is learning a multi-class classification problem, therefore we use the categorical log loss intended for this type of problem. The efficient Adam implementation of gradient descent is used to optimize the model and accuracy is reported at the end of each batch update. The model is fit for 50 training epochs.\n",
    "\n",
    "# To Do:\n",
    "- Try different numbers of memory cells\n",
    "- Try different types and amounts of recurrent and fully connected layers\n",
    "- Try different lengths of training epochs\n",
    "- Try different sequence lengths and pre-processing of data\n",
    "- Try regularization techniques such as Dropout"
   ]
  },
  {
   "cell_type": "code",
   "execution_count": 7,
   "metadata": {
    "scrolled": false
   },
   "outputs": [
    {
     "name": "stdout",
     "output_type": "stream",
     "text": [
      "_________________________________________________________________\n",
      "Layer (type)                 Output Shape              Param #   \n",
      "=================================================================\n",
      "lstm_1 (LSTM)                (None, 75)                34200     \n",
      "_________________________________________________________________\n",
      "dense_1 (Dense)              (None, 38)                2888      \n",
      "=================================================================\n",
      "Total params: 37,088\n",
      "Trainable params: 37,088\n",
      "Non-trainable params: 0\n",
      "_________________________________________________________________\n",
      "None\n",
      "Epoch 1/50\n",
      "399/399 [==============================] - 1s 4ms/step - loss: 3.6090 - acc: 0.1429\n",
      "Epoch 2/50\n",
      "399/399 [==============================] - 0s 370us/step - loss: 3.5132 - acc: 0.1905\n",
      "Epoch 3/50\n",
      "399/399 [==============================] - 0s 356us/step - loss: 3.2579 - acc: 0.1905\n",
      "Epoch 4/50\n",
      "399/399 [==============================] - 0s 392us/step - loss: 3.1075 - acc: 0.1905\n",
      "Epoch 5/50\n",
      "399/399 [==============================] - 0s 423us/step - loss: 3.0224 - acc: 0.1905\n",
      "Epoch 6/50\n",
      "399/399 [==============================] - 0s 517us/step - loss: 2.9993 - acc: 0.1905\n",
      "Epoch 7/50\n",
      "399/399 [==============================] - 0s 566us/step - loss: 2.9791 - acc: 0.1905\n",
      "Epoch 8/50\n",
      "399/399 [==============================] - 0s 404us/step - loss: 2.9609 - acc: 0.1905\n",
      "Epoch 9/50\n",
      "399/399 [==============================] - 0s 444us/step - loss: 2.9507 - acc: 0.1905\n",
      "Epoch 10/50\n",
      "399/399 [==============================] - 0s 384us/step - loss: 2.9341 - acc: 0.1905\n",
      "Epoch 11/50\n",
      "399/399 [==============================] - 0s 451us/step - loss: 2.9180 - acc: 0.1905\n",
      "Epoch 12/50\n",
      "399/399 [==============================] - 0s 523us/step - loss: 2.9023 - acc: 0.2005\n",
      "Epoch 13/50\n",
      "399/399 [==============================] - 0s 487us/step - loss: 2.8810 - acc: 0.2306\n",
      "Epoch 14/50\n",
      "399/399 [==============================] - 0s 446us/step - loss: 2.8506 - acc: 0.2005\n",
      "Epoch 15/50\n",
      "399/399 [==============================] - 0s 464us/step - loss: 2.8272 - acc: 0.2231\n",
      "Epoch 16/50\n",
      "399/399 [==============================] - 0s 413us/step - loss: 2.7838 - acc: 0.2231\n",
      "Epoch 17/50\n",
      "399/399 [==============================] - 0s 417us/step - loss: 2.7501 - acc: 0.2331\n",
      "Epoch 18/50\n",
      "399/399 [==============================] - 0s 474us/step - loss: 2.7147 - acc: 0.2456\n",
      "Epoch 19/50\n",
      "399/399 [==============================] - 0s 509us/step - loss: 2.6696 - acc: 0.2581\n",
      "Epoch 20/50\n",
      "399/399 [==============================] - 0s 584us/step - loss: 2.6288 - acc: 0.2632\n",
      "Epoch 21/50\n",
      "399/399 [==============================] - 0s 447us/step - loss: 2.5995 - acc: 0.2882\n",
      "Epoch 22/50\n",
      "399/399 [==============================] - 0s 386us/step - loss: 2.5525 - acc: 0.2882\n",
      "Epoch 23/50\n",
      "399/399 [==============================] - 0s 404us/step - loss: 2.5015 - acc: 0.3509\n",
      "Epoch 24/50\n",
      "399/399 [==============================] - 0s 388us/step - loss: 2.4517 - acc: 0.3258\n",
      "Epoch 25/50\n",
      "399/399 [==============================] - 0s 423us/step - loss: 2.4064 - acc: 0.3333\n",
      "Epoch 26/50\n",
      "399/399 [==============================] - 0s 403us/step - loss: 2.3602 - acc: 0.3634\n",
      "Epoch 27/50\n",
      "399/399 [==============================] - 0s 400us/step - loss: 2.3302 - acc: 0.3258\n",
      "Epoch 28/50\n",
      "399/399 [==============================] - 0s 372us/step - loss: 2.2627 - acc: 0.4035\n",
      "Epoch 29/50\n",
      "399/399 [==============================] - 0s 400us/step - loss: 2.2271 - acc: 0.4211\n",
      "Epoch 30/50\n",
      "399/399 [==============================] - 0s 369us/step - loss: 2.1992 - acc: 0.3835\n",
      "Epoch 31/50\n",
      "399/399 [==============================] - 0s 400us/step - loss: 2.1321 - acc: 0.4110\n",
      "Epoch 32/50\n",
      "399/399 [==============================] - 0s 420us/step - loss: 2.0906 - acc: 0.4185\n",
      "Epoch 33/50\n",
      "399/399 [==============================] - 0s 373us/step - loss: 2.0548 - acc: 0.4211\n",
      "Epoch 34/50\n",
      "399/399 [==============================] - 0s 392us/step - loss: 2.0074 - acc: 0.4436\n",
      "Epoch 35/50\n",
      "399/399 [==============================] - 0s 371us/step - loss: 1.9579 - acc: 0.4561\n",
      "Epoch 36/50\n",
      "399/399 [==============================] - 0s 386us/step - loss: 1.9117 - acc: 0.4687\n",
      "Epoch 37/50\n",
      "399/399 [==============================] - 0s 409us/step - loss: 1.8647 - acc: 0.4637\n",
      "Epoch 38/50\n",
      "399/399 [==============================] - 0s 386us/step - loss: 1.8114 - acc: 0.4937\n",
      "Epoch 39/50\n",
      "399/399 [==============================] - 0s 445us/step - loss: 1.7732 - acc: 0.5038\n",
      "Epoch 40/50\n",
      "399/399 [==============================] - 0s 384us/step - loss: 1.7392 - acc: 0.5138\n",
      "Epoch 41/50\n",
      "399/399 [==============================] - 0s 388us/step - loss: 1.7251 - acc: 0.5188\n",
      "Epoch 42/50\n",
      "399/399 [==============================] - 0s 443us/step - loss: 1.6536 - acc: 0.5439\n",
      "Epoch 43/50\n",
      "399/399 [==============================] - 0s 411us/step - loss: 1.6346 - acc: 0.5414\n",
      "Epoch 44/50\n",
      "399/399 [==============================] - 0s 488us/step - loss: 1.5674 - acc: 0.5439\n",
      "Epoch 45/50\n",
      "399/399 [==============================] - 0s 481us/step - loss: 1.5430 - acc: 0.5564\n",
      "Epoch 46/50\n",
      "399/399 [==============================] - 0s 391us/step - loss: 1.4715 - acc: 0.5815\n",
      "Epoch 47/50\n",
      "399/399 [==============================] - 0s 384us/step - loss: 1.5024 - acc: 0.5940\n",
      "Epoch 48/50\n",
      "399/399 [==============================] - 0s 437us/step - loss: 1.4296 - acc: 0.5915\n",
      "Epoch 49/50\n",
      "399/399 [==============================] - 0s 459us/step - loss: 1.3867 - acc: 0.6391\n",
      "Epoch 50/50\n",
      "399/399 [==============================] - 0s 407us/step - loss: 1.3435 - acc: 0.6516\n"
     ]
    }
   ],
   "source": [
    "# define model\n",
    "model = Sequential()\n",
    "model.add(LSTM(75, input_shape=(X.shape[1], X.shape[2])))\n",
    "model.add(Dense(vocab_size, activation='softmax'))\n",
    "print(model.summary())\n",
    "# compile model\n",
    "model.compile(loss='categorical_crossentropy', optimizer='adam', metrics=['accuracy'])\n",
    "# fit model\n",
    "history=model.fit(X, y, epochs=50)"
   ]
  },
  {
   "cell_type": "code",
   "execution_count": 8,
   "metadata": {},
   "outputs": [],
   "source": [
    "# save the model to file\n",
    "model.save('model.h5')\n",
    "# save the mapping\n",
    "dump(mapping, open('mapping.pkl', 'wb'))"
   ]
  },
  {
   "cell_type": "markdown",
   "metadata": {},
   "source": [
    "# Generating Text"
   ]
  },
  {
   "cell_type": "markdown",
   "metadata": {},
   "source": [
    "We must provide sequences of 10 characters as input to the model in order to start the generation process. We will pick these manually. A given input sequence will need to be prepared in the same way as preparing the training data for the model. "
   ]
  },
  {
   "cell_type": "code",
   "execution_count": 9,
   "metadata": {},
   "outputs": [],
   "source": [
    "from pickle import load\n",
    "from keras.models import load_model\n",
    "from keras.utils import to_categorical\n",
    "from keras.preprocessing.sequence import pad_sequences\n",
    "\n",
    "# generate a sequence of characters with a language model\n",
    "def generate_seq(model, mapping, seq_length, seed_text, n_chars):\n",
    "    in_text = seed_text\n",
    "    # generate a fixed number of characters\n",
    "    for _ in range(n_chars):\n",
    "        # encode the characters as integers\n",
    "        encoded = [mapping[char] for char in in_text]\n",
    "        # truncate sequences to a fixed length\n",
    "        encoded = pad_sequences([encoded], maxlen=seq_length, truncating='pre')\n",
    "        # one hot encode\n",
    "        encoded = to_categorical(encoded, num_classes=len(mapping))\n",
    "        #encoded = encoded.reshape(1, encoded.shape[0], encoded.shape[1])\n",
    "        # predict character\n",
    "        yhat = model.predict_classes(encoded, verbose=0)\n",
    "        # reverse map integer to character\n",
    "        out_char = ''\n",
    "        for char, index in mapping.items():\n",
    "            if index == yhat:\n",
    "                out_char = char\n",
    "                break\n",
    "        # append to input\n",
    "        in_text += char\n",
    "    return in_text\n",
    "\n",
    "# load the model\n",
    "model = load_model('model.h5')\n",
    "# load the mapping\n",
    "mapping = load(open('mapping.pkl', 'rb'))"
   ]
  },
  {
   "cell_type": "markdown",
   "metadata": {},
   "source": [
    "Running the example generates three sequences of text.\n",
    "\n",
    "The first is a test to see how the model does at starting from the beginning of the rhyme. The second is a test to see how well it does at beginning in the middle of a line. The final example is a test to see how well it does with a sequence of characters never seen before."
   ]
  },
  {
   "cell_type": "code",
   "execution_count": 10,
   "metadata": {},
   "outputs": [
    {
     "name": "stdout",
     "output_type": "stream",
     "text": [
      "Sing a songg ofu tinn ouse hue\n",
      "king was in  heeg oure the ing\n",
      "hello worle hhe in thee baarrd\n"
     ]
    }
   ],
   "source": [
    "# test start of rhyme\n",
    "print(generate_seq(model, mapping, 10, 'Sing a son', 20))\n",
    "# test mid-line\n",
    "print(generate_seq(model, mapping, 10, 'king was i', 20))\n",
    "# test not in original\n",
    "print(generate_seq(model, mapping, 10, 'hello worl', 20))"
   ]
  },
  {
   "cell_type": "markdown",
   "metadata": {},
   "source": [
    "If the results aren't satisfactory, try out the suggestions above or these below:\n",
    "- Padding. Update the example to provides sequences line by line only and use padding to fill out each sequence to the maximum line length.\n",
    "- Sequence Length. Experiment with different sequence lengths and see how they impact the behavior of the model.\n",
    "- Tune Model. Experiment with different model configurations, such as the number of memory cells and epochs, and try to develop a better model for fewer resources.\n"
   ]
  },
  {
   "cell_type": "markdown",
   "metadata": {},
   "source": [
    "# Deliverables to receive credit\n",
    "The following deliverables will receive increasing amount of bonus credit:\n",
    "\n",
    "1. Optimize the following cells above to get the model to work reasonably well on the above generated sentences. Again, this is a toy problem as language models require a lot of computation... so this toy problem is great for rapid experimentation to explore different aspects of deep learning language models.\n",
    "2. Write a function to split the text corpus file into training and validation and pipe the validation data into the model.fit() function to be able to track validation error per epoch. Lookup Keras documentation to see how this is handled.\n",
    "3. Write a summary (methods and results) in the below cells of the different things you applied. You must include your intuitions behind what did work and what did not work well\n",
    "4. Do something even more interesting. Try a different source text. Train a word-level model. We'll leave it up to your creativity to explore and write a summary of your methods and results.\n"
   ]
  },
  {
   "cell_type": "code",
   "execution_count": null,
   "metadata": {},
   "outputs": [],
   "source": []
  },
  {
   "cell_type": "code",
   "execution_count": null,
   "metadata": {},
   "outputs": [],
   "source": []
  }
 ],
 "metadata": {
  "kernelspec": {
   "display_name": "Python 3",
   "language": "python",
   "name": "python3"
  },
  "language_info": {
   "codemirror_mode": {
    "name": "ipython",
    "version": 3
   },
   "file_extension": ".py",
   "mimetype": "text/x-python",
   "name": "python",
   "nbconvert_exporter": "python",
   "pygments_lexer": "ipython3",
   "version": "3.6.4"
  }
 },
 "nbformat": 4,
 "nbformat_minor": 2
}
