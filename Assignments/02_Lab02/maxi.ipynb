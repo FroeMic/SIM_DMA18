{
 "cells": [
  {
   "cell_type": "markdown",
   "metadata": {},
   "source": [
    "## Lab 2: Clustering ##\n",
    "INFO 254"
   ]
  },
  {
   "cell_type": "code",
   "execution_count": 8,
   "metadata": {},
   "outputs": [],
   "source": [
    "import pandas as pd\n",
    "from sklearn.cluster import KMeans\n",
    "from sklearn.metrics import silhouette_score\n",
    "import numpy as np\n",
    "from sklearn.preprocessing import normalize\n",
    "\n",
    "import matplotlib\n",
    "import matplotlib.pyplot as plt\n",
    "\n",
    "%matplotlib inline\n",
    "matplotlib.style.use('ggplot')"
   ]
  },
  {
   "cell_type": "code",
   "execution_count": 9,
   "metadata": {},
   "outputs": [
    {
     "name": "stdout",
     "output_type": "stream",
     "text": [
      "(171639, 43)\n"
     ]
    },
    {
     "data": {
      "text/html": [
       "<div>\n",
       "<style scoped>\n",
       "    .dataframe tbody tr th:only-of-type {\n",
       "        vertical-align: middle;\n",
       "    }\n",
       "\n",
       "    .dataframe tbody tr th {\n",
       "        vertical-align: top;\n",
       "    }\n",
       "\n",
       "    .dataframe thead th {\n",
       "        text-align: right;\n",
       "    }\n",
       "</style>\n",
       "<table border=\"1\" class=\"dataframe\">\n",
       "  <thead>\n",
       "    <tr style=\"text-align: right;\">\n",
       "      <th></th>\n",
       "      <th>q3</th>\n",
       "      <th>q4</th>\n",
       "      <th>q5</th>\n",
       "      <th>q6</th>\n",
       "      <th>q7</th>\n",
       "      <th>q8</th>\n",
       "      <th>q9</th>\n",
       "      <th>q10</th>\n",
       "      <th>q11</th>\n",
       "      <th>q12</th>\n",
       "      <th>...</th>\n",
       "      <th>q16r</th>\n",
       "      <th>q16u</th>\n",
       "      <th>q16v</th>\n",
       "      <th>q16w</th>\n",
       "      <th>q16x</th>\n",
       "      <th>q16y</th>\n",
       "      <th>q16z</th>\n",
       "      <th>q16aa</th>\n",
       "      <th>q16ab</th>\n",
       "      <th>q16ac</th>\n",
       "    </tr>\n",
       "  </thead>\n",
       "  <tbody>\n",
       "    <tr>\n",
       "      <th>count</th>\n",
       "      <td>24205.000000</td>\n",
       "      <td>24205.000000</td>\n",
       "      <td>24205.000000</td>\n",
       "      <td>24205.000000</td>\n",
       "      <td>24205.000000</td>\n",
       "      <td>24205.000000</td>\n",
       "      <td>24205.000000</td>\n",
       "      <td>24205.000000</td>\n",
       "      <td>24205.000000</td>\n",
       "      <td>24205.000000</td>\n",
       "      <td>...</td>\n",
       "      <td>24205.000000</td>\n",
       "      <td>24205.000000</td>\n",
       "      <td>24205.000000</td>\n",
       "      <td>24205.000000</td>\n",
       "      <td>24205.000000</td>\n",
       "      <td>24205.000000</td>\n",
       "      <td>24205.000000</td>\n",
       "      <td>24205.000000</td>\n",
       "      <td>24205.000000</td>\n",
       "      <td>24205.000000</td>\n",
       "    </tr>\n",
       "    <tr>\n",
       "      <th>mean</th>\n",
       "      <td>6.673497</td>\n",
       "      <td>5.532121</td>\n",
       "      <td>4.990002</td>\n",
       "      <td>9.002644</td>\n",
       "      <td>1.507177</td>\n",
       "      <td>0.930915</td>\n",
       "      <td>0.863740</td>\n",
       "      <td>1.540158</td>\n",
       "      <td>26.765398</td>\n",
       "      <td>25.708965</td>\n",
       "      <td>...</td>\n",
       "      <td>3.633588</td>\n",
       "      <td>0.460916</td>\n",
       "      <td>22.550671</td>\n",
       "      <td>25.064697</td>\n",
       "      <td>0.003781</td>\n",
       "      <td>73.981978</td>\n",
       "      <td>0.642677</td>\n",
       "      <td>0.561124</td>\n",
       "      <td>1.141080</td>\n",
       "      <td>3.649456</td>\n",
       "    </tr>\n",
       "    <tr>\n",
       "      <th>std</th>\n",
       "      <td>7.468561</td>\n",
       "      <td>25.407165</td>\n",
       "      <td>22.812399</td>\n",
       "      <td>28.164931</td>\n",
       "      <td>0.889274</td>\n",
       "      <td>0.980001</td>\n",
       "      <td>0.951531</td>\n",
       "      <td>1.027086</td>\n",
       "      <td>10.166944</td>\n",
       "      <td>11.569436</td>\n",
       "      <td>...</td>\n",
       "      <td>1.490942</td>\n",
       "      <td>0.509305</td>\n",
       "      <td>14.454279</td>\n",
       "      <td>28.650883</td>\n",
       "      <td>0.006020</td>\n",
       "      <td>51.060694</td>\n",
       "      <td>1.427017</td>\n",
       "      <td>1.908011</td>\n",
       "      <td>3.234828</td>\n",
       "      <td>0.990191</td>\n",
       "    </tr>\n",
       "    <tr>\n",
       "      <th>min</th>\n",
       "      <td>1.000000</td>\n",
       "      <td>1.000000</td>\n",
       "      <td>1.000000</td>\n",
       "      <td>1.000000</td>\n",
       "      <td>0.000000</td>\n",
       "      <td>0.000000</td>\n",
       "      <td>0.000000</td>\n",
       "      <td>0.000000</td>\n",
       "      <td>2.780000</td>\n",
       "      <td>1.410000</td>\n",
       "      <td>...</td>\n",
       "      <td>1.000000</td>\n",
       "      <td>0.000000</td>\n",
       "      <td>1.000000</td>\n",
       "      <td>1.000000</td>\n",
       "      <td>0.000000</td>\n",
       "      <td>0.250000</td>\n",
       "      <td>0.000000</td>\n",
       "      <td>0.000000</td>\n",
       "      <td>0.000000</td>\n",
       "      <td>1.000000</td>\n",
       "    </tr>\n",
       "    <tr>\n",
       "      <th>25%</th>\n",
       "      <td>2.000000</td>\n",
       "      <td>1.000000</td>\n",
       "      <td>1.000000</td>\n",
       "      <td>2.000000</td>\n",
       "      <td>0.690000</td>\n",
       "      <td>0.000000</td>\n",
       "      <td>0.000000</td>\n",
       "      <td>0.690000</td>\n",
       "      <td>20.000000</td>\n",
       "      <td>16.670000</td>\n",
       "      <td>...</td>\n",
       "      <td>3.000000</td>\n",
       "      <td>0.000000</td>\n",
       "      <td>10.000000</td>\n",
       "      <td>9.000000</td>\n",
       "      <td>0.000477</td>\n",
       "      <td>39.125000</td>\n",
       "      <td>0.000000</td>\n",
       "      <td>0.000000</td>\n",
       "      <td>0.000000</td>\n",
       "      <td>3.200000</td>\n",
       "    </tr>\n",
       "    <tr>\n",
       "      <th>50%</th>\n",
       "      <td>5.000000</td>\n",
       "      <td>2.000000</td>\n",
       "      <td>2.000000</td>\n",
       "      <td>5.000000</td>\n",
       "      <td>1.610000</td>\n",
       "      <td>0.690000</td>\n",
       "      <td>0.690000</td>\n",
       "      <td>1.610000</td>\n",
       "      <td>25.930000</td>\n",
       "      <td>25.000000</td>\n",
       "      <td>...</td>\n",
       "      <td>4.000000</td>\n",
       "      <td>0.333333</td>\n",
       "      <td>21.000000</td>\n",
       "      <td>17.000000</td>\n",
       "      <td>0.001944</td>\n",
       "      <td>61.842593</td>\n",
       "      <td>0.000000</td>\n",
       "      <td>0.000000</td>\n",
       "      <td>0.500000</td>\n",
       "      <td>3.800000</td>\n",
       "    </tr>\n",
       "    <tr>\n",
       "      <th>75%</th>\n",
       "      <td>8.000000</td>\n",
       "      <td>4.000000</td>\n",
       "      <td>4.000000</td>\n",
       "      <td>9.000000</td>\n",
       "      <td>2.080000</td>\n",
       "      <td>1.390000</td>\n",
       "      <td>1.390000</td>\n",
       "      <td>2.200000</td>\n",
       "      <td>33.330000</td>\n",
       "      <td>33.330000</td>\n",
       "      <td>...</td>\n",
       "      <td>5.000000</td>\n",
       "      <td>0.666667</td>\n",
       "      <td>34.000000</td>\n",
       "      <td>32.000000</td>\n",
       "      <td>0.004666</td>\n",
       "      <td>95.375000</td>\n",
       "      <td>1.000000</td>\n",
       "      <td>0.000000</td>\n",
       "      <td>1.333333</td>\n",
       "      <td>4.333333</td>\n",
       "    </tr>\n",
       "    <tr>\n",
       "      <th>max</th>\n",
       "      <td>360.000000</td>\n",
       "      <td>2333.000000</td>\n",
       "      <td>2093.000000</td>\n",
       "      <td>2420.000000</td>\n",
       "      <td>5.890000</td>\n",
       "      <td>7.750000</td>\n",
       "      <td>7.650000</td>\n",
       "      <td>7.790000</td>\n",
       "      <td>84.620000</td>\n",
       "      <td>89.290000</td>\n",
       "      <td>...</td>\n",
       "      <td>5.000000</td>\n",
       "      <td>7.000000</td>\n",
       "      <td>53.000000</td>\n",
       "      <td>1289.000000</td>\n",
       "      <td>0.150618</td>\n",
       "      <td>549.333333</td>\n",
       "      <td>44.000000</td>\n",
       "      <td>106.000000</td>\n",
       "      <td>342.300000</td>\n",
       "      <td>5.000000</td>\n",
       "    </tr>\n",
       "  </tbody>\n",
       "</table>\n",
       "<p>8 rows × 40 columns</p>\n",
       "</div>"
      ],
      "text/plain": [
       "                 q3            q4            q5            q6            q7  \\\n",
       "count  24205.000000  24205.000000  24205.000000  24205.000000  24205.000000   \n",
       "mean       6.673497      5.532121      4.990002      9.002644      1.507177   \n",
       "std        7.468561     25.407165     22.812399     28.164931      0.889274   \n",
       "min        1.000000      1.000000      1.000000      1.000000      0.000000   \n",
       "25%        2.000000      1.000000      1.000000      2.000000      0.690000   \n",
       "50%        5.000000      2.000000      2.000000      5.000000      1.610000   \n",
       "75%        8.000000      4.000000      4.000000      9.000000      2.080000   \n",
       "max      360.000000   2333.000000   2093.000000   2420.000000      5.890000   \n",
       "\n",
       "                 q8            q9           q10           q11           q12  \\\n",
       "count  24205.000000  24205.000000  24205.000000  24205.000000  24205.000000   \n",
       "mean       0.930915      0.863740      1.540158     26.765398     25.708965   \n",
       "std        0.980001      0.951531      1.027086     10.166944     11.569436   \n",
       "min        0.000000      0.000000      0.000000      2.780000      1.410000   \n",
       "25%        0.000000      0.000000      0.690000     20.000000     16.670000   \n",
       "50%        0.690000      0.690000      1.610000     25.930000     25.000000   \n",
       "75%        1.390000      1.390000      2.200000     33.330000     33.330000   \n",
       "max        7.750000      7.650000      7.790000     84.620000     89.290000   \n",
       "\n",
       "           ...               q16r          q16u          q16v          q16w  \\\n",
       "count      ...       24205.000000  24205.000000  24205.000000  24205.000000   \n",
       "mean       ...           3.633588      0.460916     22.550671     25.064697   \n",
       "std        ...           1.490942      0.509305     14.454279     28.650883   \n",
       "min        ...           1.000000      0.000000      1.000000      1.000000   \n",
       "25%        ...           3.000000      0.000000     10.000000      9.000000   \n",
       "50%        ...           4.000000      0.333333     21.000000     17.000000   \n",
       "75%        ...           5.000000      0.666667     34.000000     32.000000   \n",
       "max        ...           5.000000      7.000000     53.000000   1289.000000   \n",
       "\n",
       "               q16x          q16y          q16z         q16aa         q16ab  \\\n",
       "count  24205.000000  24205.000000  24205.000000  24205.000000  24205.000000   \n",
       "mean       0.003781     73.981978      0.642677      0.561124      1.141080   \n",
       "std        0.006020     51.060694      1.427017      1.908011      3.234828   \n",
       "min        0.000000      0.250000      0.000000      0.000000      0.000000   \n",
       "25%        0.000477     39.125000      0.000000      0.000000      0.000000   \n",
       "50%        0.001944     61.842593      0.000000      0.000000      0.500000   \n",
       "75%        0.004666     95.375000      1.000000      0.000000      1.333333   \n",
       "max        0.150618    549.333333     44.000000    106.000000    342.300000   \n",
       "\n",
       "              q16ac  \n",
       "count  24205.000000  \n",
       "mean       3.649456  \n",
       "std        0.990191  \n",
       "min        1.000000  \n",
       "25%        3.200000  \n",
       "50%        3.800000  \n",
       "75%        4.333333  \n",
       "max        5.000000  \n",
       "\n",
       "[8 rows x 40 columns]"
      ]
     },
     "execution_count": 9,
     "metadata": {},
     "output_type": "execute_result"
    }
   ],
   "source": [
    "df = pd.read_csv('yelp_reviewers.csv')\n",
    "print(df.shape)\n",
    "df.dropna().describe()"
   ]
  },
  {
   "cell_type": "markdown",
   "metadata": {},
   "source": [
    "### Question 1 ###\n",
    "\n",
    "Choose an implementation of k-means and specify it in the google sheet  \n",
    "\n",
    "** Answer **:  \n"
   ]
  },
  {
   "cell_type": "code",
   "execution_count": 10,
   "metadata": {},
   "outputs": [],
   "source": [
    "#We are chosing scikit-learn:\n",
    "from sklearn.cluster import KMeans\n",
    "from sklearn.model_selection import train_test_split"
   ]
  },
  {
   "cell_type": "markdown",
   "metadata": {},
   "source": [
    "### Question 2 ###\n",
    "What is the best choice of k according to the silhouette metric for clustering q4-q6 (# of cool, funny, useful votes). Only consider 2 <= k <= 8.  \n",
    "\n",
    "NOTE: For features with high variance, empty clusters can occur. There are several ways of dealing with empty clusters. A common approach is to drop empty clusters, the prefered approach for this Lab is to treat the empty cluster as a “singleton” leaving it empty with a single point placeholder. This can be accomplished in MATLAB, for example, with the command:  [IDX,C]=kmeans(d,4, 'Distance', 'sqeuclidean','EmptyAction','singleton')\n",
    "\n",
    "**Answer**:  "
   ]
  },
  {
   "cell_type": "code",
   "execution_count": 4,
   "metadata": {},
   "outputs": [
    {
     "data": {
      "text/plain": [
       "8582"
      ]
     },
     "execution_count": 4,
     "metadata": {},
     "output_type": "execute_result"
    }
   ],
   "source": [
    "# Use only random 5% of data\n",
    "x = train_test_split(np.array(df[['q4','q5','q6']]), test_size=0.05)[1]\n",
    "len(x)"
   ]
  },
  {
   "cell_type": "code",
   "execution_count": 5,
   "metadata": {
    "scrolled": true
   },
   "outputs": [
    {
     "name": "stdout",
     "output_type": "stream",
     "text": [
      "The maximum score is  0.9927977086138658  at  2  clusters.\n"
     ]
    }
   ],
   "source": [
    "results = []\n",
    "for i in range(2,9):\n",
    "    kmeans = KMeans(n_clusters=i, random_state=0).fit(x)\n",
    "    score = silhouette_score(x, kmeans.labels_)\n",
    "    results.append((i, score))\n",
    "\n",
    "results = pd.DataFrame(results).set_index(0)[1]\n",
    "print ('The maximum score is ',results.max(),' at ',results.idxmax(),' clusters.')"
   ]
  },
  {
   "cell_type": "markdown",
   "metadata": {},
   "source": [
    "***\n",
    "\n",
    "### Question 3 ###\n",
    "Answer question 2 but using the log of the features (q7-q10)\n",
    "\n",
    "**Answer**:  "
   ]
  },
  {
   "cell_type": "code",
   "execution_count": 6,
   "metadata": {},
   "outputs": [
    {
     "data": {
      "text/plain": [
       "10322"
      ]
     },
     "execution_count": 6,
     "metadata": {},
     "output_type": "execute_result"
    }
   ],
   "source": [
    "# Use only random 30% of useful (without -inf) log data\n",
    "x = df[['q7','q8','q9', 'q10']].replace(0, np.NaN).apply(np.log)\n",
    "x = x.dropna(how='any')\n",
    "x = train_test_split(np.array(x), test_size=0.7)[1]\n",
    "len(x)"
   ]
  },
  {
   "cell_type": "code",
   "execution_count": 7,
   "metadata": {},
   "outputs": [
    {
     "name": "stdout",
     "output_type": "stream",
     "text": [
      "The maximum score is  0.36883657362532474  at  2  clusters.\n"
     ]
    }
   ],
   "source": [
    "results = []\n",
    "for i in range(2,9):\n",
    "    kmeans = KMeans(n_clusters=i, random_state=0).fit(x)\n",
    "    score = silhouette_score(x, kmeans.labels_)\n",
    "    results.append((i, score))\n",
    "\n",
    "results = pd.DataFrame(results).set_index(0)[1]\n",
    "print ('The maximum score is ',results.max(),' at ',results.idxmax(),' clusters.')"
   ]
  },
  {
   "cell_type": "markdown",
   "metadata": {},
   "source": [
    "***\n",
    "\n",
    "### Question 4 ###\n",
    "Answer question 2 but using the percentage of the features (q11-q13)\n",
    "\n",
    "**Answer**:"
   ]
  },
  {
   "cell_type": "code",
   "execution_count": 8,
   "metadata": {},
   "outputs": [
    {
     "data": {
      "text/plain": [
       "10036"
      ]
     },
     "execution_count": 8,
     "metadata": {},
     "output_type": "execute_result"
    }
   ],
   "source": [
    "# Use only random 5% of data\n",
    "x = df[['q11','q12','q13']]\n",
    "x = x.dropna(how='any')\n",
    "x = train_test_split(np.array(x), test_size=0.1)[1]\n",
    "len(x)"
   ]
  },
  {
   "cell_type": "code",
   "execution_count": 9,
   "metadata": {},
   "outputs": [
    {
     "name": "stdout",
     "output_type": "stream",
     "text": [
      "The maximum score is  0.6591056868034987  at  8  clusters.\n"
     ]
    }
   ],
   "source": [
    "results = []\n",
    "for i in range(2,9):\n",
    "    kmeans = KMeans(n_clusters=i, random_state=0).fit(x)\n",
    "    score = silhouette_score(x, kmeans.labels_)\n",
    "    results.append((i, score))\n",
    "\n",
    "results = pd.DataFrame(results).set_index(0)[1]\n",
    "print ('The maximum score is ',results.max(),' at ',results.idxmax(),' clusters.')\n",
    "best_k = results.idxmax()"
   ]
  },
  {
   "cell_type": "markdown",
   "metadata": {},
   "source": [
    "***\n",
    "\n",
    "### Question 5 ###\n",
    "Inspect the [best] clustering generated from question 4"
   ]
  },
  {
   "cell_type": "code",
   "execution_count": 10,
   "metadata": {
    "scrolled": true
   },
   "outputs": [
    {
     "data": {
      "image/png": "[encoded data removed]",
      "text/plain": [
       "<matplotlib.figure.Figure at 0x10fbb12e8>"
      ]
     },
     "metadata": {},
     "output_type": "display_data"
    }
   ],
   "source": [
    "kmeans = KMeans(n_clusters=best_k, random_state=0).fit(x)\n",
    "plt.subplot(221)\n",
    "plt.scatter(x[:,0],x[:,1])\n",
    "plt.scatter(kmeans.cluster_centers_[:,0],kmeans.cluster_centers_[:,1])\n",
    "plt.legend(['Training Data','Cluster Center'])\n",
    "plt.subplot(222)\n",
    "plt.scatter(x[:,1],x[:,2])\n",
    "plt.scatter(kmeans.cluster_centers_[:,1],kmeans.cluster_centers_[:,2])\n",
    "plt.legend(['Training Data','Cluster Center'])\n",
    "plt.subplot(223)\n",
    "plt.scatter(x[:,0],x[:,2])\n",
    "plt.scatter(kmeans.cluster_centers_[:,0],kmeans.cluster_centers_[:,2])\n",
    "plt.legend(['Training Data','Cluster Center'])\n",
    "plt.show()"
   ]
  },
  {
   "cell_type": "code",
   "execution_count": 73,
   "metadata": {},
   "outputs": [
    {
     "data": {
      "image/png": "[encoded data removed]",
      "text/plain": [
       "<matplotlib.figure.Figure at 0x114975be0>"
      ]
     },
     "metadata": {},
     "output_type": "display_data"
    }
   ],
   "source": [
    "from mpl_toolkits import mplot3d\n",
    "#plt.scatter(x[:,0],x[:,1],x[:,2])\n",
    "ax = plt.axes(projection='3d')\n",
    "ax.scatter3D(x.iloc[:,0],x.iloc[:,1],x.iloc[:,2], s=1, c=x.iloc[:,2],cmap='viridis', depthshade=False)\n",
    "ax.scatter3D(kmeans.cluster_centers_[:,0],kmeans.cluster_centers_[:,1],kmeans.cluster_centers_[:,2], s=20, c='red', cmap='hot')\n",
    "plt.legend(['Training Data','Cluster Center'])\n",
    "ax.view_init(60, 35)"
   ]
  },
  {
   "cell_type": "markdown",
   "metadata": {},
   "source": [
    "#### 5.a ####\n",
    "**Question**: List the number of data points in each cluster (eg. C1: 2,000 C2: 4,200 etc)"
   ]
  },
  {
   "cell_type": "code",
   "execution_count": 12,
   "metadata": {},
   "outputs": [
    {
     "data": {
      "text/plain": [
       "0     406\n",
       "1    3383\n",
       "2     667\n",
       "3     549\n",
       "4     988\n",
       "5    1888\n",
       "6     684\n",
       "7    1471\n",
       "dtype: int64"
      ]
     },
     "execution_count": 12,
     "metadata": {},
     "output_type": "execute_result"
    }
   ],
   "source": [
    "count = np.unique(kmeans.labels_, return_counts=True)\n",
    "count = pd.Series(count[1],index=count[0])\n",
    "count"
   ]
  },
  {
   "cell_type": "markdown",
   "metadata": {},
   "source": [
    "#### 5.b ####\n",
    "**Question**: Were there clusters that represented very funny but useless reviewers?  \n",
    "\n",
    "**Answer**:  "
   ]
  },
  {
   "cell_type": "code",
   "execution_count": 77,
   "metadata": {},
   "outputs": [
    {
     "data": {
      "image/png": "[encoded data removed]",
      "text/plain": [
       "<matplotlib.figure.Figure at 0x1193abe80>"
      ]
     },
     "metadata": {},
     "output_type": "display_data"
    }
   ],
   "source": [
    "#plt.scatter(kmeans.cluster_centers_[:,0],kmeans.cluster_centers_[:,2])\n",
    "ax = plt.axes(projection='3d')\n",
    "ax.scatter3D(kmeans.cluster_centers_[:,0],kmeans.cluster_centers_[:,1],kmeans.cluster_centers_[:,2], s=20 , cmap='hot', depthshade=False)\n",
    "ax.view_init(60, 35)"
   ]
  },
  {
   "cell_type": "markdown",
   "metadata": {},
   "source": [
    "#### 5.c ####\n",
    "**Question**: How many reviewers were in the cluster that represented relatively equal strength in all voting categories (assuming such a cluster exists in your clustering)?  \n",
    "\n",
    "**Answer**:"
   ]
  },
  {
   "cell_type": "code",
   "execution_count": 14,
   "metadata": {},
   "outputs": [
    {
     "name": "stdout",
     "output_type": "stream",
     "text": [
      "The minimum standard deviation is  3.5030422144394073  at the No.  5  cluster. Center of the cluster is at: [30.99385064 30.71948093 38.28394068]\n"
     ]
    }
   ],
   "source": [
    "var_cluster = []\n",
    "for i in range(0,8):\n",
    "    var_cluster.append((i, kmeans.cluster_centers_[i].std()))\n",
    "\n",
    "var_cluster = pd.DataFrame(var_cluster).set_index(0)[1]\n",
    "print ('The minimum standard deviation is ',var_cluster.min(),' at the No. ',var_cluster.idxmin(),' cluster. Center of the cluster is at:', kmeans.cluster_centers_[var_cluster.idxmin()])\n"
   ]
  },
  {
   "cell_type": "markdown",
   "metadata": {},
   "source": [
    "***\n",
    "\n",
    "### Question 6 ###\n",
    "Cluster the dataset using $k = 5$ and using features q7-q13 (log and % type votes) and q14 (most active year feature) and the natural log of q15 (avg review chars)"
   ]
  },
  {
   "cell_type": "code",
   "execution_count": 181,
   "metadata": {},
   "outputs": [],
   "source": [
    "# Use only random 5% of data\n",
    "# Use only random 5% of data\n",
    "x = df[['q7','q8','q9', 'q10','q15']].replace(0, np.NaN).apply(np.log)\n",
    "x = x.join(df[['q11','q12','q13','q14']])\n",
    "x = x.dropna(how='any')\n",
    "\n",
    "kmeans = KMeans(n_clusters=5, random_state=0).fit(x)"
   ]
  },
  {
   "cell_type": "markdown",
   "metadata": {},
   "source": [
    "#### 6.a ####\n",
    "**Question**: What is the silhouette metric for this clustering?   \n",
    "You may use the max, as you did in question 2. For a more in-depth understanding of cluster analysis with silhouette, look [here](http://scikit-learn.org/stable/auto_examples/cluster/plot_kmeans_silhouette_analysis.html)"
   ]
  },
  {
   "cell_type": "code",
   "execution_count": 182,
   "metadata": {},
   "outputs": [
    {
     "data": {
      "text/plain": [
       "0.3278218759520741"
      ]
     },
     "execution_count": 182,
     "metadata": {},
     "output_type": "execute_result"
    }
   ],
   "source": [
    "silhouette_score(x, kmeans.labels_)"
   ]
  },
  {
   "cell_type": "markdown",
   "metadata": {},
   "source": [
    "#### 6.b ####\n",
    "**Question**: What was the average “number of reviews per reviewer (q3)” among the points in each of the clusters (eg. C1: 1.4 C2: 4.2 C3: 3.4 etc)"
   ]
  },
  {
   "cell_type": "code",
   "execution_count": 183,
   "metadata": {},
   "outputs": [
    {
     "data": {
      "text/plain": [
       "labels\n",
       "0    11.243235\n",
       "1     9.381624\n",
       "2     7.007895\n",
       "3     7.797412\n",
       "4    11.924764\n",
       "Name: q3, dtype: float64"
      ]
     },
     "execution_count": 183,
     "metadata": {},
     "output_type": "execute_result"
    }
   ],
   "source": [
    "x = df[['q7','q8','q9', 'q10','q15']].replace(0, np.NaN).apply(np.log)\n",
    "x = x.join(df[['q11','q12','q13','q14', 'q3']])\n",
    "x = x.dropna(how='any')\n",
    "x['labels'] = kmeans.labels_.tolist()\n",
    "x.groupby('labels')['q3'].mean()"
   ]
  },
  {
   "cell_type": "markdown",
   "metadata": {},
   "source": [
    "***\n",
    "\n",
    "### Question 7 ###\n",
    "Cluster the dataset using the features described in question 6 + every group’s question 16 features (you may drop features with high incidents of -Inf / blank / or NaN values). It is suggested that you perform some form of normalization on these question 16 features so as not to over bias the clustering towards the larger magnitude features."
   ]
  },
  {
   "cell_type": "markdown",
   "metadata": {},
   "source": [
    "#### Data Cleansing and Normalization ####\n",
    "Check how many null values there are in each column."
   ]
  },
  {
   "cell_type": "code",
   "execution_count": 204,
   "metadata": {},
   "outputs": [
    {
     "data": {
      "text/plain": [
       "q7        71142\n",
       "q8       145060\n",
       "q9       147113\n",
       "q10      114927\n",
       "q15           0\n",
       "q16a          0\n",
       "q16b          0\n",
       "q16c          0\n",
       "q16d          0\n",
       "q16e          0\n",
       "q16f          0\n",
       "q16g          0\n",
       "q16h          0\n",
       "q16i          0\n",
       "q16j          0\n",
       "q16k          0\n",
       "q16l          0\n",
       "q16m          0\n",
       "q16n          0\n",
       "q16o          0\n",
       "q16p          0\n",
       "q16q          0\n",
       "q16r          0\n",
       "q16s          0\n",
       "q16t          0\n",
       "q16u          0\n",
       "q16v          0\n",
       "q16w          0\n",
       "q16x          0\n",
       "q16y          0\n",
       "q16z          0\n",
       "q16aa         0\n",
       "q16ab     47594\n",
       "q16ac         0\n",
       "q11       71282\n",
       "q12       71282\n",
       "q13       71282\n",
       "q14           0\n",
       "dtype: int64"
      ]
     },
     "execution_count": 204,
     "metadata": {},
     "output_type": "execute_result"
    }
   ],
   "source": [
    "x = df[['q7','q8','q9', 'q10','q15']].replace(0, np.NaN).apply(np.log)\n",
    "x = x.join(df.loc[:,'q16a':'q16ac'])\n",
    "x = x.join(df.loc[:,'q11':'q14'])\n",
    "\n",
    "x.isnull().sum()"
   ]
  },
  {
   "cell_type": "markdown",
   "metadata": {},
   "source": [
    "It looks like q8 - q13 and q16ab have a lot of null values, especially q8 and q9. Let's see what the impact is of removing some of these columnsbefore removing any columns"
   ]
  },
  {
   "cell_type": "code",
   "execution_count": 205,
   "metadata": {
    "scrolled": true
   },
   "outputs": [
    {
     "data": {
      "text/plain": [
       "q7       71142\n",
       "q15          0\n",
       "q16a         0\n",
       "q16b         0\n",
       "q16c         0\n",
       "q16d         0\n",
       "q16e         0\n",
       "q16f         0\n",
       "q16g         0\n",
       "q16h         0\n",
       "q16i         0\n",
       "q16j         0\n",
       "q16k         0\n",
       "q16l         0\n",
       "q16m         0\n",
       "q16n         0\n",
       "q16o         0\n",
       "q16p         0\n",
       "q16q         0\n",
       "q16r         0\n",
       "q16s         0\n",
       "q16t         0\n",
       "q16u         0\n",
       "q16v         0\n",
       "q16w         0\n",
       "q16x         0\n",
       "q16y         0\n",
       "q16z         0\n",
       "q16aa        0\n",
       "q16ab    47594\n",
       "q16ac        0\n",
       "q11      71282\n",
       "q12      71282\n",
       "q13      71282\n",
       "q14          0\n",
       "dtype: int64"
      ]
     },
     "execution_count": 205,
     "metadata": {},
     "output_type": "execute_result"
    }
   ],
   "source": [
    "x_red = x.drop(['q8','q9','q10'], axis=1)\n",
    "x_red.isnull().sum()"
   ]
  },
  {
   "cell_type": "markdown",
   "metadata": {},
   "source": [
    "By removing 2 features, we double the number of rows remaining. That's pretty good.  \n",
    "Preprocess categorical variables to dummy values."
   ]
  },
  {
   "cell_type": "code",
   "execution_count": 207,
   "metadata": {},
   "outputs": [
    {
     "data": {
      "text/html": [
       "<div>\n",
       "<style scoped>\n",
       "    .dataframe tbody tr th:only-of-type {\n",
       "        vertical-align: middle;\n",
       "    }\n",
       "\n",
       "    .dataframe tbody tr th {\n",
       "        vertical-align: top;\n",
       "    }\n",
       "\n",
       "    .dataframe thead th {\n",
       "        text-align: right;\n",
       "    }\n",
       "</style>\n",
       "<table border=\"1\" class=\"dataframe\">\n",
       "  <thead>\n",
       "    <tr style=\"text-align: right;\">\n",
       "      <th></th>\n",
       "      <th>q7</th>\n",
       "      <th>q15</th>\n",
       "      <th>q16a</th>\n",
       "      <th>q16b</th>\n",
       "      <th>q16c</th>\n",
       "      <th>q16d</th>\n",
       "      <th>q16e</th>\n",
       "      <th>q16f</th>\n",
       "      <th>q16g</th>\n",
       "      <th>q16h</th>\n",
       "      <th>...</th>\n",
       "      <th>q16ab</th>\n",
       "      <th>q16ac</th>\n",
       "      <th>q11</th>\n",
       "      <th>q12</th>\n",
       "      <th>q13</th>\n",
       "      <th>q14</th>\n",
       "      <th>q16s_experienced</th>\n",
       "      <th>q16s_freshman</th>\n",
       "      <th>q16t_no</th>\n",
       "      <th>q16t_yes</th>\n",
       "    </tr>\n",
       "  </thead>\n",
       "  <tbody>\n",
       "    <tr>\n",
       "      <th>1</th>\n",
       "      <td>0.095310</td>\n",
       "      <td>5.030438</td>\n",
       "      <td>0</td>\n",
       "      <td>0.577350</td>\n",
       "      <td>0.002179</td>\n",
       "      <td>4.666667</td>\n",
       "      <td>0.028322</td>\n",
       "      <td>0.471405</td>\n",
       "      <td>2</td>\n",
       "      <td>0</td>\n",
       "      <td>...</td>\n",
       "      <td>0.333333</td>\n",
       "      <td>4.666667</td>\n",
       "      <td>0.0</td>\n",
       "      <td>0.0</td>\n",
       "      <td>100.0</td>\n",
       "      <td>9</td>\n",
       "      <td>1</td>\n",
       "      <td>0</td>\n",
       "      <td>1</td>\n",
       "      <td>0</td>\n",
       "    </tr>\n",
       "    <tr>\n",
       "      <th>3</th>\n",
       "      <td>0.095310</td>\n",
       "      <td>6.219934</td>\n",
       "      <td>1</td>\n",
       "      <td>2.309401</td>\n",
       "      <td>0.000663</td>\n",
       "      <td>3.666667</td>\n",
       "      <td>0.031167</td>\n",
       "      <td>1.885618</td>\n",
       "      <td>3</td>\n",
       "      <td>2</td>\n",
       "      <td>...</td>\n",
       "      <td>0.333333</td>\n",
       "      <td>3.666667</td>\n",
       "      <td>0.0</td>\n",
       "      <td>0.0</td>\n",
       "      <td>100.0</td>\n",
       "      <td>10</td>\n",
       "      <td>1</td>\n",
       "      <td>0</td>\n",
       "      <td>1</td>\n",
       "      <td>0</td>\n",
       "    </tr>\n",
       "    <tr>\n",
       "      <th>5</th>\n",
       "      <td>0.095310</td>\n",
       "      <td>5.950643</td>\n",
       "      <td>0</td>\n",
       "      <td>2.309401</td>\n",
       "      <td>0.002604</td>\n",
       "      <td>3.666667</td>\n",
       "      <td>0.032986</td>\n",
       "      <td>1.885618</td>\n",
       "      <td>6</td>\n",
       "      <td>1</td>\n",
       "      <td>...</td>\n",
       "      <td>1.000000</td>\n",
       "      <td>3.666667</td>\n",
       "      <td>0.0</td>\n",
       "      <td>0.0</td>\n",
       "      <td>100.0</td>\n",
       "      <td>9</td>\n",
       "      <td>1</td>\n",
       "      <td>0</td>\n",
       "      <td>1</td>\n",
       "      <td>0</td>\n",
       "    </tr>\n",
       "    <tr>\n",
       "      <th>6</th>\n",
       "      <td>0.732368</td>\n",
       "      <td>6.013104</td>\n",
       "      <td>5</td>\n",
       "      <td>1.995531</td>\n",
       "      <td>0.002446</td>\n",
       "      <td>3.375000</td>\n",
       "      <td>0.033945</td>\n",
       "      <td>1.866648</td>\n",
       "      <td>2</td>\n",
       "      <td>5</td>\n",
       "      <td>...</td>\n",
       "      <td>1.000000</td>\n",
       "      <td>3.375000</td>\n",
       "      <td>25.0</td>\n",
       "      <td>0.0</td>\n",
       "      <td>75.0</td>\n",
       "      <td>9</td>\n",
       "      <td>1</td>\n",
       "      <td>0</td>\n",
       "      <td>0</td>\n",
       "      <td>1</td>\n",
       "    </tr>\n",
       "    <tr>\n",
       "      <th>9</th>\n",
       "      <td>-0.371064</td>\n",
       "      <td>5.898527</td>\n",
       "      <td>1</td>\n",
       "      <td>2.121320</td>\n",
       "      <td>0.002743</td>\n",
       "      <td>3.500000</td>\n",
       "      <td>0.013717</td>\n",
       "      <td>1.500000</td>\n",
       "      <td>0</td>\n",
       "      <td>0</td>\n",
       "      <td>...</td>\n",
       "      <td>1.000000</td>\n",
       "      <td>3.500000</td>\n",
       "      <td>0.0</td>\n",
       "      <td>50.0</td>\n",
       "      <td>50.0</td>\n",
       "      <td>9</td>\n",
       "      <td>1</td>\n",
       "      <td>0</td>\n",
       "      <td>1</td>\n",
       "      <td>0</td>\n",
       "    </tr>\n",
       "  </tbody>\n",
       "</table>\n",
       "<p>5 rows × 37 columns</p>\n",
       "</div>"
      ],
      "text/plain": [
       "         q7       q15  q16a      q16b      q16c      q16d      q16e      q16f  \\\n",
       "1  0.095310  5.030438     0  0.577350  0.002179  4.666667  0.028322  0.471405   \n",
       "3  0.095310  6.219934     1  2.309401  0.000663  3.666667  0.031167  1.885618   \n",
       "5  0.095310  5.950643     0  2.309401  0.002604  3.666667  0.032986  1.885618   \n",
       "6  0.732368  6.013104     5  1.995531  0.002446  3.375000  0.033945  1.866648   \n",
       "9 -0.371064  5.898527     1  2.121320  0.002743  3.500000  0.013717  1.500000   \n",
       "\n",
       "   q16g  q16h    ...        q16ab     q16ac   q11   q12    q13  q14  \\\n",
       "1     2     0    ...     0.333333  4.666667   0.0   0.0  100.0    9   \n",
       "3     3     2    ...     0.333333  3.666667   0.0   0.0  100.0   10   \n",
       "5     6     1    ...     1.000000  3.666667   0.0   0.0  100.0    9   \n",
       "6     2     5    ...     1.000000  3.375000  25.0   0.0   75.0    9   \n",
       "9     0     0    ...     1.000000  3.500000   0.0  50.0   50.0    9   \n",
       "\n",
       "   q16s_experienced  q16s_freshman  q16t_no  q16t_yes  \n",
       "1                 1              0        1         0  \n",
       "3                 1              0        1         0  \n",
       "5                 1              0        1         0  \n",
       "6                 1              0        0         1  \n",
       "9                 1              0        1         0  \n",
       "\n",
       "[5 rows x 37 columns]"
      ]
     },
     "execution_count": 207,
     "metadata": {},
     "output_type": "execute_result"
    }
   ],
   "source": [
    "x_dummies = pd.get_dummies(x_red[['q16s','q16t']])\n",
    "x_pro = x_red.drop(['q16s','q16t'], axis=1)\n",
    "x_pro = x_pro.join(x_dummies)\n",
    "x_pro = x_pro.dropna(how='any')\n",
    "x_pro.head()"
   ]
  },
  {
   "cell_type": "markdown",
   "metadata": {},
   "source": [
    "Now normalize the remaining features."
   ]
  },
  {
   "cell_type": "code",
   "execution_count": 208,
   "metadata": {},
   "outputs": [
    {
     "data": {
      "text/html": [
       "<div>\n",
       "<style scoped>\n",
       "    .dataframe tbody tr th:only-of-type {\n",
       "        vertical-align: middle;\n",
       "    }\n",
       "\n",
       "    .dataframe tbody tr th {\n",
       "        vertical-align: top;\n",
       "    }\n",
       "\n",
       "    .dataframe thead th {\n",
       "        text-align: right;\n",
       "    }\n",
       "</style>\n",
       "<table border=\"1\" class=\"dataframe\">\n",
       "  <thead>\n",
       "    <tr style=\"text-align: right;\">\n",
       "      <th></th>\n",
       "      <th>0</th>\n",
       "      <th>1</th>\n",
       "      <th>2</th>\n",
       "      <th>3</th>\n",
       "      <th>4</th>\n",
       "      <th>5</th>\n",
       "      <th>6</th>\n",
       "      <th>7</th>\n",
       "      <th>8</th>\n",
       "      <th>9</th>\n",
       "      <th>...</th>\n",
       "      <th>27</th>\n",
       "      <th>28</th>\n",
       "      <th>29</th>\n",
       "      <th>30</th>\n",
       "      <th>31</th>\n",
       "      <th>32</th>\n",
       "      <th>33</th>\n",
       "      <th>34</th>\n",
       "      <th>35</th>\n",
       "      <th>36</th>\n",
       "    </tr>\n",
       "  </thead>\n",
       "  <tbody>\n",
       "    <tr>\n",
       "      <th>0</th>\n",
       "      <td>0.000780</td>\n",
       "      <td>0.003455</td>\n",
       "      <td>0.000000</td>\n",
       "      <td>0.001826</td>\n",
       "      <td>0.001555</td>\n",
       "      <td>0.005281</td>\n",
       "      <td>0.003879</td>\n",
       "      <td>0.001788</td>\n",
       "      <td>0.002774</td>\n",
       "      <td>0.000000</td>\n",
       "      <td>...</td>\n",
       "      <td>0.000449</td>\n",
       "      <td>0.005281</td>\n",
       "      <td>0.000000</td>\n",
       "      <td>0.000000</td>\n",
       "      <td>0.006283</td>\n",
       "      <td>0.004513</td>\n",
       "      <td>0.004459</td>\n",
       "      <td>0.0</td>\n",
       "      <td>0.004538</td>\n",
       "      <td>0.000000</td>\n",
       "    </tr>\n",
       "    <tr>\n",
       "      <th>1</th>\n",
       "      <td>0.000780</td>\n",
       "      <td>0.004271</td>\n",
       "      <td>0.002112</td>\n",
       "      <td>0.007302</td>\n",
       "      <td>0.000473</td>\n",
       "      <td>0.004149</td>\n",
       "      <td>0.004268</td>\n",
       "      <td>0.007150</td>\n",
       "      <td>0.004162</td>\n",
       "      <td>0.001891</td>\n",
       "      <td>...</td>\n",
       "      <td>0.000449</td>\n",
       "      <td>0.004149</td>\n",
       "      <td>0.000000</td>\n",
       "      <td>0.000000</td>\n",
       "      <td>0.006283</td>\n",
       "      <td>0.005014</td>\n",
       "      <td>0.004459</td>\n",
       "      <td>0.0</td>\n",
       "      <td>0.004538</td>\n",
       "      <td>0.000000</td>\n",
       "    </tr>\n",
       "    <tr>\n",
       "      <th>2</th>\n",
       "      <td>0.000780</td>\n",
       "      <td>0.004086</td>\n",
       "      <td>0.000000</td>\n",
       "      <td>0.007302</td>\n",
       "      <td>0.001859</td>\n",
       "      <td>0.004149</td>\n",
       "      <td>0.004517</td>\n",
       "      <td>0.007150</td>\n",
       "      <td>0.008323</td>\n",
       "      <td>0.000946</td>\n",
       "      <td>...</td>\n",
       "      <td>0.001346</td>\n",
       "      <td>0.004149</td>\n",
       "      <td>0.000000</td>\n",
       "      <td>0.000000</td>\n",
       "      <td>0.006283</td>\n",
       "      <td>0.004513</td>\n",
       "      <td>0.004459</td>\n",
       "      <td>0.0</td>\n",
       "      <td>0.004538</td>\n",
       "      <td>0.000000</td>\n",
       "    </tr>\n",
       "    <tr>\n",
       "      <th>3</th>\n",
       "      <td>0.005997</td>\n",
       "      <td>0.004129</td>\n",
       "      <td>0.010558</td>\n",
       "      <td>0.006310</td>\n",
       "      <td>0.001746</td>\n",
       "      <td>0.003819</td>\n",
       "      <td>0.004649</td>\n",
       "      <td>0.007078</td>\n",
       "      <td>0.002774</td>\n",
       "      <td>0.004728</td>\n",
       "      <td>...</td>\n",
       "      <td>0.001346</td>\n",
       "      <td>0.003819</td>\n",
       "      <td>0.003532</td>\n",
       "      <td>0.000000</td>\n",
       "      <td>0.004712</td>\n",
       "      <td>0.004513</td>\n",
       "      <td>0.004459</td>\n",
       "      <td>0.0</td>\n",
       "      <td>0.000000</td>\n",
       "      <td>0.013825</td>\n",
       "    </tr>\n",
       "    <tr>\n",
       "      <th>4</th>\n",
       "      <td>-0.003038</td>\n",
       "      <td>0.004051</td>\n",
       "      <td>0.002112</td>\n",
       "      <td>0.006707</td>\n",
       "      <td>0.001958</td>\n",
       "      <td>0.003961</td>\n",
       "      <td>0.001879</td>\n",
       "      <td>0.005688</td>\n",
       "      <td>0.000000</td>\n",
       "      <td>0.000000</td>\n",
       "      <td>...</td>\n",
       "      <td>0.001346</td>\n",
       "      <td>0.003961</td>\n",
       "      <td>0.000000</td>\n",
       "      <td>0.007333</td>\n",
       "      <td>0.003142</td>\n",
       "      <td>0.004513</td>\n",
       "      <td>0.004459</td>\n",
       "      <td>0.0</td>\n",
       "      <td>0.004538</td>\n",
       "      <td>0.000000</td>\n",
       "    </tr>\n",
       "  </tbody>\n",
       "</table>\n",
       "<p>5 rows × 37 columns</p>\n",
       "</div>"
      ],
      "text/plain": [
       "         0         1         2         3         4         5         6   \\\n",
       "0  0.000780  0.003455  0.000000  0.001826  0.001555  0.005281  0.003879   \n",
       "1  0.000780  0.004271  0.002112  0.007302  0.000473  0.004149  0.004268   \n",
       "2  0.000780  0.004086  0.000000  0.007302  0.001859  0.004149  0.004517   \n",
       "3  0.005997  0.004129  0.010558  0.006310  0.001746  0.003819  0.004649   \n",
       "4 -0.003038  0.004051  0.002112  0.006707  0.001958  0.003961  0.001879   \n",
       "\n",
       "         7         8         9     ...           27        28        29  \\\n",
       "0  0.001788  0.002774  0.000000    ...     0.000449  0.005281  0.000000   \n",
       "1  0.007150  0.004162  0.001891    ...     0.000449  0.004149  0.000000   \n",
       "2  0.007150  0.008323  0.000946    ...     0.001346  0.004149  0.000000   \n",
       "3  0.007078  0.002774  0.004728    ...     0.001346  0.003819  0.003532   \n",
       "4  0.005688  0.000000  0.000000    ...     0.001346  0.003961  0.000000   \n",
       "\n",
       "         30        31        32        33   34        35        36  \n",
       "0  0.000000  0.006283  0.004513  0.004459  0.0  0.004538  0.000000  \n",
       "1  0.000000  0.006283  0.005014  0.004459  0.0  0.004538  0.000000  \n",
       "2  0.000000  0.006283  0.004513  0.004459  0.0  0.004538  0.000000  \n",
       "3  0.000000  0.004712  0.004513  0.004459  0.0  0.000000  0.013825  \n",
       "4  0.007333  0.003142  0.004513  0.004459  0.0  0.004538  0.000000  \n",
       "\n",
       "[5 rows x 37 columns]"
      ]
     },
     "execution_count": 208,
     "metadata": {},
     "output_type": "execute_result"
    }
   ],
   "source": [
    "x_norm = pd.DataFrame(data=normalize(x_pro, axis=0))\n",
    "x_norm.head()"
   ]
  },
  {
   "cell_type": "markdown",
   "metadata": {},
   "source": [
    "#### 7.a ####\n",
    "**Question**: Using the silhouette metric, what was the best k?  \n",
    "\n",
    "**Answer**:  "
   ]
  },
  {
   "cell_type": "code",
   "execution_count": 11,
   "metadata": {},
   "outputs": [
    {
     "ename": "NameError",
     "evalue": "name 'x_norm' is not defined",
     "output_type": "error",
     "traceback": [
      "\u001b[0;31m---------------------------------------------------------------------------\u001b[0m",
      "\u001b[0;31mNameError\u001b[0m                                 Traceback (most recent call last)",
      "\u001b[0;32m<ipython-input-11-6d31257ca7cb>\u001b[0m in \u001b[0;36m<module>\u001b[0;34m()\u001b[0m\n\u001b[0;32m----> 1\u001b[0;31m \u001b[0mx_test\u001b[0m \u001b[0;34m=\u001b[0m \u001b[0mtrain_test_split\u001b[0m\u001b[0;34m(\u001b[0m\u001b[0mnp\u001b[0m\u001b[0;34m.\u001b[0m\u001b[0marray\u001b[0m\u001b[0;34m(\u001b[0m\u001b[0mx_norm\u001b[0m\u001b[0;34m)\u001b[0m\u001b[0;34m,\u001b[0m \u001b[0mtest_size\u001b[0m\u001b[0;34m=\u001b[0m\u001b[0;36m0.2\u001b[0m\u001b[0;34m)\u001b[0m\u001b[0;34m[\u001b[0m\u001b[0;36m1\u001b[0m\u001b[0;34m]\u001b[0m\u001b[0;34m\u001b[0m\u001b[0m\n\u001b[0m\u001b[1;32m      2\u001b[0m \u001b[0mlen\u001b[0m\u001b[0;34m(\u001b[0m\u001b[0mx_test\u001b[0m\u001b[0;34m)\u001b[0m\u001b[0;34m\u001b[0m\u001b[0m\n",
      "\u001b[0;31mNameError\u001b[0m: name 'x_norm' is not defined"
     ]
    }
   ],
   "source": [
    "x_test = train_test_split(np.array(x_norm), test_size=0.2)[1]\n",
    "len(x_test)"
   ]
  },
  {
   "cell_type": "code",
   "execution_count": 215,
   "metadata": {},
   "outputs": [
    {
     "name": "stdout",
     "output_type": "stream",
     "text": [
      "The maximum score is  0.0683044857299888  at  59  clusters.\n"
     ]
    }
   ],
   "source": [
    "results = []\n",
    "for i in range(2,9):\n",
    "    kmeans = KMeans(n_clusters=i, random_state=0).fit(x_test)\n",
    "    score = silhouette_score(x_test, kmeans.labels_)\n",
    "    results.append((i, score))\n",
    "\n",
    "results = pd.DataFrame(results).set_index(0)[1]\n",
    "print ('The maximum score is ',results.max(),' at ',results.idxmax(),' clusters.')\n",
    "best_k = results.idxmax()"
   ]
  },
  {
   "cell_type": "markdown",
   "metadata": {},
   "source": [
    "#### 7.b ####\n",
    "**Question**: Using the the sum of within cluster variance metric with the elbow method what was the best k?  \n",
    "**Answer**:  "
   ]
  },
  {
   "cell_type": "code",
   "execution_count": 6,
   "metadata": {},
   "outputs": [
    {
     "ename": "NameError",
     "evalue": "name 'x_test' is not defined",
     "output_type": "error",
     "traceback": [
      "\u001b[0;31m---------------------------------------------------------------------------\u001b[0m",
      "\u001b[0;31mNameError\u001b[0m                                 Traceback (most recent call last)",
      "\u001b[0;32m<ipython-input-6-464cfc0ce893>\u001b[0m in \u001b[0;36m<module>\u001b[0;34m()\u001b[0m\n\u001b[1;32m      4\u001b[0m \u001b[0mresults\u001b[0m \u001b[0;34m=\u001b[0m \u001b[0;34m[\u001b[0m\u001b[0;34m]\u001b[0m\u001b[0;34m\u001b[0m\u001b[0m\n\u001b[1;32m      5\u001b[0m \u001b[0;32mfor\u001b[0m \u001b[0mk\u001b[0m \u001b[0;32min\u001b[0m \u001b[0mrange\u001b[0m\u001b[0;34m(\u001b[0m\u001b[0;36m2\u001b[0m\u001b[0;34m,\u001b[0m\u001b[0;36m9\u001b[0m\u001b[0;34m)\u001b[0m\u001b[0;34m:\u001b[0m\u001b[0;34m\u001b[0m\u001b[0m\n\u001b[0;32m----> 6\u001b[0;31m     \u001b[0mkmeans\u001b[0m \u001b[0;34m=\u001b[0m \u001b[0mKMeans\u001b[0m\u001b[0;34m(\u001b[0m\u001b[0mn_clusters\u001b[0m\u001b[0;34m=\u001b[0m\u001b[0mk\u001b[0m\u001b[0;34m,\u001b[0m \u001b[0mrandom_state\u001b[0m\u001b[0;34m=\u001b[0m\u001b[0;36m0\u001b[0m\u001b[0;34m)\u001b[0m\u001b[0;34m.\u001b[0m\u001b[0mfit\u001b[0m\u001b[0;34m(\u001b[0m\u001b[0mx_test\u001b[0m\u001b[0;34m)\u001b[0m\u001b[0;34m\u001b[0m\u001b[0m\n\u001b[0m\u001b[1;32m      7\u001b[0m     \u001b[0merr\u001b[0m \u001b[0;34m=\u001b[0m \u001b[0;36m0\u001b[0m\u001b[0;34m\u001b[0m\u001b[0m\n\u001b[1;32m      8\u001b[0m     \u001b[0;32mfor\u001b[0m \u001b[0mp\u001b[0m \u001b[0;32min\u001b[0m \u001b[0mrange\u001b[0m\u001b[0;34m(\u001b[0m\u001b[0;36m0\u001b[0m\u001b[0;34m,\u001b[0m \u001b[0mk\u001b[0m\u001b[0;34m)\u001b[0m\u001b[0;34m:\u001b[0m\u001b[0;34m\u001b[0m\u001b[0m\n",
      "\u001b[0;31mNameError\u001b[0m: name 'x_test' is not defined"
     ]
    }
   ],
   "source": [
    "import scipy\n",
    "from sklearn.cluster import KMeans\n",
    "\n",
    "results = []\n",
    "for k in range(2,9):\n",
    "    kmeans = KMeans(n_clusters=k, random_state=0).fit(x_test)\n",
    "    err = 0\n",
    "    for p in range(0, k):\n",
    "        print(kmeans.cluster_centers_)\n",
    "        \n",
    "        #scipy.spatial.distance.euclidean(A, B)\n",
    "        \n",
    "#     \n",
    "#     score = silhouette_score(x_test, kmeans.labels_)\n",
    "#     results.append((i, score))\n",
    "\n",
    "# results = pd.DataFrame(results).set_index(0)[1]\n",
    "# print ('The maximum score is ',results.max(),' at ',results.idxmax(),' clusters.')\n",
    "# best_k = results.idxmax()"
   ]
  },
  {
   "cell_type": "code",
   "execution_count": null,
   "metadata": {},
   "outputs": [],
   "source": [
    "\n"
   ]
  },
  {
   "cell_type": "code",
   "execution_count": null,
   "metadata": {},
   "outputs": [],
   "source": []
  },
  {
   "cell_type": "markdown",
   "metadata": {},
   "source": [
    "### Question 8 ###\n",
    "For this question please come up with your own question about this dataset and using a clustering technique as part of your method of answering it. This question answer should be submitted to a bCourses assignment in the form a pdf. This report is expected to be between 2 and 3 pages. It is meant to give you practice writing up your results. The report should have the following sections:\n",
    "\n",
    "\n",
    "RESEARCH QUESTION: Describe what it is you want to ask of this dataset\n",
    "                 (the question can not be the same as question 9)\n",
    "                 \n",
    "                 \n",
    "DATASET: describe the yelp_reviews to yelp_reviewers transformation. have a subsection called FEATURES SELECTED: briefly describe the features from the dataset you choose (at least 1 features should be from a q16)\n",
    "\n",
    "\n",
    "METHODS: Briefly describe the methods you used (such as k-means) and why you used them\n",
    "\n",
    "\n",
    "RESULTS: Here you can tell the story of how you investigated the question (plots are always nice) and the conclusions you drew.\n",
    "\n",
    "\n",
    "NOTE: If you are hypothesizing that clusters might be formed with respect to a particular attribute, consider withholding that attribute from clustering and then looking to see what the mean value or distribution of that attribute is among the formed clusters."
   ]
  },
  {
   "cell_type": "code",
   "execution_count": null,
   "metadata": {},
   "outputs": [],
   "source": []
  },
  {
   "cell_type": "code",
   "execution_count": null,
   "metadata": {},
   "outputs": [],
   "source": []
  },
  {
   "cell_type": "markdown",
   "metadata": {},
   "source": [
    "## Bonus question (+15%) - Reviewer overlap:\n",
    "Create a dataset with f reviewers as the rows and business_ids as the columns (there are a lot) where the feature value is is ‘1’ if the reviewer has written a review for that business and ‘0’ if not. Use the methods described in this assignment to answer the question of how much overlap of businesses reviewed exists among reviewers in this dataset. Append this answer to your question 8 document."
   ]
  },
  {
   "cell_type": "code",
   "execution_count": null,
   "metadata": {},
   "outputs": [],
   "source": []
  }
 ],
 "metadata": {
  "anaconda-cloud": {},
  "kernelspec": {
   "display_name": "Python 3",
   "language": "python",
   "name": "python3"
  },
  "language_info": {
   "codemirror_mode": {
    "name": "ipython",
    "version": 3
   },
   "file_extension": ".py",
   "mimetype": "text/x-python",
   "name": "python",
   "nbconvert_exporter": "python",
   "pygments_lexer": "ipython3",
   "version": "3.6.4"
  }
 },
 "nbformat": 4,
 "nbformat_minor": 1
}
