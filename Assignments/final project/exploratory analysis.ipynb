{
 "cells": [
  {
   "cell_type": "markdown",
   "metadata": {
    "_cell_guid": "b1076dfc-b9ad-4769-8c92-a6c4dae69d19",
    "_uuid": "8f2839f25d086af736a60e9eeb907d3b93b6e0e5"
   },
   "source": [
    "# More To Come. Stay Tuned. !!\n",
    "If there are any suggestions/changes you would like to see in the Kernel please let me know :). Appreciate every ounce of help!\n",
    "\n",
    "**This notebook will always be a work in progress.** Please leave any comments about further improvements to the notebook! Any feedback or constructive criticism is greatly appreciated!. **If you like it or it helps you , you can upvote and/or leave a comment :).**"
   ]
  },
  {
   "cell_type": "code",
   "execution_count": 5,
   "metadata": {
    "_cell_guid": "79c7e3d0-c299-4dcb-8224-4455121ee9b0",
    "_uuid": "d629ff2d2480ee46fbb7e2d37f6b5fab8052498a"
   },
   "outputs": [],
   "source": [
    "import pandas as pd \n",
    "import numpy as np\n",
    "import matplotlib\n",
    "import matplotlib.pyplot as plt # for plotting\n",
    "import seaborn as sns # for making plots with seaborn\n",
    "color = sns.color_palette()\n",
    "\n",
    "# plotly keeps dying\n",
    "#import plotly.graph_objs as go\n",
    "#import plotly.figure_factory as ff\n",
    "#import plotly.offline as offline\n",
    "#import plotly.tools as tls\n",
    "import squarify\n",
    "#from mpl_toolkits.basemap import Basemap\n",
    "from numpy import array\n",
    "from matplotlib import cm\n",
    "\n",
    "# Supress unnecessary warnings so that presentation looks clean\n",
    "import warnings\n",
    "warnings.filterwarnings(\"ignore\")\n",
    "\n",
    "# Print all rows and columns\n",
    "pd.set_option('display.max_columns', None)\n",
    "pd.set_option('display.max_rows', None)"
   ]
  },
  {
   "cell_type": "code",
   "execution_count": 9,
   "metadata": {
    "_cell_guid": "9b3799b9-fa1d-4bd7-98b1-4a174b9e6277",
    "_uuid": "2b5cbac27d5877c8be6d598f815b7e5ceeee658c"
   },
   "outputs": [
    {
     "ename": "FileNotFoundError",
     "evalue": "File b'/data/hmda_lar.csv' does not exist",
     "output_type": "error",
     "traceback": [
      "\u001b[0;31m---------------------------------------------------------------------------\u001b[0m",
      "\u001b[0;31mFileNotFoundError\u001b[0m                         Traceback (most recent call last)",
      "\u001b[0;32m<ipython-input-9-80cd7ffb5d94>\u001b[0m in \u001b[0;36m<module>\u001b[0;34m()\u001b[0m\n\u001b[0;32m----> 1\u001b[0;31m \u001b[0mloans_data\u001b[0m \u001b[0;34m=\u001b[0m \u001b[0mpd\u001b[0m\u001b[0;34m.\u001b[0m\u001b[0mread_csv\u001b[0m\u001b[0;34m(\u001b[0m\u001b[0;34m\"/data/hmda_lar.csv\"\u001b[0m\u001b[0;34m)\u001b[0m\u001b[0;34m\u001b[0m\u001b[0m\n\u001b[0m",
      "\u001b[0;32m~/Documents/WebDev/DataMining/.dma/lib/python3.6/site-packages/pandas/io/parsers.py\u001b[0m in \u001b[0;36mparser_f\u001b[0;34m(filepath_or_buffer, sep, delimiter, header, names, index_col, usecols, squeeze, prefix, mangle_dupe_cols, dtype, engine, converters, true_values, false_values, skipinitialspace, skiprows, nrows, na_values, keep_default_na, na_filter, verbose, skip_blank_lines, parse_dates, infer_datetime_format, keep_date_col, date_parser, dayfirst, iterator, chunksize, compression, thousands, decimal, lineterminator, quotechar, quoting, escapechar, comment, encoding, dialect, tupleize_cols, error_bad_lines, warn_bad_lines, skipfooter, skip_footer, doublequote, delim_whitespace, as_recarray, compact_ints, use_unsigned, low_memory, buffer_lines, memory_map, float_precision)\u001b[0m\n\u001b[1;32m    707\u001b[0m                     skip_blank_lines=skip_blank_lines)\n\u001b[1;32m    708\u001b[0m \u001b[0;34m\u001b[0m\u001b[0m\n\u001b[0;32m--> 709\u001b[0;31m         \u001b[0;32mreturn\u001b[0m \u001b[0m_read\u001b[0m\u001b[0;34m(\u001b[0m\u001b[0mfilepath_or_buffer\u001b[0m\u001b[0;34m,\u001b[0m \u001b[0mkwds\u001b[0m\u001b[0;34m)\u001b[0m\u001b[0;34m\u001b[0m\u001b[0m\n\u001b[0m\u001b[1;32m    710\u001b[0m \u001b[0;34m\u001b[0m\u001b[0m\n\u001b[1;32m    711\u001b[0m     \u001b[0mparser_f\u001b[0m\u001b[0;34m.\u001b[0m\u001b[0m__name__\u001b[0m \u001b[0;34m=\u001b[0m \u001b[0mname\u001b[0m\u001b[0;34m\u001b[0m\u001b[0m\n",
      "\u001b[0;32m~/Documents/WebDev/DataMining/.dma/lib/python3.6/site-packages/pandas/io/parsers.py\u001b[0m in \u001b[0;36m_read\u001b[0;34m(filepath_or_buffer, kwds)\u001b[0m\n\u001b[1;32m    447\u001b[0m \u001b[0;34m\u001b[0m\u001b[0m\n\u001b[1;32m    448\u001b[0m     \u001b[0;31m# Create the parser.\u001b[0m\u001b[0;34m\u001b[0m\u001b[0;34m\u001b[0m\u001b[0m\n\u001b[0;32m--> 449\u001b[0;31m     \u001b[0mparser\u001b[0m \u001b[0;34m=\u001b[0m \u001b[0mTextFileReader\u001b[0m\u001b[0;34m(\u001b[0m\u001b[0mfilepath_or_buffer\u001b[0m\u001b[0;34m,\u001b[0m \u001b[0;34m**\u001b[0m\u001b[0mkwds\u001b[0m\u001b[0;34m)\u001b[0m\u001b[0;34m\u001b[0m\u001b[0m\n\u001b[0m\u001b[1;32m    450\u001b[0m \u001b[0;34m\u001b[0m\u001b[0m\n\u001b[1;32m    451\u001b[0m     \u001b[0;32mif\u001b[0m \u001b[0mchunksize\u001b[0m \u001b[0;32mor\u001b[0m \u001b[0miterator\u001b[0m\u001b[0;34m:\u001b[0m\u001b[0;34m\u001b[0m\u001b[0m\n",
      "\u001b[0;32m~/Documents/WebDev/DataMining/.dma/lib/python3.6/site-packages/pandas/io/parsers.py\u001b[0m in \u001b[0;36m__init__\u001b[0;34m(self, f, engine, **kwds)\u001b[0m\n\u001b[1;32m    816\u001b[0m             \u001b[0mself\u001b[0m\u001b[0;34m.\u001b[0m\u001b[0moptions\u001b[0m\u001b[0;34m[\u001b[0m\u001b[0;34m'has_index_names'\u001b[0m\u001b[0;34m]\u001b[0m \u001b[0;34m=\u001b[0m \u001b[0mkwds\u001b[0m\u001b[0;34m[\u001b[0m\u001b[0;34m'has_index_names'\u001b[0m\u001b[0;34m]\u001b[0m\u001b[0;34m\u001b[0m\u001b[0m\n\u001b[1;32m    817\u001b[0m \u001b[0;34m\u001b[0m\u001b[0m\n\u001b[0;32m--> 818\u001b[0;31m         \u001b[0mself\u001b[0m\u001b[0;34m.\u001b[0m\u001b[0m_make_engine\u001b[0m\u001b[0;34m(\u001b[0m\u001b[0mself\u001b[0m\u001b[0;34m.\u001b[0m\u001b[0mengine\u001b[0m\u001b[0;34m)\u001b[0m\u001b[0;34m\u001b[0m\u001b[0m\n\u001b[0m\u001b[1;32m    819\u001b[0m \u001b[0;34m\u001b[0m\u001b[0m\n\u001b[1;32m    820\u001b[0m     \u001b[0;32mdef\u001b[0m \u001b[0mclose\u001b[0m\u001b[0;34m(\u001b[0m\u001b[0mself\u001b[0m\u001b[0;34m)\u001b[0m\u001b[0;34m:\u001b[0m\u001b[0;34m\u001b[0m\u001b[0m\n",
      "\u001b[0;32m~/Documents/WebDev/DataMining/.dma/lib/python3.6/site-packages/pandas/io/parsers.py\u001b[0m in \u001b[0;36m_make_engine\u001b[0;34m(self, engine)\u001b[0m\n\u001b[1;32m   1047\u001b[0m     \u001b[0;32mdef\u001b[0m \u001b[0m_make_engine\u001b[0m\u001b[0;34m(\u001b[0m\u001b[0mself\u001b[0m\u001b[0;34m,\u001b[0m \u001b[0mengine\u001b[0m\u001b[0;34m=\u001b[0m\u001b[0;34m'c'\u001b[0m\u001b[0;34m)\u001b[0m\u001b[0;34m:\u001b[0m\u001b[0;34m\u001b[0m\u001b[0m\n\u001b[1;32m   1048\u001b[0m         \u001b[0;32mif\u001b[0m \u001b[0mengine\u001b[0m \u001b[0;34m==\u001b[0m \u001b[0;34m'c'\u001b[0m\u001b[0;34m:\u001b[0m\u001b[0;34m\u001b[0m\u001b[0m\n\u001b[0;32m-> 1049\u001b[0;31m             \u001b[0mself\u001b[0m\u001b[0;34m.\u001b[0m\u001b[0m_engine\u001b[0m \u001b[0;34m=\u001b[0m \u001b[0mCParserWrapper\u001b[0m\u001b[0;34m(\u001b[0m\u001b[0mself\u001b[0m\u001b[0;34m.\u001b[0m\u001b[0mf\u001b[0m\u001b[0;34m,\u001b[0m \u001b[0;34m**\u001b[0m\u001b[0mself\u001b[0m\u001b[0;34m.\u001b[0m\u001b[0moptions\u001b[0m\u001b[0;34m)\u001b[0m\u001b[0;34m\u001b[0m\u001b[0m\n\u001b[0m\u001b[1;32m   1050\u001b[0m         \u001b[0;32melse\u001b[0m\u001b[0;34m:\u001b[0m\u001b[0;34m\u001b[0m\u001b[0m\n\u001b[1;32m   1051\u001b[0m             \u001b[0;32mif\u001b[0m \u001b[0mengine\u001b[0m \u001b[0;34m==\u001b[0m \u001b[0;34m'python'\u001b[0m\u001b[0;34m:\u001b[0m\u001b[0;34m\u001b[0m\u001b[0m\n",
      "\u001b[0;32m~/Documents/WebDev/DataMining/.dma/lib/python3.6/site-packages/pandas/io/parsers.py\u001b[0m in \u001b[0;36m__init__\u001b[0;34m(self, src, **kwds)\u001b[0m\n\u001b[1;32m   1693\u001b[0m         \u001b[0mkwds\u001b[0m\u001b[0;34m[\u001b[0m\u001b[0;34m'allow_leading_cols'\u001b[0m\u001b[0;34m]\u001b[0m \u001b[0;34m=\u001b[0m \u001b[0mself\u001b[0m\u001b[0;34m.\u001b[0m\u001b[0mindex_col\u001b[0m \u001b[0;32mis\u001b[0m \u001b[0;32mnot\u001b[0m \u001b[0;32mFalse\u001b[0m\u001b[0;34m\u001b[0m\u001b[0m\n\u001b[1;32m   1694\u001b[0m \u001b[0;34m\u001b[0m\u001b[0m\n\u001b[0;32m-> 1695\u001b[0;31m         \u001b[0mself\u001b[0m\u001b[0;34m.\u001b[0m\u001b[0m_reader\u001b[0m \u001b[0;34m=\u001b[0m \u001b[0mparsers\u001b[0m\u001b[0;34m.\u001b[0m\u001b[0mTextReader\u001b[0m\u001b[0;34m(\u001b[0m\u001b[0msrc\u001b[0m\u001b[0;34m,\u001b[0m \u001b[0;34m**\u001b[0m\u001b[0mkwds\u001b[0m\u001b[0;34m)\u001b[0m\u001b[0;34m\u001b[0m\u001b[0m\n\u001b[0m\u001b[1;32m   1696\u001b[0m \u001b[0;34m\u001b[0m\u001b[0m\n\u001b[1;32m   1697\u001b[0m         \u001b[0;31m# XXX\u001b[0m\u001b[0;34m\u001b[0m\u001b[0;34m\u001b[0m\u001b[0m\n",
      "\u001b[0;32mpandas/_libs/parsers.pyx\u001b[0m in \u001b[0;36mpandas._libs.parsers.TextReader.__cinit__\u001b[0;34m()\u001b[0m\n",
      "\u001b[0;32mpandas/_libs/parsers.pyx\u001b[0m in \u001b[0;36mpandas._libs.parsers.TextReader._setup_parser_source\u001b[0;34m()\u001b[0m\n",
      "\u001b[0;31mFileNotFoundError\u001b[0m: File b'/data/hmda_lar.csv' does not exist"
     ]
    }
   ],
   "source": [
    "loans_data = pd.read_csv(\"/data/hmda_lar.csv\")"
   ]
  },
  {
   "cell_type": "code",
   "execution_count": null,
   "metadata": {},
   "outputs": [],
   "source": [
    "#für datenset folgende Kategorien Variablen: Kategorien die vorkommen: \n",
    "\n",
    "#Purchaser Type Name - (C)\n",
    "#Property Type Name - (C)\n",
    "#Preapproval Name - (C)\n",
    "#Loan Purpose Name - (C)\n",
    "#HOEPA Status - (C)\n",
    "#Co-Applicant Sex - (C)\n",
    "#Co-applicant Race - (C)\n",
    "#Applicant Sex - (C)\n",
    "#Applicant Race - (C)```\n",
    "\n",
    "purchaser = df[['state_code']].drop_duplicates()\n",
    "purchaser.values\n",
    "\n"
   ]
  },
  {
   "cell_type": "code",
   "execution_count": null,
   "metadata": {
    "_cell_guid": "5fe23e1a-4d1d-4892-be10-142c83077947",
    "_uuid": "1a5fb0a68cb523a98939cf05ceda402a05b331bb",
    "collapsed": true
   },
   "outputs": [],
   "source": [
    "print(\"Size of loans_data\", loans_data.shape)"
   ]
  },
  {
   "cell_type": "code",
   "execution_count": null,
   "metadata": {
    "_cell_guid": "0280d622-cff4-4bf5-988e-e4b9b10b716e",
    "_uuid": "3d6e73595e36c7884cb6b701cc2b7bf9506b160c",
    "collapsed": true
   },
   "outputs": [],
   "source": [
    "loans_data.head()"
   ]
  },
  {
   "cell_type": "code",
   "execution_count": null,
   "metadata": {
    "_cell_guid": "a0aacc42-681b-4954-8f41-c761094a0c90",
    "_uuid": "c6109ccca96106b6af877e6f91f145ca13a913d0",
    "collapsed": true
   },
   "outputs": [],
   "source": [
    "loans_data.info()"
   ]
  },
  {
   "cell_type": "code",
   "execution_count": null,
   "metadata": {
    "_cell_guid": "11e8af32-9b87-4c82-a28e-90f3834e3b13",
    "_uuid": "4064cadec31ce146004f6718ec8fcf4b9441d5e5",
    "collapsed": true
   },
   "outputs": [],
   "source": [
    "loans_data.describe()"
   ]
  },
  {
   "cell_type": "code",
   "execution_count": null,
   "metadata": {
    "_cell_guid": "d2686f16-b5c3-4058-8032-4fca0e35184c",
    "_uuid": "5457c9a2ca313a13e471cd946fc52346a9e979d7",
    "collapsed": true
   },
   "outputs": [],
   "source": [
    "loans_data.describe(include=[\"O\"])"
   ]
  },
  {
   "cell_type": "markdown",
   "metadata": {
    "_cell_guid": "e9bd7342-7173-49a5-b675-ebb0b11b4b3f",
    "_uuid": "27ed3f2221b0d633190289d3f6d8483b5513fd16"
   },
   "source": [
    "**Missing data in loans data**"
   ]
  },
  {
   "cell_type": "code",
   "execution_count": null,
   "metadata": {
    "_cell_guid": "9028dc88-35c3-4fe8-afa1-f945b38506f8",
    "_uuid": "c94c91ac5d776b6cfdb0621adf5ebac55c2ba901",
    "collapsed": true
   },
   "outputs": [],
   "source": [
    "# checking missing data in loans  data \n",
    "total = loans_data.isnull().sum().sort_values(ascending = False)\n",
    "percent = (loans_data.isnull().sum()/loans_data.isnull().count()).sort_values(ascending = False)\n",
    "missing_loans_data  = pd.concat([total, percent], axis=1, keys=['Total', 'Percent'])\n",
    "missing_loans_data.head(15)"
   ]
  },
  {
   "cell_type": "code",
   "execution_count": null,
   "metadata": {
    "_cell_guid": "f01b878b-6e14-4222-9278-53dfb03a60b6",
    "_uuid": "a5361e0e9503eb8b32603f9e3c3bf96d100dd2a7",
    "collapsed": true
   },
   "outputs": [],
   "source": [
    "# hist_data = [loans_data.loan_amount_000s.dropna(), loans_data.hud_median_family_income.dropna(), loans_data.applicant_income_000s.dropna()]\n",
    "\n",
    "# group_labels = ['Group 1', 'Group 2', 'Group 3']\n",
    "# colors = ['#A56CC1', '#A6ACEC', '#63F5EF']\n",
    "\n",
    "# # Create distplot with curve_type set to 'normal'\n",
    "# fig = ff.create_distplot(hist_data, group_labels, colors=colors,\n",
    "#                          bin_size=.2, show_rug=False)\n",
    "\n",
    "# # Add title\n",
    "# fig['layout'].update(title='Hist and Curve Plot')\n",
    "\n",
    "# # Plot!\n",
    "# py.iplot(fig, filename='Hist and Curve')"
   ]
  },
  {
   "cell_type": "markdown",
   "metadata": {
    "_cell_guid": "05292478-ebc8-48c6-8df7-2383768f67f1",
    "_uuid": "f54ade05e82615eb126b38efb72b6200147ea2a6"
   },
   "source": [
    "## Purpose of taking loan"
   ]
  },
  {
   "cell_type": "code",
   "execution_count": null,
   "metadata": {
    "_cell_guid": "e6922a42-be91-460e-8fd2-4e37a90ebdb6",
    "_uuid": "4218264fd6d4c9444fb2d15b3e383bddce6af3c3",
    "collapsed": true
   },
   "outputs": [],
   "source": [
    "temp = loans_data['loan_purpose_name'].value_counts()\n",
    "labels = temp.index\n",
    "sizes = (temp / temp.sum())*100\n",
    "trace = go.Pie(labels=labels, values=sizes, hoverinfo='label+percent')\n",
    "layout = go.Layout(title='Purpose of taking loan')\n",
    "data = [trace]\n",
    "fig = go.Figure(data=data, layout=layout)\n",
    "py.iplot(fig)"
   ]
  },
  {
   "cell_type": "markdown",
   "metadata": {
    "_cell_guid": "a0eef70e-5969-47a3-8a5b-18d228f9a2ba",
    "_uuid": "c1066ebb953ffa2c994f358925baefc8d20fbc87"
   },
   "source": [
    "* Mostly loan is taken for Refinancing."
   ]
  },
  {
   "cell_type": "markdown",
   "metadata": {
    "_cell_guid": "7a5dd953-3b61-48b1-80de-34e105621b9d",
    "_uuid": "f77313a03486998f4aace99a79d2c87d28db0426"
   },
   "source": [
    "## Types of loan"
   ]
  },
  {
   "cell_type": "code",
   "execution_count": null,
   "metadata": {
    "_cell_guid": "c8cfa8bc-b53d-4a57-8647-09a756942103",
    "_uuid": "22fdcd2b564e57fd1cc13b25c08430d8d4c84b49",
    "collapsed": true
   },
   "outputs": [],
   "source": [
    "temp = loans_data['loan_type_name'].value_counts()\n",
    "labels = temp.index\n",
    "sizes = (temp / temp.sum())*100\n",
    "trace = go.Pie(labels=labels, values=sizes, hoverinfo='label+percent')\n",
    "layout = go.Layout(title='Types of loan')\n",
    "data = [trace]\n",
    "fig = go.Figure(data=data, layout=layout)\n",
    "py.iplot(fig)"
   ]
  },
  {
   "cell_type": "code",
   "execution_count": null,
   "metadata": {
    "_cell_guid": "5cbd10a1-71e1-4a81-be9e-7f565bede7e6",
    "_uuid": "aa96f82e379d5a9bbce97dd4122dc00d39120f07",
    "collapsed": true,
    "scrolled": true
   },
   "outputs": [],
   "source": [
    "percentages = round(loans_data.purchaser_type_name.value_counts() / len(loans_data.purchaser_type_name) * 100, 2)[:13]\n",
    "trace = go.Pie(labels=percentages.keys(), values=percentages.values, hoverinfo='label+percent', \n",
    "                textfont=dict(size=18, color='#000000'))\n",
    "data = [trace]\n",
    "layout = go.Layout(width=800, height=800, title='Types of institution purchasing the loan',titlefont= dict(size=20), \n",
    "                   legend=dict(x=0.1,y=-5))\n",
    "\n",
    "fig = go.Figure(data=data, layout=layout)\n",
    "offline.iplot(fig, show_link=False)"
   ]
  },
  {
   "cell_type": "code",
   "execution_count": null,
   "metadata": {
    "_cell_guid": "0df39531-5806-4113-8441-cbdf2fb4b704",
    "_uuid": "41d79f01755a724d0b70743467d3c8d75914a633",
    "collapsed": true
   },
   "outputs": [],
   "source": [
    "# Distribution of world regions\n",
    "plt.figure(figsize=(15,8))\n",
    "count = loans_data['property_type_name'].value_counts()\n",
    "sns.barplot(count.values, count.index, )\n",
    "for i, v in enumerate(count.values):\n",
    "    plt.text(0.8,i,v,color='k',fontsize=19)\n",
    "plt.xlabel('Count', fontsize=12)\n",
    "plt.ylabel('Type of property', fontsize=12)\n",
    "plt.title(\"Distribution of type of property\", fontsize=16)"
   ]
  },
  {
   "cell_type": "code",
   "execution_count": null,
   "metadata": {
    "_cell_guid": "c41b1095-86b0-4f97-b426-5150861658b3",
    "_uuid": "553b3a3383cf8ae5188cf097e0ca7c4a15ff9ff0",
    "collapsed": true
   },
   "outputs": [],
   "source": [
    "#Correlation Matrix\n",
    "corr = loans_data.corr()\n",
    "plt.figure(figsize=(12,12))\n",
    "sns.heatmap(corr, \n",
    "            xticklabels=corr.columns.values,\n",
    "            yticklabels=corr.columns.values, annot=True, cmap='cubehelix', square=True)\n",
    "plt.title('Correlation between different features')\n",
    "corr"
   ]
  },
  {
   "cell_type": "code",
   "execution_count": null,
   "metadata": {
    "_cell_guid": "00936c75-c2ab-4bb8-a336-441713ee6e30",
    "_uuid": "42db3c940f4ac64aed628160b1c23bfa0957ccc6",
    "collapsed": true
   },
   "outputs": [],
   "source": [
    "temp = loans_data['hoepa_status_name'].value_counts()\n",
    "labels = temp.index\n",
    "sizes = (temp / temp.sum())*100\n",
    "trace = go.Pie(labels=labels, values=sizes, hoverinfo='label+percent')\n",
    "layout = go.Layout(title='HOEPA status of the application')\n",
    "data = [trace]\n",
    "fig = go.Figure(data=data, layout=layout)\n",
    "py.iplot(fig)"
   ]
  },
  {
   "cell_type": "code",
   "execution_count": null,
   "metadata": {
    "_cell_guid": "bb4ed943-4935-4fef-8f21-1326f6dfb474",
    "_uuid": "2f5837cfe07de41d5c9cfe16c1b4862c7aaf8957",
    "collapsed": true
   },
   "outputs": [],
   "source": [
    "temp = loans_data['lien_status_name'].value_counts()\n",
    "labels = temp.index\n",
    "sizes = (temp / temp.sum())*100\n",
    "trace = go.Pie(labels=labels, values=sizes, hoverinfo='label+percent')\n",
    "layout = go.Layout(title='lien status')\n",
    "data = [trace]\n",
    "fig = go.Figure(data=data, layout=layout)\n",
    "py.iplot(fig)"
   ]
  },
  {
   "cell_type": "code",
   "execution_count": null,
   "metadata": {
    "_cell_guid": "d16fa04c-8aa6-4acd-a678-296cf74ed664",
    "_uuid": "81bb5782f45846c672fb9c2eb6226b94db8c7c62",
    "collapsed": true
   },
   "outputs": [],
   "source": [
    "percentages = round(loans_data['applicant_sex_name'].value_counts() / len(loans_data['applicant_sex_name']) * 100, 2)[:13]\n",
    "trace = go.Pie(labels=percentages.keys(), values=percentages.values, hoverinfo='label+percent', \n",
    "                textfont=dict(size=18, color='#000000'))\n",
    "data = [trace]\n",
    "layout = go.Layout(width=800, height=800, title='Types of institution purchasing the loan',titlefont= dict(size=20), \n",
    "                   legend=dict(x=0.1,y=-5))\n",
    "\n",
    "fig = go.Figure(data=data, layout=layout)\n",
    "offline.iplot(fig, show_link=False)"
   ]
  },
  {
   "cell_type": "code",
   "execution_count": null,
   "metadata": {
    "_cell_guid": "0b67d6be-5575-4746-8101-084395971234",
    "_uuid": "0f07eadfc59b740d890be6fe83b8caf87656476a",
    "collapsed": true
   },
   "outputs": [],
   "source": [
    "# Distribution of world regions\n",
    "plt.figure(figsize=(15,8))\n",
    "count = loans_data['applicant_ethnicity_name'].value_counts()\n",
    "sns.barplot(count.values, count.index, )\n",
    "for i, v in enumerate(count.values):\n",
    "    plt.text(0.8,i,v,color='k',fontsize=19)\n",
    "plt.xlabel('Count', fontsize=12)\n",
    "plt.ylabel('Ethnicity of the primary applicant', fontsize=12)\n",
    "plt.title(\"Distribution of ethnicity of the primary applicant\", fontsize=16)"
   ]
  },
  {
   "cell_type": "code",
   "execution_count": null,
   "metadata": {
    "_cell_guid": "7d3cee25-7b17-44b9-a2a1-c3c054799de2",
    "_uuid": "b58f7dba052e60d861d520802f06d027899db3e1",
    "collapsed": true
   },
   "outputs": [],
   "source": [
    "# Distribution of world regions\n",
    "plt.figure(figsize=(15,8))\n",
    "count = loans_data['agency_name'].value_counts()\n",
    "sns.barplot(count.values, count.index, )\n",
    "for i, v in enumerate(count.values):\n",
    "    plt.text(0.8,i,v,color='k',fontsize=19)\n",
    "plt.xlabel('Count', fontsize=12)\n",
    "plt.ylabel('Name of federal agency', fontsize=12)\n",
    "plt.title(\"Distribution of Name of federal agency\", fontsize=16)"
   ]
  },
  {
   "cell_type": "code",
   "execution_count": null,
   "metadata": {
    "_cell_guid": "e1c5d780-2321-44b0-8a80-043d6910b13a",
    "_uuid": "0ba8e545db95353b28a34918d4292330fa0d25ba",
    "collapsed": true
   },
   "outputs": [],
   "source": [
    "temp = loans_data['action_taken_name'].value_counts()\n",
    "labels = temp.index\n",
    "sizes = (temp / temp.sum())*100\n",
    "trace = go.Pie(labels=labels, values=sizes, hoverinfo='label+percent')\n",
    "layout = go.Layout(title='Action taken on loan')\n",
    "data = [trace]\n",
    "fig = go.Figure(data=data, layout=layout)\n",
    "py.iplot(fig)"
   ]
  },
  {
   "cell_type": "code",
   "execution_count": null,
   "metadata": {
    "_cell_guid": "840d9c57-973c-409b-9b61-af58e7d8e81c",
    "_uuid": "5eac320b4f9aad7034eba98cb10ad8863c375dcd",
    "collapsed": true,
    "scrolled": true
   },
   "outputs": [],
   "source": [
    "trace = []\n",
    "for name, group in loans_data.groupby(\"applicant_sex_name\"):\n",
    "    trace.append ( \n",
    "        go.Box(\n",
    "            x=group[\"loan_amount_000s\"].values,\n",
    "            name=name\n",
    "        )\n",
    "    )\n",
    "layout = go.Layout(\n",
    "    title='Loan Amount Distribution by Sex',\n",
    "    width = 900,\n",
    "    height = 1000\n",
    ")\n",
    "#data = [trace0, trace1]\n",
    "fig = go.Figure(data=trace, layout=layout)\n",
    "py.iplot(fig)"
   ]
  },
  {
   "cell_type": "code",
   "execution_count": null,
   "metadata": {
    "_cell_guid": "a578bd8a-7508-43f0-9e7b-b6c796861830",
    "_uuid": "7f10891164bebd9055e9d56b617f9d2cf44f7a99",
    "collapsed": true
   },
   "outputs": [],
   "source": [
    "trace = []\n",
    "for name, group in loans_data.groupby(\"loan_type_name\"):\n",
    "    trace.append ( \n",
    "        go.Box(\n",
    "            x=group[\"loan_amount_000s\"].values,\n",
    "            name=name\n",
    "        )\n",
    "    )\n",
    "layout = go.Layout(\n",
    "    title='Loan Amount Distribution by types of loan',\n",
    "    width = 800,\n",
    "    height = 800\n",
    ")\n",
    "#data = [trace0, trace1]\n",
    "fig = go.Figure(data=trace, layout=layout)\n",
    "py.iplot(fig)"
   ]
  },
  {
   "cell_type": "code",
   "execution_count": null,
   "metadata": {
    "_cell_guid": "19638e87-7ed7-4615-a7cc-6c3c9ee05a2e",
    "_uuid": "f29088702db6736e8c47d3d5e2ba0e2f1fd33613",
    "collapsed": true
   },
   "outputs": [],
   "source": [
    "trace = []\n",
    "for name, group in loans_data.groupby(\"property_type_name\"):\n",
    "    trace.append ( \n",
    "        go.Box(\n",
    "            x=group[\"loan_amount_000s\"].values,\n",
    "            name=name\n",
    "        )\n",
    "    )\n",
    "layout = go.Layout(\n",
    "    title='Loan Amount Distribution by types of property',\n",
    "    width = 800,\n",
    "    height = 800\n",
    ")\n",
    "#data = [trace0, trace1]\n",
    "fig = go.Figure(data=trace, layout=layout)\n",
    "py.iplot(fig)"
   ]
  },
  {
   "cell_type": "code",
   "execution_count": null,
   "metadata": {
    "_cell_guid": "f470210c-cca8-4339-910a-694e6fec1fa6",
    "_uuid": "a06036393cd4c56975faa3474be66fdfce65e132",
    "collapsed": true
   },
   "outputs": [],
   "source": []
  }
 ],
 "metadata": {
  "kernelspec": {
   "display_name": "Python 3",
   "language": "python",
   "name": "python3"
  },
  "language_info": {
   "codemirror_mode": {
    "name": "ipython",
    "version": 3
   },
   "file_extension": ".py",
   "mimetype": "text/x-python",
   "name": "python",
   "nbconvert_exporter": "python",
   "pygments_lexer": "ipython3",
   "version": "3.6.3"
  }
 },
 "nbformat": 4,
 "nbformat_minor": 1
}
