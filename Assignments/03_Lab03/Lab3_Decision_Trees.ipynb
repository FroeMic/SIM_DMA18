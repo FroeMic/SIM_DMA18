{
 "cells": [
  {
   "cell_type": "markdown",
   "metadata": {},
   "source": [
    "# Lab 3 - Decision Trees"
   ]
  },
  {
   "cell_type": "markdown",
   "metadata": {},
   "source": [
    "This assignment uses a dataset obtained from the JSE Data Archive that aims at identifying whether there is a statistically significant dependence between gender and biological/activity traits in humans. \n",
    "\n",
    "FEATURE DESCRIPTIONS: \n",
    "\n",
    "<ul>\n",
    "<li>Color (Blue, Brown, Green, Hazel, Other)\n",
    "<li>Age (in years)\n",
    "<li>YearinSchool (First, Second, Third, Fourth, Other)\n",
    "<li>Height (in inches)\n",
    "<li>Miles (distance from home town of student to Ames, IA) \n",
    "<li>Brothers (number of brothers)\n",
    "<li>Sisters (number of sisters)\n",
    "<li>CompTime (number of hours spent on computer per week)\n",
    "<li>Exercise (whether the student exercises Yes or No)\n",
    "<li>ExerTime (number of hours spent exercising per week)\n",
    "<li>MusicCDs (number of music CDs student owns)\n",
    "<li>PlayGames (number of hours spent playing games per week)\n",
    "<li>WatchTV (number of hours spent watching TV per week\n",
    "</ul>\n",
    "\n",
    "https://ww2.amstat.org/publications/jse/jse_data_archive.htm"
   ]
  },
  {
   "cell_type": "code",
   "execution_count": 1,
   "metadata": {},
   "outputs": [],
   "source": [
    "from collections import Counter, defaultdict\n",
    "from itertools import combinations \n",
    "import pandas as pd\n",
    "import numpy as np\n",
    "import operator"
   ]
  },
  {
   "cell_type": "code",
   "execution_count": 104,
   "metadata": {},
   "outputs": [],
   "source": [
    "df = pd.read_csv('Eye_Color.csv')"
   ]
  },
  {
   "cell_type": "code",
   "execution_count": 105,
   "metadata": {},
   "outputs": [],
   "source": [
    "# remove NA's and reset the index\n",
    "df = df.dropna(axis=0, how='any', thresh=None, subset=None, inplace=False)\n",
    "df = df.reset_index(drop=True)"
   ]
  },
  {
   "cell_type": "code",
   "execution_count": 106,
   "metadata": {},
   "outputs": [
    {
     "data": {
      "text/html": [
       "<div>\n",
       "<style scoped>\n",
       "    .dataframe tbody tr th:only-of-type {\n",
       "        vertical-align: middle;\n",
       "    }\n",
       "\n",
       "    .dataframe tbody tr th {\n",
       "        vertical-align: top;\n",
       "    }\n",
       "\n",
       "    .dataframe thead th {\n",
       "        text-align: right;\n",
       "    }\n",
       "</style>\n",
       "<table border=\"1\" class=\"dataframe\">\n",
       "  <thead>\n",
       "    <tr style=\"text-align: right;\">\n",
       "      <th></th>\n",
       "      <th>gender</th>\n",
       "      <th>age</th>\n",
       "      <th>year</th>\n",
       "      <th>eyecolor</th>\n",
       "      <th>height</th>\n",
       "      <th>miles</th>\n",
       "      <th>brothers</th>\n",
       "      <th>sisters</th>\n",
       "      <th>computertime</th>\n",
       "      <th>exercise</th>\n",
       "      <th>exercisehours</th>\n",
       "      <th>musiccds</th>\n",
       "      <th>playgames</th>\n",
       "      <th>watchtv</th>\n",
       "    </tr>\n",
       "  </thead>\n",
       "  <tbody>\n",
       "    <tr>\n",
       "      <th>0</th>\n",
       "      <td>female</td>\n",
       "      <td>18</td>\n",
       "      <td>first</td>\n",
       "      <td>hazel</td>\n",
       "      <td>68.0</td>\n",
       "      <td>195.0</td>\n",
       "      <td>0</td>\n",
       "      <td>1</td>\n",
       "      <td>20.0</td>\n",
       "      <td>Yes</td>\n",
       "      <td>3.0</td>\n",
       "      <td>75.0</td>\n",
       "      <td>6.0</td>\n",
       "      <td>18.0</td>\n",
       "    </tr>\n",
       "    <tr>\n",
       "      <th>1</th>\n",
       "      <td>male</td>\n",
       "      <td>20</td>\n",
       "      <td>third</td>\n",
       "      <td>brown</td>\n",
       "      <td>70.0</td>\n",
       "      <td>120.0</td>\n",
       "      <td>3</td>\n",
       "      <td>0</td>\n",
       "      <td>24.0</td>\n",
       "      <td>No</td>\n",
       "      <td>0.0</td>\n",
       "      <td>50.0</td>\n",
       "      <td>0.0</td>\n",
       "      <td>3.0</td>\n",
       "    </tr>\n",
       "    <tr>\n",
       "      <th>2</th>\n",
       "      <td>female</td>\n",
       "      <td>18</td>\n",
       "      <td>first</td>\n",
       "      <td>green</td>\n",
       "      <td>67.0</td>\n",
       "      <td>200.0</td>\n",
       "      <td>0</td>\n",
       "      <td>1</td>\n",
       "      <td>35.0</td>\n",
       "      <td>Yes</td>\n",
       "      <td>3.0</td>\n",
       "      <td>53.0</td>\n",
       "      <td>8.0</td>\n",
       "      <td>1.0</td>\n",
       "    </tr>\n",
       "    <tr>\n",
       "      <th>3</th>\n",
       "      <td>male</td>\n",
       "      <td>23</td>\n",
       "      <td>fourth</td>\n",
       "      <td>hazel</td>\n",
       "      <td>74.0</td>\n",
       "      <td>140.0</td>\n",
       "      <td>1</td>\n",
       "      <td>1</td>\n",
       "      <td>5.0</td>\n",
       "      <td>Yes</td>\n",
       "      <td>25.0</td>\n",
       "      <td>50.0</td>\n",
       "      <td>0.0</td>\n",
       "      <td>7.0</td>\n",
       "    </tr>\n",
       "    <tr>\n",
       "      <th>4</th>\n",
       "      <td>female</td>\n",
       "      <td>19</td>\n",
       "      <td>second</td>\n",
       "      <td>blue</td>\n",
       "      <td>62.0</td>\n",
       "      <td>60.0</td>\n",
       "      <td>0</td>\n",
       "      <td>1</td>\n",
       "      <td>5.0</td>\n",
       "      <td>Yes</td>\n",
       "      <td>4.0</td>\n",
       "      <td>30.0</td>\n",
       "      <td>2.0</td>\n",
       "      <td>5.0</td>\n",
       "    </tr>\n",
       "  </tbody>\n",
       "</table>\n",
       "</div>"
      ],
      "text/plain": [
       "   gender  age    year eyecolor  height  miles  brothers  sisters  \\\n",
       "0  female   18   first    hazel    68.0  195.0         0        1   \n",
       "1    male   20   third    brown    70.0  120.0         3        0   \n",
       "2  female   18   first    green    67.0  200.0         0        1   \n",
       "3    male   23  fourth    hazel    74.0  140.0         1        1   \n",
       "4  female   19  second     blue    62.0   60.0         0        1   \n",
       "\n",
       "   computertime exercise  exercisehours  musiccds  playgames  watchtv  \n",
       "0          20.0      Yes            3.0      75.0        6.0     18.0  \n",
       "1          24.0       No            0.0      50.0        0.0      3.0  \n",
       "2          35.0      Yes            3.0      53.0        8.0      1.0  \n",
       "3           5.0      Yes           25.0      50.0        0.0      7.0  \n",
       "4           5.0      Yes            4.0      30.0        2.0      5.0  "
      ]
     },
     "execution_count": 106,
     "metadata": {},
     "output_type": "execute_result"
    }
   ],
   "source": [
    "df.head()"
   ]
  },
  {
   "cell_type": "markdown",
   "metadata": {},
   "source": [
    "# Calculating Gini Index "
   ]
  },
  {
   "cell_type": "markdown",
   "metadata": {},
   "source": [
    "$Gini(D) = 1 - \\sum_{i=1}^m p_i^2$"
   ]
  },
  {
   "cell_type": "code",
   "execution_count": 95,
   "metadata": {},
   "outputs": [],
   "source": [
    "def gini(l):\n",
    "    count = np.sum(l)\n",
    "    gini = 1\n",
    "    for p in l:\n",
    "        gini -= np.square(p/count)\n",
    "    return gini "
   ]
  },
  {
   "cell_type": "markdown",
   "metadata": {},
   "source": [
    "$Gini_A(D) = \\frac{|D_1|}{|D|}Gini(D_1) + \\frac{|D_2|}{|D|}Gini(D_2)$"
   ]
  },
  {
   "cell_type": "code",
   "execution_count": 96,
   "metadata": {},
   "outputs": [],
   "source": [
    "def gini_split(l_1, l_2):\n",
    "    total = np.sum(l_1) + np.sum(l_2)\n",
    "    return (np.sum(l_1)/total)*gini(l_1) + (np.sum(l_2)/total)*gini(l_2)"
   ]
  },
  {
   "cell_type": "markdown",
   "metadata": {},
   "source": [
    "$\\Delta Gini(A) = Gini(D) - Gini_A(D)$"
   ]
  },
  {
   "cell_type": "code",
   "execution_count": 51,
   "metadata": {},
   "outputs": [],
   "source": [
    "def gini_delta():\n",
    "    print('TODO')"
   ]
  },
  {
   "cell_type": "markdown",
   "metadata": {},
   "source": [
    "\n",
    "\n",
    "**Question 1: How many rows are there in the dataset for males? For females? **\n",
    "\n"
   ]
  },
  {
   "cell_type": "code",
   "execution_count": 108,
   "metadata": {},
   "outputs": [
    {
     "data": {
      "text/plain": [
       "gender\n",
       "female    1078\n",
       "male       910\n",
       "dtype: int64"
      ]
     },
     "execution_count": 108,
     "metadata": {},
     "output_type": "execute_result"
    }
   ],
   "source": [
    "df.groupby('gender').size()"
   ]
  },
  {
   "cell_type": "markdown",
   "metadata": {},
   "source": [
    "**Question 2: What is the Gini Index of this dataset, using males and females as the target classes?**"
   ]
  },
  {
   "cell_type": "code",
   "execution_count": 100,
   "metadata": {},
   "outputs": [
    {
     "name": "stdout",
     "output_type": "stream",
     "text": [
      "0.4964292799047808\n"
     ]
    }
   ],
   "source": [
    "print(gini(df.groupby('gender').size().tolist()))"
   ]
  },
  {
   "cell_type": "markdown",
   "metadata": {},
   "source": [
    "## Best Split of a Numeric Feature"
   ]
  },
  {
   "cell_type": "markdown",
   "metadata": {},
   "source": [
    "**Question 3: What is the best split point of the 'height' feature. **"
   ]
  },
  {
   "cell_type": "code",
   "execution_count": 119,
   "metadata": {},
   "outputs": [
    {
     "name": "stdout",
     "output_type": "stream",
     "text": [
      "{'height': 68, 'partitions': [[173, 768], [905, 142]], 'gini': 0.26552881207029194}\n"
     ]
    }
   ],
   "source": [
    "min_height = int(df['height'].min())\n",
    "max_height = int(df['height'].max())\n",
    "\n",
    "partitioning = []\n",
    "for height in range(min_height, max_height):\n",
    "    tall = df_filtered = df.query('height>'+str(height))\n",
    "    small = df_filtered = df.query('height<='+str(height))\n",
    "    \n",
    "    d_1 = tall.groupby('gender').size().tolist()\n",
    "    d_2 = small.groupby('gender').size().tolist()\n",
    "    \n",
    "    partitioning.append({\n",
    "        'height': height,\n",
    "        'partitions': [\n",
    "            d_1,\n",
    "            d_2\n",
    "        ],\n",
    "        'gini': gini_split(d_1, d_2)\n",
    "    })\n",
    "\n",
    "best_partitioning = partitioning[0]\n",
    "for p in partitioning:\n",
    "    if p['gini'] < best_partitioning['gini']:\n",
    "        best_partitioning = p\n",
    "        \n",
    "print(best_partitioning) "
   ]
  },
  {
   "cell_type": "markdown",
   "metadata": {},
   "source": [
    "**Question 4: What is the Gini Index of this best split?**"
   ]
  },
  {
   "cell_type": "code",
   "execution_count": 112,
   "metadata": {},
   "outputs": [
    {
     "data": {
      "text/plain": [
       "0.26552881207029194"
      ]
     },
     "execution_count": 112,
     "metadata": {},
     "output_type": "execute_result"
    }
   ],
   "source": [
    "best_partitioning['gini']"
   ]
  },
  {
   "cell_type": "markdown",
   "metadata": {},
   "source": [
    "**Question 5: How much does this partitioning reduce the Gini Index over that of the overall dataset?**"
   ]
  },
  {
   "cell_type": "code",
   "execution_count": 114,
   "metadata": {},
   "outputs": [
    {
     "name": "stdout",
     "output_type": "stream",
     "text": [
      "0.23090046783448887\n"
     ]
    }
   ],
   "source": [
    "delta = gini(df.groupby('gender').size().tolist()) - best_partitioning['gini']\n",
    "print(delta)"
   ]
  },
  {
   "cell_type": "markdown",
   "metadata": {},
   "source": [
    "**Question 6: How many 'female' rows are below your best split point? 'male' rows?**"
   ]
  },
  {
   "cell_type": "code",
   "execution_count": 123,
   "metadata": {},
   "outputs": [
    {
     "name": "stdout",
     "output_type": "stream",
     "text": [
      "Below 68.0 :: Female: 905 / Male: 142\n",
      "Over 68.0 :: Female: 173 / Male: 768\n"
     ]
    }
   ],
   "source": [
    "print('Below 68.0 :: Female:', best_partitioning['partitions'][1][0], '/ Male:', best_partitioning['partitions'][1][1])"
   ]
  },
  {
   "cell_type": "markdown",
   "metadata": {},
   "source": [
    "**Question 7: How many 'female' rows are above your best split point? 'male' rows?**"
   ]
  },
  {
   "cell_type": "code",
   "execution_count": 124,
   "metadata": {},
   "outputs": [
    {
     "name": "stdout",
     "output_type": "stream",
     "text": [
      "Above 68.0 :: Female: 173 / Male: 768\n"
     ]
    }
   ],
   "source": [
    "print('Above 68.0 :: Female:', best_partitioning['partitions'][0][0], '/ Male:', best_partitioning['partitions'][0][1])"
   ]
  },
  {
   "cell_type": "markdown",
   "metadata": {},
   "source": [
    "Recall that, to calculate the best split of this numeric field, you'll need to order your data by 'height', then consider the midpoint between each pair of consecutive heights as a potential split point, then calculate the Gini Index for that partitioning. You'll want to keep track of the best split point and its Gini Index (remember that you are trying to minimize the Gini Index). \n",
    "\n",
    "There are a lot of ways to do this. Some are very fast, others very slow. One tip to make this run quickly is, as you consecutively step through the data and calculate the Gini Index of each possible split point, keep a running total of the number of rows for each candidate that are located above and below the split point. \n",
    "\n",
    "Some Python tips: \n",
    "\n",
    "* Counter(), from the collections module, is a special dictionary for counting values of a key\n",
    "* zip() lets you concatenate lists into a list of tuples (for example, if we have a list of the candidates and a list of transaction amounts, zip(candidate_list, transaction_amount) would give us a list of (candidate, transaction amount) pairs"
   ]
  },
  {
   "cell_type": "markdown",
   "metadata": {},
   "source": [
    "## Best Split of a Categorial Variable"
   ]
  },
  {
   "cell_type": "markdown",
   "metadata": {},
   "source": [
    "**Question 8: How many possible splits are there of the eyecolor feature?**"
   ]
  },
  {
   "cell_type": "code",
   "execution_count": 148,
   "metadata": {},
   "outputs": [
    {
     "name": "stdout",
     "output_type": "stream",
     "text": [
      "()\n",
      "(1,)\n",
      "(2,)\n",
      "(3,)\n",
      "(4,)\n",
      "(5,)\n",
      "(1, 2)\n",
      "(1, 3)\n",
      "(1, 4)\n",
      "(1, 5)\n",
      "(2, 3)\n",
      "(2, 4)\n",
      "(2, 5)\n",
      "(3, 4)\n",
      "(3, 5)\n",
      "(4, 5)\n",
      "(1, 2, 3)\n",
      "(1, 2, 4)\n",
      "(1, 2, 5)\n",
      "(1, 3, 4)\n",
      "(1, 3, 5)\n",
      "(1, 4, 5)\n",
      "(2, 3, 4)\n",
      "(2, 3, 5)\n",
      "(2, 4, 5)\n",
      "(3, 4, 5)\n",
      "(1, 2, 3, 4)\n",
      "(1, 2, 3, 5)\n",
      "(1, 2, 4, 5)\n",
      "(1, 3, 4, 5)\n",
      "(2, 3, 4, 5)\n",
      "(1, 2, 3, 4, 5)\n"
     ]
    }
   ],
   "source": [
    "import itertools\n",
    "\n",
    "# Question: 5 values, how can they be partitioned?\n",
    "#   - The order of elements in each partition (aka branch of the tree) does not matter.\n",
    "#   - The order of partitions does not matter.\n",
    "#   - There can be up to 5 branches, even though we want to predict only 2 targets. \n",
    "\n",
    "# 5 branches (1 option) => (5 choose 5 = 1)\n",
    "    #(1,1,1,1,1)\n",
    "        # [(1), (2), (3), (4), (5)]\n",
    "    \n",
    "# 4 branches (10 options) \n",
    "    # (2,1,1,1) => (5 choose 3 = 10)\n",
    "        # [(1,2), (3), (4), (5)]\n",
    "        # [(1,3), (2), (4), (5)]\n",
    "        # [(1,4), (2), (3), (5)]\n",
    "        # [(1,5), (2), (3), (4)]\n",
    "    \n",
    "        # [(1), (2, 3), (4), (5)]\n",
    "        # [(1), (2, 4), (3), (5)]\n",
    "        # [(1), (2, 5), (3), (4)]\n",
    "    \n",
    "        # [(1), (2), (3, 4), (5)]\n",
    "        # [(1), (2), (3, 5), (4)]\n",
    "    \n",
    "        # [(1), (2), (3), (4,5)]\n",
    "    \n",
    "# 3 branches (10 options) \n",
    "    # (3, 1, 1)  => (5 choose 2 = 10)\n",
    "        # [(1,2,3), (4), (5)]\n",
    "        # [(1,2,4), (3), (5)]\n",
    "        # [(1,2,5), (3), (4)]\n",
    "    \n",
    "        # [(1,3,4), (2), (5)]\n",
    "        # [(1,3,5), (2), (4)]\n",
    "\n",
    "        # [(1,4,5), (2), (3)]\n",
    "    \n",
    "        # [(2,3,4), (1), (5)]\n",
    "        # [(2,3,5), (1), (4)]\n",
    "    \n",
    "        # [(2,4,5), (1), (3)]\n",
    "    \n",
    "        # [(3,4,5), (1), (2)]\n",
    "        \n",
    "    #(2,2,1)  => (?? = 15 options)\n",
    "        # [(1), (2,3), (4,5)]\n",
    "        # [(1), (2,4), (3,5)]\n",
    "        # [(1), (2,5), (3,4)]\n",
    "        \n",
    "        # [(2), (1,3), (4,5)]\n",
    "        # [(2), (1,4), (3,5)]\n",
    "        # [(2), (1,5), (3,4)]\n",
    "        \n",
    "        # [(3), (1,2), (4,5)]\n",
    "        # [(3), (1,4), (2,5)]\n",
    "        # [(3), (1,5), (2,4)]\n",
    "        \n",
    "        # [(4), (1,2), (3,5)]\n",
    "        # [(4), (1,3), (2,5)]\n",
    "        # [(4), (1,5), (2,3)]\n",
    "        \n",
    "        # [(5), (1,2), (3,4)]\n",
    "        # [(5), (1,3), (2,4)]\n",
    "        # [(5), (1,4), (2,3)]\n",
    "        \n",
    "# 2 branches (5 options)\n",
    "    # (4,1)  => (5 choose 1 = 5)\n",
    "        # [(1), (2,3,4,5)]\n",
    "        # [(2), (1,3,4,5)] \n",
    "        # [(3), (1,2,4,5)]\n",
    "        # [(4), (1,2,3,5)]\n",
    "        # [(5), (1,2,3,4)]\n",
    "    # (2,3)  => (5 choose 2 = 10)\n",
    "        # [(1,2),(3,4,5)]\n",
    "        # [(1,3),(2,4,5)]\n",
    "        # [(1,4),(2,3,5)]\n",
    "        # [(1,5),(2,3,4)]\n",
    "        # [(2,3),(1,4,5)]\n",
    "        # [(2,4),(1,3,5)]\n",
    "        # [(2,5),(1,3,4)]\n",
    "        # [(3,4),(1,2,5)]\n",
    "        # [(3,5),(1,2,4)]\n",
    "        # [(4,5),(1,2,3)]\n",
    "        \n",
    "# 1 branche (1 option) // ignore\n",
    "    # (5)  => (5 choose 0 = 1)\n",
    "        # [(1,2,3,4,5)] (useless, though)\n",
    "    \n",
    "\n",
    "\n",
    "values = ['Blue', 'Brown', 'Green', 'Hazel', 'Other']\n",
    "#       [   1   ,    2   ,   3    ,   4   ,     5   ]\n",
    "\n",
    "combinations = [\n",
    "    #(1,1,1,1,1)\n",
    "    [(1), (2), (3), (4), (5)],\n",
    "    \n",
    "    #(2,1,1,1)\n",
    "    [(1,2), (3), (4), (5)],\n",
    "    [(1,3), (2), (4), (5)],\n",
    "    [(1,4), (2), (3), (5)],\n",
    "    [(1,5), (2), (3), (4)],\n",
    "    [(1), (2,3), (4), (5)],\n",
    "    [(1), (2,4), (3), (5)],\n",
    "    [(1), (2,5), (3), (4)],\n",
    "    [(1), (2), (3,4), (5)],\n",
    "    [(1), (2), (3,5), (4)],\n",
    "    [(1), (2), (3), (4,5)],\n",
    "    \n",
    "    #(3,1,1)\n",
    "    [(1,2,3), (4), (5)],\n",
    "    [(1,2,4), (3), (5)],\n",
    "    [(1,2,5), (3), (4)],\n",
    "    [(1,3,4), (2), (5)],\n",
    "    [(1,3,5), (2), (4)],\n",
    "    [(1,4,5), (2), (3)],\n",
    "    [(2,3,4), (1), (5)],\n",
    "    [(2,3,5), (1), (4)],\n",
    "    [(2,4,5), (1), (3)],\n",
    "    [(3,4,5), (1), (2)],\n",
    "    \n",
    "    #(1,2,2)\n",
    "    [(1), (2,3), (4,5)],\n",
    "    [(1), (2,4), (3,5)],\n",
    "    [(1), (2,5), (3,4)],\n",
    "    [(2), (1,3), (4,5)],\n",
    "    [(2), (1,4), (3,5)],\n",
    "    [(2), (1,5), (3,4)],\n",
    "    [(3), (1,2), (4,5)],\n",
    "    [(3), (1,4), (2,5)],\n",
    "    [(3), (1,5), (2,4)],\n",
    "    [(4), (1,2), (3,5)],\n",
    "    [(4), (1,3), (2,5)],\n",
    "    [(4), (1,5), (2,3)],\n",
    "    [(5), (1,2), (3,4)],\n",
    "    [(5), (1,3), (2,4)],\n",
    "    [(5), (1,4), (2,3)],\n",
    "    \n",
    "    #(1,4)\n",
    "    [(1), (2,3,4,5)],\n",
    "    [(2), (1,3,4,5)] ,\n",
    "    [(3), (1,2,4,5)],\n",
    "    [(4), (1,2,3,5)],\n",
    "    [(5), (1,2,3,4)],\n",
    "    \n",
    "    #(2,3)\n",
    "    [(1,2),(3,4,5)],\n",
    "    [(1,3),(2,4,5)],\n",
    "    [(1,4),(2,3,5)],\n",
    "    [(1,5),(2,3,4)],\n",
    "    [(2,3),(1,4,5)],\n",
    "    [(2,4),(1,3,5)],\n",
    "    [(2,5),(1,3,4)],\n",
    "    [(3,4),(1,2,5)],\n",
    "    [(3,5),(1,2,4)],\n",
    "    [(4,5),(1,2,3)],\n",
    "    \n",
    "    #(5) //ignore because this is the same as not using the feature at all\n",
    "    #[(1,2,3,4,5)]\n",
    "\n",
    "]\n",
    "\n",
    "# print(len(combinations)) # // 51\n",
    "\n",
    "\n",
    "from itertools import chain, combinations\n",
    "\n",
    "def powerset(iterable):\n",
    "    \"powerset([1,2,3]) --> () (1,) (2,) (3,) (1,2) (1,3) (2,3) (1,2,3)\"\n",
    "    s = list(iterable)\n",
    "    return chain.from_iterable(combinations(s, r) for r in range(len(s)+1))\n",
    "\n",
    "for result in powerset([1, 2, 3, 4,5]):\n",
    "    print(result)\n",
    "\n",
    "results = list(powerset([1, 2, 3, 4, 5]))\n",
    "\n",
    "# print(len(results)) // 32\n",
    "#   (+1)  - does not ignore (5), which is useless \n",
    "#   (+5)  - The (1,1,1,1,1) set is counted 6 times\n",
    "#   (-xx) - ??\n",
    "#   (-15) - Does not account for a (1,2,2) split\n",
    "#   => 32 - 1 - 5 + 15 == 41\n",
    "\n",
    "\n",
    "# Note: Could you please share the code of how to generate the list of combinations with itertools?\n",
    "# I could not find a way to systematically generate all partitions, but would be very \n",
    "# interested in the solutions to this problem.\n",
    "\n",
    "    "
   ]
  },
  {
   "cell_type": "markdown",
   "metadata": {},
   "source": [
    "**Question 9: Which split of eyecolor best splits the female and male rows, as measured by the Gini Index?**"
   ]
  },
  {
   "cell_type": "code",
   "execution_count": null,
   "metadata": {},
   "outputs": [],
   "source": []
  },
  {
   "cell_type": "markdown",
   "metadata": {},
   "source": [
    "**Question 10: What is the Gini Index of this best split?**"
   ]
  },
  {
   "cell_type": "code",
   "execution_count": null,
   "metadata": {},
   "outputs": [],
   "source": []
  },
  {
   "cell_type": "markdown",
   "metadata": {},
   "source": [
    "**Question 11: How much does this partitioning reduce the Gini Index over that of the overall data set?**"
   ]
  },
  {
   "cell_type": "code",
   "execution_count": null,
   "metadata": {},
   "outputs": [],
   "source": []
  },
  {
   "cell_type": "markdown",
   "metadata": {},
   "source": [
    "**Question 12: How many 'female' rows and 'male' rows are in your first partition? How many 'female' rows and 'male' rows are in your second partition?**"
   ]
  },
  {
   "cell_type": "code",
   "execution_count": null,
   "metadata": {},
   "outputs": [],
   "source": []
  },
  {
   "cell_type": "markdown",
   "metadata": {},
   "source": [
    "Python tip: the combinations function of the itertools module allows you to enumerate combinations of a list. You might want to Google 'power set'."
   ]
  },
  {
   "cell_type": "code",
   "execution_count": null,
   "metadata": {
    "collapsed": true
   },
   "outputs": [],
   "source": []
  },
  {
   "cell_type": "markdown",
   "metadata": {},
   "source": [
    "## Training a decision tree"
   ]
  },
  {
   "cell_type": "markdown",
   "metadata": {},
   "source": [
    "**Question 13: Using all of the features in the original dataframe read in at the top of this notebook, train a decision tree classifier that has a depth of three (including the root node and leaf nodes). What is the accuracy of this classifier on the training data?**"
   ]
  },
  {
   "cell_type": "markdown",
   "metadata": {},
   "source": [
    "Scikit-learn classifiers require class labels and features to be in numeric arrays. As such, you will need to turn your categorical features into numeric arrays using DictVectorizer. This is a helpful notebook for understanding how to do this: http://nbviewer.ipython.org/gist/sarguido/7423289. You can turn a pandas dataframe of features into a dictionary of the form needed by DictVectorizer by using df.to_dict('records'). Make sure you remove the class label first (in this case, gender). If you use the class label as a feature, your classifier will have a training accuracy of 100%! The example notebook link also shows how to turn your class labels into a numeric array using sklearn.preprocessing.LabelEncoder()."
   ]
  },
  {
   "cell_type": "code",
   "execution_count": null,
   "metadata": {},
   "outputs": [],
   "source": [
    "import sklearn\n",
    "from sklearn.tree import DecisionTreeClassifier\n",
    "from sklearn.feature_extraction import DictVectorizer #to turn categorial variables into numeric arrays\n",
    "from sklearn import preprocessing #to transform the feature labels"
   ]
  },
  {
   "cell_type": "markdown",
   "metadata": {},
   "source": [
    "**Question 14: Using the following code snippet, export your decision tree to graphviz and visualize it. In your write-up, write down the interpretation of the rule at each node which is used to perform the splitting.**\n",
    "\n",
    "In order to install graphviz, you may need to download the tool from [this website](https://graphviz.gitlab.io), and then pip3/conda install the python libraries you do not have.\n",
    "\n",
    "Mac users can use ```brew install graphviz``` instead of following the link, and linux users can do the same using their favourite package manager (for example, Ubuntu users can use ```sudo apt-get install graphviz```, followed by the necessary pip3/conda installations."
   ]
  },
  {
   "cell_type": "code",
   "execution_count": 10,
   "metadata": {},
   "outputs": [],
   "source": [
    "from IPython.display import Image  \n",
    "import pydotplus \n",
    "import pydot\n",
    "from sklearn.externals.six import StringIO\n",
    "\n",
    "#\n",
    "# clf = your classifier\n",
    "\n",
    "dotfile = StringIO() \n",
    "tree.export_graphviz(clf, out_file=dotfile,\n",
    "#                     feature_names=df.columns,  \n",
    "#                          class_names=['Female', 'Male'],  \n",
    "                         filled=True, rounded=True,  \n",
    "                         special_characters=True)\n",
    "                    \n",
    "graph = pydotplus.graph_from_dot_data(dotfile.getvalue())\n",
    "Image(graph.create_png())"
   ]
  },
  {
   "cell_type": "markdown",
   "metadata": {},
   "source": [
    "**Question 15 (Extra Credit): For each of your leaf nodes, specify the percentage of 'female' rows in that node (out of the total number of rows at that node).**"
   ]
  },
  {
   "cell_type": "markdown",
   "metadata": {},
   "source": [
    "See this notebook for the basics of training a decision tree in scikit-learn and exporting the outputs to view in graphviz: http://nbviewer.ipython.org/gist/tebarkley/b68c04d9b31e64ce6023"
   ]
  },
  {
   "cell_type": "code",
   "execution_count": null,
   "metadata": {
    "collapsed": true
   },
   "outputs": [],
   "source": []
  }
 ],
 "metadata": {
  "anaconda-cloud": {},
  "gist_id": "0945553f802dad1bfa88",
  "kernelspec": {
   "display_name": "Python 3",
   "language": "python",
   "name": "python3"
  },
  "language_info": {
   "codemirror_mode": {
    "name": "ipython",
    "version": 3
   },
   "file_extension": ".py",
   "mimetype": "text/x-python",
   "name": "python",
   "nbconvert_exporter": "python",
   "pygments_lexer": "ipython3",
   "version": "3.6.4"
  }
 },
 "nbformat": 4,
 "nbformat_minor": 1
}
