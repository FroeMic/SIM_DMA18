{
 "cells": [
  {
   "cell_type": "markdown",
   "metadata": {},
   "source": [
    "# Data Mining & Analytics\n",
    "## Lab 6 (B)\n",
    "\n",
    "Available software:\n",
    " - Python's Gensim module: https://radimrehurek.com/gensim/ (install using pip)\n",
    " - Sklearn’s  TSNE module in case you use TSNE to reduce dimension (optional)\n",
    " - Python’s Matplotlib (optional)\n",
    "\n",
    "_Note: The most important hyper parameters of skip-gram/CBOW are vector size and windows size_\n",
    "\n",
    "This assignment  will be broadly  split into **2 parts**.\n",
    "\n",
    "### Lab06 (A)\n",
    "\n",
    "#### Part I\n",
    "##### Preparation:\n",
    "Download and extract the Google’s pretrained Word2Vec model (Google has  trained a large corpus of text containing billions of words,). To kick things off we will use this pre trained model to explore Word2Vec. \n",
    "(Download Link: https://docs.google.com/a/berkeley.edu/uc?id=0B7XkCwpI5KDYNlNUTTlSS21pQmM&export=download)\n",
    "Now load this pretrained model in Gensim and you should be good to get started with this assignment. \n",
    "\n",
    "[ ... ] (Omitted)\n",
    "\n",
    "#### Part II:\n",
    "\n",
    "In part 1 we used the Word2Vec model on a pre trained corpus. In this part (in the next lab) you are going to train a Word2Vec model on your own dataset/corpus(text). Choose a text corpus (A good place to start will be the nltk corpus, the gutenburg project or the brown movie reviews) and tokenize the text (We will go through this in detail in the next Lab.) \n",
    "\n",
    "You can also choose the the dataset provided here.\n",
    "\n",
    "Q7. Based on your knowledge or understand of the text corpus you have chosen, form 3 hypotheses of analogies or relationships you expect will hold and give a reason why.\n",
    "\n",
    "\n",
    "### Lab06 (B)\n",
    "\n",
    " \n",
    "1. Generate embeddings from the corpus you had chosen in the previous lab.\n",
    "2. Verify and test your hypotheses from the previous lab.\n",
    "3. Use T-SNE or PCA to reduce the dimensionality of the vectors to two dimensions for: \n",
    "    1. The GoogleNews corpus. Feel free to down sample it to 10 - 20k words based on frequency.\n",
    "    2. The embeddings you just generated.\n",
    "4. Using [this](https://github.com/CAHLR/d3-scatterplot) library, visualize both reduced datasets from the step above and explore the visualization.\n",
    "5. Submit the jupyter notebook (including lab6a) with the code and an embedded (screengrabbed) image of the viz(s) that you created and explored. Ensure that you have appropriate comments for both the code and the images.\n",
    "6. For this library, you need to generate a tab separated text file in the following format: `Dim1 | Dim2 | Label (word)`\n",
    "\n",
    "#### How to use the JS library\n",
    "\n",
    "```\n",
    "1) copy over the d3-scatterplot .html and .js files onto your machine\n",
    "2) setup a local web server in the directory of the d3-scatterplot files (on terminal - \"python -m http.server\" for Python 3.x)\n",
    "3) place a tab separated file in that same folder \n",
    "4) the tab separated file must have at least an x and y column and a third column of any value (in our case, the word itself)\n",
    "5) go to http://localhost:8000/plot.html?dataset=name_of_dataset.txt (Links to an external site.)Links to an external site. (Links to an external site.)Links to an external site.\n",
    "6) Hover over plot points to see description in the upper left. You can color the points (using cluster labels, perhaps) using additional columns in your text file.\n",
    "7) lasso select a group of points with the left mouse button and look at summaries of the group to the right and all the selected point descriptions below the plot\n",
    " \n",
    "```\n",
    "\n"
   ]
  },
  {
   "cell_type": "code",
   "execution_count": 3,
   "metadata": {},
   "outputs": [],
   "source": [
    "import numpy as np\n",
    "import gensim\n",
    "from gensim.models import Word2Vec\n",
    "\n",
    "from sklearn.metrics.pairwise import cosine_similarity \n",
    "from scipy import sparse"
   ]
  },
  {
   "cell_type": "code",
   "execution_count": 5,
   "metadata": {},
   "outputs": [],
   "source": [
    "from urllib.request import urlopen\n",
    "import string\n",
    "import nltk, re, pprint\n",
    "from nltk import word_tokenize\n",
    "from nltk import tokenize"
   ]
  },
  {
   "cell_type": "code",
   "execution_count": 14,
   "metadata": {},
   "outputs": [],
   "source": [
    "model = gensim.models.KeyedVectors.load_word2vec_format('GoogleNews-vectors-negative300.bin', binary=True)"
   ]
  },
  {
   "cell_type": "markdown",
   "metadata": {},
   "source": [
    "## Functions and Setup"
   ]
  },
  {
   "cell_type": "code",
   "execution_count": 15,
   "metadata": {},
   "outputs": [],
   "source": [
    "def cos_similarity_for_2_words(model, left, right):\n",
    "    M = np.array([model[left], model[right]])\n",
    "    M_sim = cosine_similarity(M)\n",
    "    return M_sim[0][1]\n",
    "\n",
    "def euc_similarity_for_2_words(model, left, right):\n",
    "    return np.linalg.norm(model[left]-model[right])\n",
    "\n",
    "def print_cos_similarity_for_word_pair(model, pair):\n",
    "    print(\"{}: {:.4f} \".format(pair, cos_similarity_for_2_words(model, pair[0], pair[1])))\n",
    "\n",
    "def print_euc_similarity_for_word_pair(model, pair):\n",
    "    print(\"{}: {:.4f} \".format(pair, euc_similarity_for_2_words(model, pair[0], pair[1])))"
   ]
  },
  {
   "cell_type": "markdown",
   "metadata": {},
   "source": [
    "---\n",
    "# Part I:\n",
    "\n",
    "\n",
    "# [ ... ]\n",
    "\n",
    "(**Note:** *Omitted code from Lab06a Part I. Have a look at the seperately submitted jupyter notebook for Lab06A*)"
   ]
  },
  {
   "cell_type": "markdown",
   "metadata": {},
   "source": [
    "---\n",
    "# Part II:\n",
    "In the next lab you are going to train a Word2Vec model on your own dataset/corpus(text). To prepare do the following...\n"
   ]
  },
  {
   "cell_type": "markdown",
   "metadata": {},
   "source": [
    "### Choose a text corpus (A good place to start will be the nltk corpus, the gutenburg project or the brown movie reviews)"
   ]
  },
  {
   "cell_type": "markdown",
   "metadata": {},
   "source": [
    "**ANSWER:** I decided to select [Grimms' Fairy Tales](https://www.gutenberg.org/ebooks/2591) from Project Gutenberg for the next lab and analyse it using the NLTK corpus and selected the following three hypotheses.\n",
    "\n",
    "\n",
    "##### H1: The words 'wolf' and 'evil' will have a high similarity.\n",
    "**Reason:** The character of the wolf is commonly associated as the evil persona in fary tales. Examples are Red Riding Hood, Three Little Pigs and probably there are a whole bunch more.\n",
    "\n",
    "##### H2: 'King' + 'Daughter' = 'Princess'\n",
    "**Reason:** My assumption here is that the above relationship is present in enough fary tales that it can be 'uncovered' by building a corpus out of this book.\n",
    "\n",
    "##### H3: 'Hansel' + 'sister' = 'Gretel'\n",
    "**Reason:** The last hypotheses is specific to one of the many fary tales — Hansel and Gretel. The are siblings, so I assume that the above relationship can be detected."
   ]
  },
  {
   "cell_type": "markdown",
   "metadata": {},
   "source": [
    "---\n",
    "# Lab06 B\n",
    "---"
   ]
  },
  {
   "cell_type": "markdown",
   "metadata": {},
   "source": [
    "### Tokenize the text (We will go through this in detail in the next Lab.)"
   ]
  },
  {
   "cell_type": "code",
   "execution_count": 16,
   "metadata": {},
   "outputs": [
    {
     "name": "stderr",
     "output_type": "stream",
     "text": [
      "/Users/mike/Desktop/Repositories/SIM/DataMining/.dma/lib/python3.6/site-packages/ipykernel_launcher.py:50: DeprecationWarning: Call to deprecated `__getitem__` (Method will be removed in 4.0.0, use self.wv.__getitem__() instead).\n"
     ]
    }
   ],
   "source": [
    "# Note: Code adapted from gensim_tutorial.ipynb from the current lab.\n",
    "\n",
    "sent_tokenizer=nltk.data.load('tokenizers/punkt/english.pickle')\n",
    "\n",
    "### Download and load  \"The Importance of Being Earnest A Trivial Comedy for Serious People\" by Oscar \n",
    "## Wilde from Project Gutenberg : https://www.gutenberg.org\n",
    "\n",
    "\n",
    "## URL of Grimms's Fairy Tales\n",
    "url = \"https://www.gutenberg.org/files/2591/2591-0.txt\" ## Your raw text file location \n",
    "resp = urlopen(url)\n",
    "raw = resp.read().decode('utf8')\n",
    "firstlook = tokenize.sent_tokenize(raw)\n",
    "\n",
    "pattern = r'''(?x)  # set flag to allow verbose regexps\n",
    "(?:[A-Z]\\.)+        # abbreviations, e.g. U.S.A.\n",
    "|\\w+(?:[-']\\w+)*    # words with optional internal hyphens\n",
    "|\\$?\\d+(?:\\.\\d+)?   # currency, e.g. $12.80 \n",
    "|\\.\\.\\.             # elipses\n",
    "|[.,;\"'?()-_`]      # these are separate tokens\n",
    "'''\n",
    "#print(nltk.regexp_tokenize(raw,pattern))\n",
    "tokenized_raw = ' '.join( nltk.regexp_tokenize(raw,pattern))\n",
    "tokenized_raw= tokenize.sent_tokenize(tokenized_raw)\n",
    "\n",
    "nopunct=[]\n",
    "for sent in tokenized_raw:\n",
    "    a=[w for w in sent.split() if w not in string.punctuation]\n",
    "    nopunct.append(' '.join(a))\n",
    "#create a set of stopwords\n",
    "tok_corp= [nltk.word_tokenize(sent) for sent in nopunct]\n",
    "\n",
    "### creating a list of unique words \n",
    "\n",
    "combined_list=[\" \".join(w) for w in tok_corp]\n",
    "unique_list=[]\n",
    "for sent in combined_list:\n",
    "    unique_list.append([w for w in sent.split()])\n",
    "unique_list=list(set([item for sublist in unique_list for item in sublist]))\n",
    "\n",
    "unique_words=unique_list\n",
    "\n",
    "### Its just one single command\n",
    "model = gensim.models.Word2Vec(tok_corp, min_count=1, size = 16, window=7)\n",
    "\n",
    "## Extracting the respective vectors corresponding to the words\n",
    "\n",
    "vector_list=[] ## n by d matrix containing words and their respective vectors\n",
    "for word in unique_words:\n",
    "    vector_list.append(model[word])"
   ]
  },
  {
   "cell_type": "code",
   "execution_count": 17,
   "metadata": {},
   "outputs": [
    {
     "name": "stdout",
     "output_type": "stream",
     "text": [
      "[array([ 0.05235949, -0.04953231,  0.03576385, -0.01601919, -0.0693511 ,\n",
      "       -0.01456504,  0.01359499, -0.01525817,  0.085245  ,  0.00977326,\n",
      "       -0.0210762 ,  0.00151788,  0.04061151, -0.01398589,  0.01363964,\n",
      "        0.04431199], dtype=float32), array([ 0.02624226, -0.01981116,  0.03476242, -0.00232454, -0.04765066,\n",
      "       -0.0327542 , -0.00440537,  0.0152738 ,  0.07384662,  0.00578531,\n",
      "       -0.00191476,  0.00331511,  0.03962994, -0.00388025, -0.01304295,\n",
      "        0.01633914], dtype=float32), array([ 0.09900264, -0.0471682 ,  0.07363572, -0.04363722, -0.07313373,\n",
      "       -0.04096917, -0.07151716, -0.00578928,  0.17756607,  0.00371851,\n",
      "        0.00570008, -0.01576044,  0.13996762, -0.02839047, -0.01232996,\n",
      "        0.04880045], dtype=float32), array([ 0.18350405, -0.09647742,  0.14782602, -0.0462269 , -0.13688937,\n",
      "       -0.08243618, -0.03592265,  0.02405367,  0.27839208, -0.04941341,\n",
      "       -0.01147962, -0.03909972,  0.21690543, -0.01661538,  0.02661334,\n",
      "        0.08772004], dtype=float32), array([ 0.00332768,  0.01575499,  0.02376211,  0.0185231 , -0.03803491,\n",
      "       -0.0029692 , -0.00942367, -0.00949477,  0.01174269, -0.03668582,\n",
      "        0.00152433,  0.01305315,  0.02814895, -0.01717377,  0.03403957,\n",
      "        0.02845769], dtype=float32)]\n"
     ]
    }
   ],
   "source": [
    "print(vector_list[:5])"
   ]
  },
  {
   "cell_type": "markdown",
   "metadata": {},
   "source": [
    "## 2. Verify and test your hypotheses from the previous lab."
   ]
  },
  {
   "cell_type": "markdown",
   "metadata": {},
   "source": [
    "##### H1: The words 'wolf' and 'evil' will have a high similarity."
   ]
  },
  {
   "cell_type": "code",
   "execution_count": 19,
   "metadata": {},
   "outputs": [
    {
     "name": "stdout",
     "output_type": "stream",
     "text": [
      "('wolf', 'evil'): 0.9923 \n"
     ]
    },
    {
     "name": "stderr",
     "output_type": "stream",
     "text": [
      "/Users/mike/Desktop/Repositories/SIM/DataMining/.dma/lib/python3.6/site-packages/ipykernel_launcher.py:2: DeprecationWarning: Call to deprecated `__getitem__` (Method will be removed in 4.0.0, use self.wv.__getitem__() instead).\n",
      "  \n"
     ]
    }
   ],
   "source": [
    "print_cos_similarity_for_word_pair(model, ('wolf', 'evil'))"
   ]
  },
  {
   "cell_type": "markdown",
   "metadata": {},
   "source": [
    "**Interpretation:** A cosine similiarity of 0.9923 speak for a high correlation between the words. Hypothesis confirmed."
   ]
  },
  {
   "cell_type": "markdown",
   "metadata": {},
   "source": [
    "##### H2: 'King' + 'Daughter' = 'Princess'"
   ]
  },
  {
   "cell_type": "code",
   "execution_count": 36,
   "metadata": {},
   "outputs": [
    {
     "name": "stdout",
     "output_type": "stream",
     "text": [
      "[('chamber', 0.9985895156860352), ('fox', 0.9984092712402344), ('finger', 0.998346745967865), ('put', 0.9980343580245972), ('heard', 0.9980288743972778), ('Then', 0.9979771971702576), ('morning', 0.9979766607284546), ('in', 0.9979627728462219), ('room', 0.997961699962616), ('ring', 0.9979234933853149)]\n",
      "\n",
      "[Rank 195] :: ('princess', 0.9941306710243225)\n",
      "\n",
      "('king', 'princess'): 0.9867 \n",
      "('daughter', 'princess'): 0.9980 \n"
     ]
    },
    {
     "name": "stderr",
     "output_type": "stream",
     "text": [
      "/Users/mike/Desktop/Repositories/SIM/DataMining/.dma/lib/python3.6/site-packages/ipykernel_launcher.py:1: DeprecationWarning: Call to deprecated `most_similar` (Method will be removed in 4.0.0, use self.wv.most_similar() instead).\n",
      "  \"\"\"Entry point for launching an IPython kernel.\n",
      "/Users/mike/Desktop/Repositories/SIM/DataMining/.dma/lib/python3.6/site-packages/ipykernel_launcher.py:2: DeprecationWarning: Call to deprecated `__getitem__` (Method will be removed in 4.0.0, use self.wv.__getitem__() instead).\n",
      "  \n"
     ]
    }
   ],
   "source": [
    "top_1000 = model.most_similar(positive=['king','daughter'], topn=1000)\n",
    "print(top_1000[:10])\n",
    "print()\n",
    "\n",
    "for i, (word, sim) in enumerate(top_1000):\n",
    "    if word == 'princess':\n",
    "        print('[Rank ' + str(i) + ']','::', (word, sim))\n",
    "\n",
    "print()\n",
    "print_cos_similarity_for_word_pair(model, ('king', 'princess'))\n",
    "print_cos_similarity_for_word_pair(model, ('daughter', 'princess'))"
   ]
  },
  {
   "cell_type": "markdown",
   "metadata": {},
   "source": [
    "**Interpretation:** Both ('king', 'princess') and ('daughter', 'princess') have a high similiarity. \n",
    "    However the combination of 'King' + 'Daughter' = 'Princess' is not confirmed, as there are more similiar results.\n",
    "    Inspecting the results further shows that 'King' + 'Daughter' = 'Princess' is only ranked 195."
   ]
  },
  {
   "cell_type": "markdown",
   "metadata": {},
   "source": [
    "##### H3: 'Hansel' + 'sister' = 'Gretel'"
   ]
  },
  {
   "cell_type": "code",
   "execution_count": 38,
   "metadata": {},
   "outputs": [
    {
     "name": "stdout",
     "output_type": "stream",
     "text": [
      "[('an', 0.99968421459198), ('fine', 0.9995608329772949), ('however', 0.9995306730270386), ('people', 0.9995037317276001), ('to', 0.9994958639144897), ('without', 0.9994885921478271), ('four', 0.999474823474884), ('heart', 0.9994156360626221), ('large', 0.9994149804115295), ('mother', 0.9993584156036377)]\n",
      "\n",
      "[Rank 226] :: ('Gretel', 0.9975356459617615)\n",
      "\n",
      "('Hansel', 'Gretel'): 0.9979 \n",
      "('sister', 'Gretel'): 0.9967 \n"
     ]
    },
    {
     "name": "stderr",
     "output_type": "stream",
     "text": [
      "/Users/mike/Desktop/Repositories/SIM/DataMining/.dma/lib/python3.6/site-packages/ipykernel_launcher.py:1: DeprecationWarning: Call to deprecated `most_similar` (Method will be removed in 4.0.0, use self.wv.most_similar() instead).\n",
      "  \"\"\"Entry point for launching an IPython kernel.\n",
      "/Users/mike/Desktop/Repositories/SIM/DataMining/.dma/lib/python3.6/site-packages/ipykernel_launcher.py:2: DeprecationWarning: Call to deprecated `__getitem__` (Method will be removed in 4.0.0, use self.wv.__getitem__() instead).\n",
      "  \n"
     ]
    }
   ],
   "source": [
    "top_1000 = model.most_similar(positive=['Hansel','sister'], topn=1000)\n",
    "print(top_1000[:10])\n",
    "print()\n",
    "\n",
    "for i, (word, sim) in enumerate(top_1000):\n",
    "    if word == 'Gretel':\n",
    "        print('[Rank ' + str(i) + ']','::', (word, sim))\n",
    "\n",
    "print()\n",
    "print_cos_similarity_for_word_pair(model, ('Hansel', 'Gretel'))\n",
    "print_cos_similarity_for_word_pair(model, ('sister', 'Gretel'))"
   ]
  },
  {
   "cell_type": "markdown",
   "metadata": {},
   "source": [
    "**Interpretation:** As with the previous hypothesis, also here the assumption does not hold. 'Hansel' + 'sister' = 'Gretel' is only ranked 226. Even though their is a high similiaity, the formula 'Hansel' + 'sister' does not seem to be descriptive enough.\n"
   ]
  },
  {
   "cell_type": "code",
   "execution_count": null,
   "metadata": {},
   "outputs": [],
   "source": [
    "from sklearn.manifold import TSNE\n",
    "\n",
    "# Lets dim reduce the 16 dimension vectors to 2dimensions to vizualise the dataset \n",
    "data_embed=TSNE(n_components=2, perplexity=50, verbose=2, method='barnes_hut').fit_transform(vector_list)"
   ]
  }
 ],
 "metadata": {
  "kernelspec": {
   "display_name": "Python 3",
   "language": "python",
   "name": "python3"
  },
  "language_info": {
   "codemirror_mode": {
    "name": "ipython",
    "version": 3
   },
   "file_extension": ".py",
   "mimetype": "text/x-python",
   "name": "python",
   "nbconvert_exporter": "python",
   "pygments_lexer": "ipython3",
   "version": "3.6.4"
  }
 },
 "nbformat": 4,
 "nbformat_minor": 2
}
