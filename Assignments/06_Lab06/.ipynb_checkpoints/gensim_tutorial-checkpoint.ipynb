{
 "cells": [
  {
   "cell_type": "markdown",
   "metadata": {},
   "source": [
    "## Gensim Tutorial"
   ]
  },
  {
   "cell_type": "markdown",
   "metadata": {},
   "source": [
    "## Part A:"
   ]
  },
  {
   "cell_type": "code",
   "execution_count": 2,
   "metadata": {},
   "outputs": [],
   "source": [
    "import nltk\n",
    "import numpy as np\n",
    "import gensim\n",
    "from gensim.models import Word2Vec\n",
    "from nltk.data import find\n",
    "import matplotlib\n",
    "from sklearn.manifold import TSNE\n",
    "import string\n",
    "from urllib.request import urlopen\n",
    "import nltk, re, pprint\n",
    "from nltk import word_tokenize\n",
    "from nltk import tokenize\n",
    "\n",
    "## Vizualise\n",
    "%matplotlib inline\n",
    "from matplotlib import pyplot as plt"
   ]
  },
  {
   "cell_type": "code",
   "execution_count": 12,
   "metadata": {
    "collapsed": true
   },
   "outputs": [],
   "source": [
    "word_pairs = [\n",
    "              ('India', 'Pakistan') ,\n",
    "              ('massive', 'puny'), \n",
    "              ('California', 'Sacramento'), \n",
    "              ('Iceland', 'volcano'), \n",
    "              ('fast', 'faster')\n",
    "            ]"
   ]
  },
  {
   "cell_type": "code",
   "execution_count": 4,
   "metadata": {},
   "outputs": [],
   "source": [
    "model = gensim.models.KeyedVectors.load_word2vec_format('GoogleNews-vectors-negative300.bin', binary=True)"
   ]
  },
  {
   "cell_type": "code",
   "execution_count": 22,
   "metadata": {},
   "outputs": [
    {
     "data": {
      "text/plain": [
       "array([-3.24707031e-02,  6.10351562e-02,  1.72851562e-01,  2.53906250e-01,\n",
       "       -1.97265625e-01, -1.55273438e-01,  1.06933594e-01, -2.31445312e-01,\n",
       "       -2.09960938e-01, -2.58789062e-02, -1.32812500e-01, -1.04492188e-01,\n",
       "        3.32031250e-01, -1.74804688e-01,  1.45874023e-02, -7.12890625e-02,\n",
       "        1.62353516e-02,  6.59179688e-02, -1.54418945e-02,  5.12695312e-02,\n",
       "        7.05718994e-05, -1.47460938e-01,  2.57873535e-03, -1.23046875e-01,\n",
       "        1.02539062e-01,  1.39648438e-01, -3.88671875e-01, -1.63085938e-01,\n",
       "       -8.93554688e-02,  7.27539062e-02, -9.66796875e-02, -2.79296875e-01,\n",
       "       -4.23828125e-01,  4.24804688e-02,  2.74658203e-02, -8.74023438e-02,\n",
       "       -2.17773438e-01, -5.34667969e-02,  2.91015625e-01,  3.44238281e-02,\n",
       "        8.44726562e-02,  8.15429688e-02, -3.78417969e-02,  2.40234375e-01,\n",
       "       -2.89306641e-02, -2.33154297e-02, -2.27539062e-01,  7.51953125e-02,\n",
       "        1.80664062e-01,  2.92968750e-02,  5.20019531e-02,  1.51367188e-01,\n",
       "        1.47247314e-03, -2.85644531e-02,  2.56347656e-02,  3.12500000e-02,\n",
       "       -1.76757812e-01, -1.55273438e-01,  2.92968750e-02, -2.12890625e-01,\n",
       "        1.16577148e-02, -2.09960938e-02, -4.51660156e-02, -1.06933594e-01,\n",
       "       -1.21093750e-01,  2.19726562e-01,  5.76171875e-02,  8.59375000e-02,\n",
       "        2.63671875e-02, -1.18164062e-01, -3.39843750e-01,  4.41894531e-02,\n",
       "       -5.98144531e-02, -2.86865234e-02, -1.37329102e-02, -3.16406250e-01,\n",
       "        8.78906250e-03,  1.25976562e-01, -1.59179688e-01,  1.63085938e-01,\n",
       "        8.77380371e-04,  2.39257812e-02,  2.09960938e-02, -4.93164062e-02,\n",
       "       -9.27734375e-02, -1.02996826e-03, -8.48388672e-03, -8.00781250e-02,\n",
       "        9.52148438e-02,  3.01513672e-02,  6.73828125e-02,  1.01562500e-01,\n",
       "       -3.35937500e-01, -5.49316406e-02, -1.42578125e-01, -2.47802734e-02,\n",
       "        1.51367188e-01, -1.01074219e-01,  2.57812500e-01,  3.90625000e-02,\n",
       "       -1.57226562e-01, -5.63964844e-02,  1.33666992e-02,  4.32128906e-02,\n",
       "        1.64794922e-02, -8.44726562e-02,  1.16699219e-01, -4.37011719e-02,\n",
       "       -2.60009766e-02,  1.47460938e-01, -8.20312500e-02,  2.81982422e-02,\n",
       "       -9.76562500e-02, -1.45507812e-01,  2.36328125e-01,  1.44531250e-01,\n",
       "       -5.68847656e-02, -2.29492188e-01,  4.14062500e-01,  1.03515625e-01,\n",
       "       -8.00781250e-02,  6.49414062e-02, -1.74804688e-01,  1.26953125e-01,\n",
       "       -4.19921875e-01,  1.68945312e-01,  7.76367188e-02, -2.31933594e-02,\n",
       "       -2.27539062e-01, -6.49414062e-02, -2.13867188e-01,  2.55859375e-01,\n",
       "       -3.05175781e-02, -2.08984375e-01, -2.55126953e-02, -9.57031250e-02,\n",
       "       -3.19824219e-02,  1.25000000e-01, -7.95898438e-02,  4.32128906e-02,\n",
       "        2.30468750e-01, -1.63085938e-01,  1.05468750e-01,  3.36914062e-02,\n",
       "       -1.43554688e-01,  3.97949219e-02,  1.32812500e-01,  9.37500000e-02,\n",
       "        1.58203125e-01,  8.25195312e-02,  1.89453125e-01, -3.04687500e-01,\n",
       "        9.17968750e-02, -2.33398438e-01, -1.17187500e-01, -4.29687500e-01,\n",
       "       -4.51171875e-01, -3.19824219e-02,  1.48437500e-01,  9.71679688e-02,\n",
       "       -1.80664062e-01, -3.61328125e-01, -5.00488281e-03, -1.57226562e-01,\n",
       "        2.12890625e-01, -3.90625000e-01,  1.63574219e-02, -5.90820312e-02,\n",
       "        1.44531250e-01,  1.45507812e-01, -2.63671875e-01,  1.56250000e-01,\n",
       "        8.83789062e-02, -2.07031250e-01,  1.99218750e-01, -3.35937500e-01,\n",
       "        2.71484375e-01, -3.02734375e-01, -2.08007812e-01, -2.37304688e-01,\n",
       "        8.30078125e-03, -7.91015625e-02, -9.03320312e-02, -1.52343750e-01,\n",
       "        2.17773438e-01,  8.05664062e-02,  2.89062500e-01,  1.68945312e-01,\n",
       "        2.03125000e-01,  9.91210938e-02, -2.73437500e-01, -5.37109375e-02,\n",
       "       -3.71093750e-01, -1.07910156e-01,  9.17968750e-02,  1.92382812e-01,\n",
       "        8.44726562e-02, -1.24023438e-01,  6.83593750e-02, -2.45117188e-01,\n",
       "        1.36718750e-01, -2.03125000e-01,  9.17968750e-02, -1.03027344e-01,\n",
       "       -4.76074219e-03,  2.37304688e-01, -1.98242188e-01, -3.37890625e-01,\n",
       "        2.88085938e-02, -4.80957031e-02, -7.03125000e-02,  7.75146484e-03,\n",
       "        5.21850586e-03, -1.92871094e-02, -4.83398438e-02,  1.06445312e-01,\n",
       "        3.73535156e-02,  3.63281250e-01, -8.59375000e-02, -7.37304688e-02,\n",
       "       -8.34960938e-02,  3.78417969e-02, -2.08984375e-01,  1.67968750e-01,\n",
       "       -1.95312500e-01, -1.06811523e-02, -1.19018555e-03, -1.72851562e-01,\n",
       "        2.27539062e-01,  4.78515625e-02, -3.14453125e-01,  9.91210938e-02,\n",
       "        3.16406250e-01, -6.68945312e-02,  1.45507812e-01,  3.41796875e-02,\n",
       "       -4.37011719e-02,  7.66601562e-02, -6.44531250e-02, -1.04003906e-01,\n",
       "        1.45507812e-01,  6.54296875e-02,  4.22363281e-02, -1.73339844e-02,\n",
       "       -2.30712891e-02,  2.42919922e-02, -9.57031250e-02, -2.94921875e-01,\n",
       "        1.37695312e-01, -2.79541016e-02,  1.18652344e-01, -1.08398438e-01,\n",
       "        1.33789062e-01,  1.33789062e-01,  7.51953125e-02,  2.05078125e-01,\n",
       "        1.24511719e-01, -6.34765625e-02, -3.73535156e-02, -1.31835938e-01,\n",
       "        3.51562500e-02,  8.74023438e-02,  2.73437500e-01, -5.61523438e-02,\n",
       "        1.40625000e-01,  6.20117188e-02, -2.34375000e-01, -6.88476562e-02,\n",
       "        1.82617188e-01, -2.05078125e-02, -1.10839844e-01, -3.88183594e-02,\n",
       "        1.11816406e-01, -1.53320312e-01,  2.04101562e-01, -6.22558594e-02,\n",
       "       -3.11279297e-02,  1.40625000e-01, -1.05957031e-01, -2.83203125e-02,\n",
       "        5.66406250e-02, -9.08203125e-02, -1.17675781e-01,  8.54492188e-03,\n",
       "       -4.34570312e-02, -4.07714844e-02, -5.54199219e-02,  1.83105469e-02,\n",
       "       -1.20605469e-01,  1.83593750e-01,  1.58203125e-01, -4.71191406e-02,\n",
       "       -2.06298828e-02, -1.72119141e-02, -1.20605469e-01, -9.03320312e-02,\n",
       "       -6.78710938e-02,  1.31835938e-01, -1.19628906e-01, -8.44726562e-02],\n",
       "      dtype=float32)"
      ]
     },
     "execution_count": 22,
     "metadata": {},
     "output_type": "execute_result"
    }
   ],
   "source": [
    "model[\"India\"]"
   ]
  },
  {
   "cell_type": "code",
   "execution_count": 13,
   "metadata": {},
   "outputs": [
    {
     "name": "stdout",
     "output_type": "stream",
     "text": [
      "0.6706861012339332\n",
      "0.3337707221474849\n",
      "0.6366067471123704\n",
      "0.383333902558831\n",
      "0.5216066195216617\n"
     ]
    }
   ],
   "source": [
    "for pair in word_pairs:\n",
    "    print(model.similarity(pair[0], pair[1]))"
   ]
  },
  {
   "cell_type": "code",
   "execution_count": 16,
   "metadata": {},
   "outputs": [
    {
     "name": "stdout",
     "output_type": "stream",
     "text": [
      "300 [ 2.43164062e-01 -7.71484375e-02 -1.03027344e-01 -1.07421875e-01\n",
      "  1.18164062e-01 -1.07421875e-01 -1.14257812e-01  2.56347656e-02\n",
      "  1.11816406e-01  4.85839844e-02 -9.71679688e-02 -3.43750000e-01\n",
      " -6.29882812e-02 -1.25000000e-01 -2.70996094e-02  9.42382812e-02\n",
      " -1.87500000e-01 -5.34667969e-02  6.25000000e-02 -3.05175781e-02\n",
      " -2.90527344e-02 -4.80957031e-02 -5.51757812e-02 -4.08203125e-01\n",
      "  1.01318359e-02 -2.32421875e-01 -1.70898438e-01  2.63671875e-01\n",
      "  3.49609375e-01 -2.11914062e-01  1.43554688e-01 -6.22558594e-03\n",
      " -2.25585938e-01 -1.05468750e-01 -1.16210938e-01  1.23046875e-01\n",
      "  3.06640625e-01 -4.88281250e-02 -9.57031250e-02  1.99218750e-01\n",
      " -1.57226562e-01 -2.80761719e-02  1.58203125e-01 -2.42919922e-02\n",
      "  1.29882812e-01 -8.98437500e-02 -7.61718750e-02  3.54003906e-02\n",
      " -3.06396484e-02  1.52343750e-01  5.24902344e-02  1.60980225e-03\n",
      "  5.56640625e-02  3.95507812e-02 -7.71484375e-02 -7.12890625e-02\n",
      " -9.22851562e-02 -7.03125000e-02  2.03125000e-01  1.53198242e-02\n",
      "  2.98828125e-01  1.75781250e-01 -4.54101562e-02  9.52148438e-02\n",
      "  4.12597656e-02  7.76367188e-02  9.47265625e-02  1.67968750e-01\n",
      "  2.01171875e-01 -7.22656250e-02  1.83593750e-01  2.15820312e-01\n",
      " -2.38281250e-01  1.04980469e-01 -1.66015625e-02  2.40234375e-01\n",
      "  1.67236328e-02 -4.56542969e-02  1.68945312e-01  1.85546875e-01\n",
      "  2.47070312e-01 -1.02050781e-01  8.49609375e-02 -1.04003906e-01\n",
      " -4.74609375e-01  2.63671875e-01 -1.57226562e-01  8.25195312e-02\n",
      "  2.19726562e-01 -3.03955078e-02 -2.55859375e-01 -1.97265625e-01\n",
      " -9.27734375e-02 -1.28173828e-02  1.26953125e-01  3.54003906e-02\n",
      "  5.88378906e-02  3.27148438e-02  1.72851562e-01 -2.08740234e-02\n",
      " -1.65039062e-01 -2.81250000e-01  8.49609375e-02 -1.69921875e-01\n",
      "  2.31445312e-01 -1.41601562e-01  7.91015625e-02 -1.92382812e-01\n",
      "  7.61718750e-02 -2.23632812e-01 -1.06811523e-02  5.66406250e-02\n",
      "  1.56250000e-01  7.17773438e-02 -1.56250000e-01 -1.44531250e-01\n",
      " -8.30078125e-02 -1.21093750e-01  5.63964844e-02  2.61718750e-01\n",
      "  7.95898438e-02 -1.28784180e-02 -2.00195312e-01 -4.39453125e-02\n",
      " -1.01562500e-01  1.29882812e-01  9.42382812e-02  1.90429688e-02\n",
      "  1.42578125e-01  1.59179688e-01 -7.47070312e-02 -3.24218750e-01\n",
      " -2.07031250e-01  4.80957031e-02 -4.19921875e-02  9.22851562e-02\n",
      " -4.39453125e-02 -2.20703125e-01 -6.25000000e-02  8.39843750e-02\n",
      "  2.29492188e-01 -1.11816406e-01  9.03320312e-02  2.08984375e-01\n",
      " -2.28515625e-01  2.87109375e-01 -1.38671875e-01  1.85546875e-01\n",
      " -2.10937500e-01 -2.05078125e-01  3.00781250e-01 -1.82617188e-01\n",
      "  1.23046875e-01 -1.61132812e-01  9.37500000e-02  1.25976562e-01\n",
      " -8.10546875e-02  9.15527344e-05  1.53320312e-01 -8.10546875e-02\n",
      " -1.93359375e-01  7.08007812e-03  3.84765625e-01  1.05957031e-01\n",
      " -1.09375000e-01 -1.13769531e-01  9.13085938e-02 -1.92382812e-01\n",
      "  6.12792969e-02  6.07299805e-03 -4.54101562e-02  6.25000000e-02\n",
      " -1.30859375e-01 -1.83593750e-01 -1.76757812e-01 -1.87500000e-01\n",
      "  2.44140625e-01  1.89453125e-01 -1.93359375e-01 -2.29492188e-02\n",
      "  2.53906250e-02  3.93676758e-03 -1.38671875e-01 -2.81250000e-01\n",
      " -1.80664062e-01  8.69140625e-02  3.17382812e-02  2.55859375e-01\n",
      " -2.30468750e-01 -5.24902344e-02 -2.18200684e-03  1.60156250e-01\n",
      "  1.57226562e-01  2.79296875e-01  1.37695312e-01  1.04492188e-01\n",
      " -1.18652344e-01 -5.81054688e-02 -7.32421875e-02  1.04980469e-02\n",
      " -1.77734375e-01 -1.07421875e-01 -1.76757812e-01 -1.23046875e-01\n",
      " -1.69921875e-01 -1.34765625e-01  6.39648438e-02  1.22558594e-01\n",
      "  1.95312500e-01 -4.94140625e-01 -3.90625000e-02 -3.19824219e-02\n",
      " -1.58691406e-02 -4.10156250e-02 -1.43554688e-01 -8.59375000e-02\n",
      " -7.95898438e-02  2.46093750e-01 -1.77734375e-01  2.05078125e-01\n",
      "  5.32226562e-02 -2.51464844e-02  2.14843750e-01  2.12402344e-02\n",
      "  9.76562500e-02 -2.16796875e-01  2.85156250e-01 -1.19140625e-01\n",
      " -1.66992188e-01 -3.60107422e-03  4.61425781e-02 -1.63085938e-01\n",
      " -2.53906250e-01  1.89453125e-01 -7.51953125e-02 -5.39550781e-02\n",
      " -1.77734375e-01 -4.32128906e-02 -7.38525391e-03  1.57226562e-01\n",
      "  2.53906250e-01 -1.52343750e-01 -5.27343750e-02 -1.25000000e-01\n",
      "  1.54296875e-01  1.11816406e-01 -1.54418945e-02  8.97216797e-03\n",
      " -5.63964844e-02 -2.58789062e-02  1.93359375e-01  5.22460938e-02\n",
      " -1.56250000e-02 -5.68847656e-02  1.17187500e-01  6.00585938e-02\n",
      " -2.64892578e-02 -1.39648438e-01 -7.27539062e-02 -5.00488281e-02\n",
      "  2.97851562e-02 -9.61914062e-02 -1.60156250e-01 -1.41601562e-01\n",
      "  2.17773438e-01  2.55859375e-01 -4.58984375e-02  1.17187500e-01\n",
      " -2.46093750e-01 -7.27539062e-02 -8.69140625e-02  1.57226562e-01\n",
      " -1.88476562e-01  4.39453125e-02 -5.55419922e-03  6.93359375e-02\n",
      "  1.42578125e-01 -1.20605469e-01 -1.04003906e-01 -3.41796875e-02\n",
      "  1.82617188e-01 -1.29882812e-01  1.63574219e-02  3.20312500e-01\n",
      " -1.12304688e-01 -1.12915039e-02 -1.38671875e-01 -2.20703125e-01\n",
      "  7.59124756e-04  3.94531250e-01  1.03515625e-01 -6.64062500e-02\n",
      " -2.67578125e-01 -2.47070312e-01 -7.27539062e-02  1.07910156e-01\n",
      "  1.18652344e-01 -8.30078125e-02  6.54296875e-02 -2.94189453e-02]\n",
      "300 [ 0.32617188  0.13085938  0.03466797 -0.08300781  0.08984375 -0.04125977\n",
      " -0.19824219  0.00689697  0.14355469  0.0019455   0.02880859 -0.25\n",
      " -0.08398438 -0.15136719 -0.10205078  0.04077148 -0.09765625  0.05932617\n",
      "  0.02978516 -0.10058594 -0.13085938  0.001297    0.02612305 -0.27148438\n",
      "  0.06396484 -0.19140625 -0.078125    0.25976562  0.375      -0.04541016\n",
      "  0.16210938  0.13671875 -0.06396484 -0.02062988 -0.09667969  0.25390625\n",
      "  0.24804688 -0.12695312  0.07177734  0.3203125   0.03149414 -0.03857422\n",
      "  0.21191406 -0.00811768  0.22265625 -0.13476562 -0.07617188  0.01049805\n",
      " -0.05175781  0.03808594 -0.13378906  0.125       0.0559082  -0.18261719\n",
      "  0.08154297 -0.08447266 -0.07763672 -0.04345703  0.08105469 -0.01092529\n",
      "  0.17480469  0.30664062 -0.04321289 -0.01416016  0.09082031 -0.00927734\n",
      " -0.03442383 -0.11523438  0.12451172 -0.0246582   0.08544922  0.14355469\n",
      " -0.27734375  0.03662109 -0.11035156  0.13085938 -0.01721191 -0.08056641\n",
      " -0.00708008 -0.02954102  0.30078125 -0.09033203  0.03149414 -0.18652344\n",
      " -0.11181641  0.10253906 -0.25976562 -0.02209473  0.16796875 -0.05322266\n",
      " -0.14550781 -0.01049805 -0.03039551 -0.03857422  0.11523438 -0.0062561\n",
      " -0.13964844  0.08007812  0.06103516 -0.15332031 -0.11132812 -0.14160156\n",
      "  0.19824219 -0.06933594  0.29296875 -0.16015625  0.20898438  0.00041771\n",
      "  0.01831055 -0.20214844  0.04760742  0.05810547 -0.0123291  -0.01989746\n",
      " -0.00364685 -0.0135498  -0.08251953 -0.03149414  0.00717163  0.20117188\n",
      "  0.08300781 -0.0480957  -0.26367188 -0.09667969 -0.22558594 -0.09667969\n",
      "  0.06494141 -0.02502441  0.08496094  0.03198242 -0.07568359 -0.25390625\n",
      " -0.11669922 -0.01446533 -0.16015625 -0.00701904 -0.05712891  0.02807617\n",
      " -0.09179688  0.25195312  0.24121094  0.06640625  0.12988281  0.17089844\n",
      " -0.13671875  0.1875     -0.10009766 -0.04199219 -0.12011719  0.00524902\n",
      "  0.15625    -0.203125   -0.07128906 -0.06103516  0.01635742  0.18261719\n",
      "  0.03588867 -0.04248047  0.16796875 -0.15039062 -0.16992188  0.01831055\n",
      "  0.27734375 -0.01269531 -0.0390625  -0.15429688  0.18457031 -0.07910156\n",
      "  0.09033203 -0.02709961  0.08251953  0.06738281 -0.16113281 -0.19628906\n",
      " -0.15234375 -0.04711914  0.04760742  0.05908203 -0.16894531 -0.14941406\n",
      "  0.12988281  0.04321289  0.02624512 -0.1796875  -0.19628906  0.06445312\n",
      "  0.08935547  0.1640625  -0.03808594 -0.09814453 -0.01483154  0.1875\n",
      "  0.12792969  0.22753906  0.01818848 -0.07958984 -0.11376953 -0.06933594\n",
      " -0.15527344 -0.08105469 -0.09277344 -0.11328125 -0.15136719 -0.08007812\n",
      " -0.05126953 -0.15332031  0.11669922  0.06835938  0.0324707  -0.33984375\n",
      " -0.08154297 -0.08349609  0.04003906  0.04907227 -0.24121094 -0.13476562\n",
      " -0.05932617  0.12158203 -0.34179688  0.16503906  0.06176758 -0.18164062\n",
      "  0.20117188 -0.07714844  0.1640625   0.00402832  0.30273438 -0.10009766\n",
      " -0.13671875 -0.05957031  0.0625     -0.21289062 -0.06542969  0.1796875\n",
      " -0.07763672 -0.01928711 -0.15039062 -0.00106049  0.03417969  0.03344727\n",
      "  0.19335938  0.01965332 -0.19921875 -0.10644531  0.01525879  0.00927734\n",
      "  0.01416016 -0.02392578  0.05883789  0.02368164  0.125       0.04760742\n",
      " -0.05566406  0.11572266  0.14746094  0.1015625  -0.07128906 -0.07714844\n",
      " -0.12597656  0.0291748   0.09521484 -0.12402344 -0.109375   -0.12890625\n",
      "  0.16308594  0.28320312 -0.03149414  0.12304688 -0.23242188 -0.09375\n",
      " -0.12988281  0.0135498  -0.03881836 -0.08251953  0.00897217  0.16308594\n",
      "  0.10546875 -0.13867188 -0.16503906 -0.03857422  0.10839844 -0.10498047\n",
      "  0.06396484  0.38867188 -0.05981445 -0.0612793  -0.10449219 -0.16796875\n",
      "  0.07177734  0.13964844  0.15527344 -0.03125    -0.20214844 -0.12988281\n",
      " -0.10058594 -0.06396484 -0.08349609 -0.30273438 -0.08007812  0.02099609]\n"
     ]
    }
   ],
   "source": [
    "words = ['woman', 'man']\n",
    "for word in words:\n",
    "  print(len(model[word]), model[word])"
   ]
  },
  {
   "cell_type": "markdown",
   "metadata": {},
   "source": [
    "Q3:  Now using Numpy extract the magnitude (L2 norm) of the vectors  and subtract among the word pairs in Q1. Do the magnitudes of the vectors matter? Justify your answer?\n"
   ]
  },
  {
   "cell_type": "code",
   "execution_count": 35,
   "metadata": {},
   "outputs": [
    {
     "name": "stdout",
     "output_type": "stream",
     "text": [
      "('France', 'England'): -0.0617, 3.0151\n",
      "('smaller', 'bigger'): -0.2018, 1.8619\n",
      "('England', 'London'): 0.1271, 2.8753\n",
      "('France', 'Rocket'): -0.2703, 3.8921\n",
      "('big', 'bigger'): -0.4062, 1.9586\n"
     ]
    }
   ],
   "source": [
    "# np.linalg.norm(model[word], ord=2)\n",
    "\n",
    "for pair in word_pairs:\n",
    "  print(\"{}: {:.4f}, {:.4f}\".format(\n",
    "        pair, \n",
    "        np.linalg.norm(model[pair[0]], ord=2) - np.linalg.norm(model[pair[1]], ord=2), \n",
    "        np.linalg.norm(model[pair[0]] - model[pair[1]], ord=2)))\n",
    "# model[word].shape"
   ]
  },
  {
   "cell_type": "markdown",
   "metadata": {},
   "source": [
    "Q4: What is the relationship between the magnitude of individual vectors, the vectors themselves and the cosine distance for any pair of words. Choose any tuple in Q1 and provide your answer. \n"
   ]
  },
  {
   "cell_type": "markdown",
   "metadata": {},
   "source": [
    "It seems like the magnitudes of the vectors don’t matter. With the current word pairs, ‘big’ and ‘bigger’ has a larger difference in their L2 norms than ‘smaller’ and ‘bigger’, but ‘France’ and ‘England’ has a smaller difference than ‘France’ and ‘Rocket’. There seems to be no direct relationship between the closeness of the words and their L2 norm magnitude.\n",
    "This is because a word (and its respective semantic meaning) is represented by a vector that has length (L2 norm) and direction. When we update the word embeddings during the training phase, we are correcting both the length and direction of the vector. It is therefore possible for us to use cosine similarity and vector subtraction/addition to get words of similar/opposite meanings. Simply doing L2 norm arithmetic will be meaningless because it ignored the critical direction information."
   ]
  },
  {
   "cell_type": "markdown",
   "metadata": {},
   "source": [
    "Q5: Time to dabble with the power of Word2Vec. Find the 2 closest words  for the following condition   \n",
    "> (King- Queen) <br />\n",
    "> (bigger - big + small ) <br />"
   ]
  },
  {
   "cell_type": "code",
   "execution_count": 24,
   "metadata": {},
   "outputs": [
    {
     "name": "stdout",
     "output_type": "stream",
     "text": [
      "[('boy', 0.5393532514572144), ('guy', 0.47399765253067017)]\n",
      "[('larger', 0.7402471899986267), ('smaller', 0.732999324798584)]\n"
     ]
    }
   ],
   "source": [
    "print(model.most_similar(positive=[\"king\",\"man\"], negative=[\"queen\"], topn=2))\n",
    "print(model.most_similar(positive=[\"bigger\",\"small\"], negative=[\"big\"], topn=2))"
   ]
  },
  {
   "cell_type": "markdown",
   "metadata": {},
   "source": [
    "Q6: Explore and come up with a similar analogy that holds for (bigger - big + small )"
   ]
  },
  {
   "cell_type": "code",
   "execution_count": 40,
   "metadata": {},
   "outputs": [
    {
     "name": "stdout",
     "output_type": "stream",
     "text": [
      "[('shorter', 0.4371601343154907), ('Long', 0.4175928831100464)]\n"
     ]
    }
   ],
   "source": [
    "print(model.most_similar(positive=[\"taller\",\"Short\"], negative=[\"tall\"], topn=2))"
   ]
  },
  {
   "cell_type": "markdown",
   "metadata": {},
   "source": [
    "Q7: What loss function does the skipgram model use and briefly describe what this function is minimizing .\n"
   ]
  },
  {
   "cell_type": "markdown",
   "metadata": {},
   "source": [
    "Given a sequence of training words w1 , w2 , w3 , . . . , wT , the objective of the Skip-gram model is to maximize the average log probability of a word appearing given other words in a given context (or window). Since we need to use the loss function, we minimize the negative value of the log probability."
   ]
  },
  {
   "cell_type": "code",
   "execution_count": 52,
   "metadata": {},
   "outputs": [],
   "source": [
    "sent_tokenizer=nltk.data.load('tokenizers/punkt/english.pickle')\n",
    "\n",
    "### Download and load  \"The Importance of Being Earnest A Trivial Comedy for Serious People\" by Oscar \n",
    "## Wilde from Project Gutenberg : https://www.gutenberg.org\n",
    "\n",
    "\n",
    "url = \"http://www.gutenberg.org/files/1399/1399-0.txt\" ## Your raw text file location \n",
    "resp = urlopen(url)\n",
    "raw = resp.read().decode('utf8')\n",
    "firstlook = tokenize.sent_tokenize(raw)\n",
    "\n",
    "pattern = r'''(?x)  # set flag to allow verbose regexps\n",
    "(?:[A-Z]\\.)+        # abbreviations, e.g. U.S.A.\n",
    "|\\w+(?:[-']\\w+)*    # words with optional internal hyphens\n",
    "|\\$?\\d+(?:\\.\\d+)?   # currency, e.g. $12.80 \n",
    "|\\.\\.\\.             # elipses\n",
    "|[.,;\"'?()-_`]      # these are separate tokens\n",
    "'''\n",
    "#print(nltk.regexp_tokenize(raw,pattern))\n",
    "tokenized_raw =\" \".join( nltk.regexp_tokenize(raw,pattern))\n",
    "tokenized_raw=tokenize.sent_tokenize(tokenized_raw)\n",
    "\n",
    "nopunct=[]\n",
    "for sent in tokenized_raw:\n",
    "    a=[w for w in sent.split() if w not in string.punctuation]\n",
    "    nopunct.append(\" \".join(a))\n",
    "#create a set of stopwords\n",
    "tok_corp= [nltk.word_tokenize(sent) for sent in nopunct]\n",
    "\n",
    "### creating a list of unique words \n",
    "\n",
    "combined_list=[\" \".join(w) for w in tok_corp]\n",
    "unique_list=[]\n",
    "for sent in combined_list:\n",
    "    unique_list.append([w for w in sent.split()])\n",
    "unique_list=list(set([item for sublist in unique_list for item in sublist]))\n",
    "\n",
    "unique_words=unique_list\n",
    "\n",
    "### Its just one single command\n",
    "model = gensim.models.Word2Vec(tok_corp, min_count=1, size = 16, window=7)\n",
    "\n",
    "## Extracting the respective vectors corresponding to the words\n",
    "\n",
    "vector_list=[] ## n by d matrix contaiing words and their respective vectors\n",
    "for word in unique_words:\n",
    "    vector_list.append(model[word])"
   ]
  },
  {
   "cell_type": "markdown",
   "metadata": {},
   "source": [
    "#### 2.b<br />\n",
    "Lets see how good our embedding has been.\n",
    "> 1. Extract the vector representations learnt by Word2Vec for words in your corpus <br />\n",
    "> 2. Using PCA or TSNE or any dimensionality reduction tool of your choice reduce the dimensions of the vectors to length <br />\n",
    "> 3. Using your favourite visualization tools come up with a visualize these dimension reduced vector representations of the words. <br />"
   ]
  },
  {
   "cell_type": "code",
   "execution_count": 53,
   "metadata": {},
   "outputs": [
    {
     "name": "stdout",
     "output_type": "stream",
     "text": [
      "[t-SNE] Computing pairwise distances...\n",
      "[t-SNE] Computing 151 nearest neighbors...\n",
      "[t-SNE] Computed conditional probabilities for sample 1000 / 14713\n",
      "[t-SNE] Computed conditional probabilities for sample 2000 / 14713\n",
      "[t-SNE] Computed conditional probabilities for sample 3000 / 14713\n",
      "[t-SNE] Computed conditional probabilities for sample 4000 / 14713\n",
      "[t-SNE] Computed conditional probabilities for sample 5000 / 14713\n",
      "[t-SNE] Computed conditional probabilities for sample 6000 / 14713\n",
      "[t-SNE] Computed conditional probabilities for sample 7000 / 14713\n",
      "[t-SNE] Computed conditional probabilities for sample 8000 / 14713\n",
      "[t-SNE] Computed conditional probabilities for sample 9000 / 14713\n",
      "[t-SNE] Computed conditional probabilities for sample 10000 / 14713\n",
      "[t-SNE] Computed conditional probabilities for sample 11000 / 14713\n",
      "[t-SNE] Computed conditional probabilities for sample 12000 / 14713\n",
      "[t-SNE] Computed conditional probabilities for sample 13000 / 14713\n",
      "[t-SNE] Computed conditional probabilities for sample 14000 / 14713\n",
      "[t-SNE] Computed conditional probabilities for sample 14713 / 14713\n",
      "[t-SNE] Mean sigma: 0.035205\n",
      "[t-SNE] Iteration 25: error = 0.9386455, gradient norm = 0.0000579\n",
      "[t-SNE] Iteration 25: gradient norm 0.000058. Finished.\n",
      "[t-SNE] Iteration 50: error = 0.9346844, gradient norm = 0.0058057\n",
      "[t-SNE] Iteration 75: error = 0.9277955, gradient norm = 0.0032680\n",
      "[t-SNE] Iteration 100: error = 0.9263987, gradient norm = 0.0029472\n",
      "[t-SNE] KL divergence after 100 iterations with early exaggeration: 0.926399\n",
      "[t-SNE] Iteration 125: error = 0.9181028, gradient norm = 0.0017214\n",
      "[t-SNE] Iteration 150: error = 0.9157670, gradient norm = 0.0015177\n",
      "[t-SNE] Iteration 175: error = 0.9151956, gradient norm = 0.0014738\n",
      "[t-SNE] Iteration 200: error = 0.9150423, gradient norm = 0.0014620\n",
      "[t-SNE] Iteration 225: error = 0.9150028, gradient norm = 0.0014588\n",
      "[t-SNE] Iteration 250: error = 0.9149907, gradient norm = 0.0014580\n",
      "[t-SNE] Iteration 275: error = 0.9149870, gradient norm = 0.0014577\n",
      "[t-SNE] Iteration 275: error difference 0.000000. Finished.\n",
      "[t-SNE] Error after 275 iterations: 0.926399\n"
     ]
    }
   ],
   "source": [
    "from sklearn.manifold import TSNE\n",
    "\n",
    "# Lets dim reduce the 16 dimension vectors to 2dimensions to vizualise the dataset \n",
    "data_embed=TSNE(n_components=2, perplexity=50, verbose=2, method='barnes_hut').fit_transform(vector_list)"
   ]
  },
  {
   "cell_type": "code",
   "execution_count": 67,
   "metadata": {},
   "outputs": [
    {
     "data": {
      "image/png": "[encoded data removed]",
      "text/plain": [
       "<matplotlib.figure.Figure at 0x7f53f67ff5f8>"
      ]
     },
     "metadata": {},
     "output_type": "display_data"
    },
    {
     "data": {
      "text/plain": [
       "<matplotlib.figure.Figure at 0x7f53f67ff908>"
      ]
     },
     "metadata": {},
     "output_type": "display_data"
    }
   ],
   "source": [
    "x_axis= data_embed[:,0]\n",
    "y_axis=data_embed[:,1]\n",
    "\n",
    "plt.scatter(x_axis, y_axis)\n",
    "\n",
    "# for i, txt in enumerate(unique_words):\n",
    "#     plt.annotate(txt, (x_axis[i],y_axis[i]))\n",
    "    \n",
    "plt.figure(figsize=(40,30))\n",
    "plt.show() ## The plots vary each time you run them "
   ]
  },
  {
   "cell_type": "markdown",
   "metadata": {},
   "source": [
    "Extra Credit:\n",
    "Surface semantically interesting observations about the embedding space by annotating your visualization and/or demonstrating interesting analogies that exist in your vector representations"
   ]
  },
  {
   "cell_type": "code",
   "execution_count": 61,
   "metadata": {},
   "outputs": [
    {
     "name": "stdout",
     "output_type": "stream",
     "text": [
      "[('Vronsky', 0.9652431011199951), ('He', 0.9575538635253906)]\n"
     ]
    }
   ],
   "source": [
    "print(model.most_similar(positive=[\"Levin\", \"Kitty\"], negative=[\"Anna\"], topn=2))"
   ]
  },
  {
   "cell_type": "markdown",
   "metadata": {},
   "source": [
    "Don't think I can get any semantic meaning from my plot (Labelling the points balcks out the entire graph), but the vector embeddings are clearly interesting.\n",
    "\n",
    "So, Levin and Kitty are lovers as are Anna and Vronsky. It is clear that the model is able to find that sort of an analogy within the text."
   ]
  },
  {
   "cell_type": "code",
   "execution_count": null,
   "metadata": {
    "collapsed": true
   },
   "outputs": [],
   "source": []
  }
 ],
 "metadata": {
  "anaconda-cloud": {},
  "kernelspec": {
   "display_name": "Python 3",
   "language": "python",
   "name": "python3"
  },
  "language_info": {
   "codemirror_mode": {
    "name": "ipython",
    "version": 3
   },
   "file_extension": ".py",
   "mimetype": "text/x-python",
   "name": "python",
   "nbconvert_exporter": "python",
   "pygments_lexer": "ipython3",
   "version": "3.6.4"
  }
 },
 "nbformat": 4,
 "nbformat_minor": 2
}
