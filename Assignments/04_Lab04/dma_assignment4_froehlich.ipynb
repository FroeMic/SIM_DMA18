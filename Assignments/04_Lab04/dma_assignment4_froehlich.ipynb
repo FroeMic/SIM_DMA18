{
 "cells": [
  {
   "cell_type": "markdown",
   "metadata": {},
   "source": [
    "# Lab 4: SVM + Neural Networks #\n"
   ]
  },
  {
   "cell_type": "code",
   "execution_count": 2,
   "metadata": {},
   "outputs": [],
   "source": [
    "import pandas as pd\n",
    "from sklearn.neural_network import MLPClassifier\n",
    "from sklearn.svm import SVC\n",
    "\n",
    "from sklearn.preprocessing import StandardScaler, MinMaxScaler\n",
    "from sklearn.preprocessing import LabelEncoder, OneHotEncoder\n",
    "from sklearn.feature_extraction import DictVectorizer\n",
    "\n",
    "from sklearn.pipeline import Pipeline\n",
    "from sklearn.metrics import accuracy_score\n",
    "from sklearn.model_selection import train_test_split\n",
    "from sklearn.model_selection import GridSearchCV, ParameterGrid\n",
    "\n",
    "import numpy as np\n",
    "\n",
    "import warnings\n",
    "warnings.filterwarnings(\"ignore\")"
   ]
  },
  {
   "cell_type": "code",
   "execution_count": 48,
   "metadata": {},
   "outputs": [
    {
     "data": {
      "text/html": [
       "<div>\n",
       "<style scoped>\n",
       "    .dataframe tbody tr th:only-of-type {\n",
       "        vertical-align: middle;\n",
       "    }\n",
       "\n",
       "    .dataframe tbody tr th {\n",
       "        vertical-align: top;\n",
       "    }\n",
       "\n",
       "    .dataframe thead th {\n",
       "        text-align: right;\n",
       "    }\n",
       "</style>\n",
       "<table border=\"1\" class=\"dataframe\">\n",
       "  <thead>\n",
       "    <tr style=\"text-align: right;\">\n",
       "      <th></th>\n",
       "      <th>Unnamed: 0</th>\n",
       "      <th>gender</th>\n",
       "      <th>age</th>\n",
       "      <th>year</th>\n",
       "      <th>eyecolor</th>\n",
       "      <th>height</th>\n",
       "      <th>miles</th>\n",
       "      <th>brothers</th>\n",
       "      <th>sisters</th>\n",
       "      <th>computertime</th>\n",
       "      <th>exercise</th>\n",
       "      <th>exercisehours</th>\n",
       "      <th>musiccds</th>\n",
       "      <th>playgames</th>\n",
       "      <th>watchtv</th>\n",
       "    </tr>\n",
       "  </thead>\n",
       "  <tbody>\n",
       "    <tr>\n",
       "      <th>0</th>\n",
       "      <td>1303</td>\n",
       "      <td>male</td>\n",
       "      <td>20</td>\n",
       "      <td>second</td>\n",
       "      <td>green</td>\n",
       "      <td>73.0</td>\n",
       "      <td>210.0</td>\n",
       "      <td>0</td>\n",
       "      <td>1</td>\n",
       "      <td>10.0</td>\n",
       "      <td>Yes</td>\n",
       "      <td>5.0</td>\n",
       "      <td>50.0</td>\n",
       "      <td>1.0</td>\n",
       "      <td>15.0</td>\n",
       "    </tr>\n",
       "    <tr>\n",
       "      <th>1</th>\n",
       "      <td>36</td>\n",
       "      <td>male</td>\n",
       "      <td>20</td>\n",
       "      <td>third</td>\n",
       "      <td>other</td>\n",
       "      <td>71.0</td>\n",
       "      <td>90.0</td>\n",
       "      <td>1</td>\n",
       "      <td>0</td>\n",
       "      <td>15.0</td>\n",
       "      <td>Yes</td>\n",
       "      <td>4.0</td>\n",
       "      <td>10.0</td>\n",
       "      <td>0.0</td>\n",
       "      <td>1.0</td>\n",
       "    </tr>\n",
       "    <tr>\n",
       "      <th>2</th>\n",
       "      <td>489</td>\n",
       "      <td>male</td>\n",
       "      <td>22</td>\n",
       "      <td>fourth</td>\n",
       "      <td>hazel</td>\n",
       "      <td>75.0</td>\n",
       "      <td>200.0</td>\n",
       "      <td>0</td>\n",
       "      <td>1</td>\n",
       "      <td>1.0</td>\n",
       "      <td>Yes</td>\n",
       "      <td>2.0</td>\n",
       "      <td>150.0</td>\n",
       "      <td>1.0</td>\n",
       "      <td>10.0</td>\n",
       "    </tr>\n",
       "    <tr>\n",
       "      <th>3</th>\n",
       "      <td>1415</td>\n",
       "      <td>male</td>\n",
       "      <td>19</td>\n",
       "      <td>second</td>\n",
       "      <td>brown</td>\n",
       "      <td>72.0</td>\n",
       "      <td>35.0</td>\n",
       "      <td>2</td>\n",
       "      <td>2</td>\n",
       "      <td>20.0</td>\n",
       "      <td>Yes</td>\n",
       "      <td>5.0</td>\n",
       "      <td>100.0</td>\n",
       "      <td>0.0</td>\n",
       "      <td>7.0</td>\n",
       "    </tr>\n",
       "    <tr>\n",
       "      <th>4</th>\n",
       "      <td>616</td>\n",
       "      <td>male</td>\n",
       "      <td>22</td>\n",
       "      <td>fourth</td>\n",
       "      <td>hazel</td>\n",
       "      <td>71.0</td>\n",
       "      <td>15.0</td>\n",
       "      <td>2</td>\n",
       "      <td>1</td>\n",
       "      <td>10.0</td>\n",
       "      <td>Yes</td>\n",
       "      <td>7.0</td>\n",
       "      <td>10.0</td>\n",
       "      <td>0.0</td>\n",
       "      <td>5.0</td>\n",
       "    </tr>\n",
       "  </tbody>\n",
       "</table>\n",
       "</div>"
      ],
      "text/plain": [
       "   Unnamed: 0 gender  age    year eyecolor  height  miles  brothers  sisters  \\\n",
       "0        1303   male   20  second    green    73.0  210.0         0        1   \n",
       "1          36   male   20   third    other    71.0   90.0         1        0   \n",
       "2         489   male   22  fourth    hazel    75.0  200.0         0        1   \n",
       "3        1415   male   19  second    brown    72.0   35.0         2        2   \n",
       "4         616   male   22  fourth    hazel    71.0   15.0         2        1   \n",
       "\n",
       "   computertime exercise  exercisehours  musiccds  playgames  watchtv  \n",
       "0          10.0      Yes            5.0      50.0        1.0     15.0  \n",
       "1          15.0      Yes            4.0      10.0        0.0      1.0  \n",
       "2           1.0      Yes            2.0     150.0        1.0     10.0  \n",
       "3          20.0      Yes            5.0     100.0        0.0      7.0  \n",
       "4          10.0      Yes            7.0      10.0        0.0      5.0  "
      ]
     },
     "execution_count": 48,
     "metadata": {},
     "output_type": "execute_result"
    }
   ],
   "source": [
    "df_train = pd.read_csv('./lab_4_training.csv')\n",
    "df_test = pd.read_csv('./lab_4_test.csv')\n",
    "df_train.head()"
   ]
  },
  {
   "cell_type": "markdown",
   "metadata": {},
   "source": [
    "***\n",
    "### Question 1###\n",
    "Calculate a baseline accuracy measure using the majority class."
   ]
  },
  {
   "cell_type": "markdown",
   "metadata": {},
   "source": [
    "** Question 1.a**  \n",
    "Find the majority class in the training set. If you always predicted this class in the training set, what would your accuracy be?"
   ]
  },
  {
   "cell_type": "code",
   "execution_count": 4,
   "metadata": {},
   "outputs": [
    {
     "name": "stdout",
     "output_type": "stream",
     "text": [
      "gender\n",
      "female    855\n",
      "male      735\n",
      "dtype: int64\n",
      "\n",
      "Q 1A :: The majority class of samples in the training set is \"female\".\n",
      "Q 1A :: Fraction (=Accuracy) of teh majority class in the training set is  0.5377358490566038\n"
     ]
    }
   ],
   "source": [
    "\n",
    "\n",
    "print(df_train.groupby('gender').size())\n",
    "print()\n",
    "print('Q 1A ::','The majority class of samples in the training set is \"female\".')\n",
    "\n",
    "class_sizes = list(df_train.groupby('gender').size())\n",
    "accuracy_majority_class = np.max(class_sizes) / np.sum(class_sizes)\n",
    "print('Q 1A ::','Fraction (=Accuracy) of teh majority class in the training set is ', accuracy_majority_class)"
   ]
  },
  {
   "cell_type": "markdown",
   "metadata": {},
   "source": [
    "**Question 1.b**   \n",
    "If you always predicted this same class (majority from the training set) in the test set, what would your accuracy be?"
   ]
  },
  {
   "cell_type": "code",
   "execution_count": 5,
   "metadata": {},
   "outputs": [
    {
     "name": "stdout",
     "output_type": "stream",
     "text": [
      "gender\n",
      "female    208\n",
      "male      190\n",
      "dtype: int64\n",
      "\n",
      "Q 1B :: The majority class of samples in the training set is \"female\".\n",
      "Q 1B :: Fraction (=Accuracy) of teh majority class in the training set is  0.5226130653266332\n"
     ]
    }
   ],
   "source": [
    "print(df_test.groupby('gender').size())\n",
    "print()\n",
    "print('Q 1B ::','The majority class of samples in the training set is \"female\".')\n",
    "\n",
    "class_sizes = list(df_test.groupby('gender').size())\n",
    "accuracy_majority_class = np.max(class_sizes) / np.sum(class_sizes)\n",
    "print('Q 1B ::','Fraction (=Accuracy) of teh majority class in the training set is ', accuracy_majority_class)"
   ]
  },
  {
   "cell_type": "markdown",
   "metadata": {},
   "source": [
    "***\n",
    "### Question 2 ###\n",
    "Get started with Neural Networks."
   ]
  },
  {
   "cell_type": "markdown",
   "metadata": {},
   "source": [
    "   \n",
    "Choose a NN implementation and specify which you choose. Be sure the implementation allows you to modify the number of hidden layers and hidden nodes per layer.  \n",
    "\n",
    "NOTE: When possible, specify the logsig (sigmoid/logistc) function as the transfer function for the output node and use Levenberg-Marquardt backpropagation (lbfgs). It is possible to specify logsig or logistic in Sklearn MLPclassifier (Neural net).  "
   ]
  },
  {
   "cell_type": "markdown",
   "metadata": {},
   "source": [
    "**Question 2.a**   \n",
    "Train a neural network with a single 10 node hidden layer. Only use the Height feature of the dataset to predict the Gender. You will have to change Gender to a 0 and 1 class. After training, use your trained model to predict the class using the height feature from the training set. What was the accuracy of this prediction?"
   ]
  },
  {
   "cell_type": "code",
   "execution_count": 6,
   "metadata": {},
   "outputs": [
    {
     "name": "stderr",
     "output_type": "stream",
     "text": [
      "Using TensorFlow backend.\n"
     ]
    },
    {
     "name": "stdout",
     "output_type": "stream",
     "text": [
      "Epoch 1/1\n",
      "1590/1590 [==============================] - 0s 264us/step - loss: 1.0861 - acc: 0.5377\n",
      "1590/1590 [==============================] - 0s 33us/step\n",
      "Q 1B :: Accuracy (Train Set)  0.5377358486817317\n"
     ]
    }
   ],
   "source": [
    "# KERAS\n",
    "from keras.models import Sequential\n",
    "from keras.layers import Dense, Activation\n",
    "\n",
    "df_train_reduced = df_train[['gender', 'height']]\n",
    "df_train_reduced['gender'] = df_train_reduced['gender'].apply(lambda x : 1 if x == 'male' else 0)\n",
    "\n",
    "model = Sequential([\n",
    "    Dense(10, activation='sigmoid', input_shape=(1,)),\n",
    "    Dense(1,),\n",
    "])\n",
    "\n",
    "model.compile(optimizer='rmsprop',\n",
    "              loss='binary_crossentropy',\n",
    "              metrics=['accuracy'])\n",
    "\n",
    "model.fit(x=df_train_reduced['height'], y=df_train_reduced['gender'])\n",
    "\n",
    "evaluation = model.evaluate(x=df_train_reduced['height'], y=df_train_reduced['gender'])\n",
    "# print(model.metrics_names)\n",
    "print('Q 1B ::','Accuracy (Train Set) ', evaluation[1])"
   ]
  },
  {
   "cell_type": "markdown",
   "metadata": {},
   "source": [
    "**Question 2.b**  \n",
    "Take the trained model from question 2.b and use it to predict the test set. This can be accomplished by taking the trained model and giving it the Height feature values from the test set. What is the accuracy of this model on the test set?"
   ]
  },
  {
   "cell_type": "code",
   "execution_count": 8,
   "metadata": {},
   "outputs": [
    {
     "name": "stdout",
     "output_type": "stream",
     "text": [
      "398/398 [==============================] - 0s 12us/step\n",
      "Q 2B :: Accuracy (Test Set)  0.4773869355719293\n"
     ]
    }
   ],
   "source": [
    "y_test = df_test['gender'].apply(lambda x: 0 if x == 'male' else 1).values.reshape(-1,1)\n",
    "x_test= df_test['height'].values.reshape(-1,1)\n",
    "\n",
    "evaluation = model.evaluate(x_test, y_test, batch_size=256)\n",
    "\n",
    "print('Q 2B ::','Accuracy (Test Set) ', evaluation[1])"
   ]
  },
  {
   "cell_type": "markdown",
   "metadata": {},
   "source": [
    "**Question 2.c**   \n",
    "\n",
    "Neural Networks tend to prefer smaller, normalized feature values. Try taking the log of the height feature in both training and testing sets or use a Standard Scalar operation in SKlearn to centre and normalize the data between 0-1 for continuous values. Repeat question 2.c with the log version and the normalized and centered version of this feature"
   ]
  },
  {
   "cell_type": "code",
   "execution_count": 12,
   "metadata": {},
   "outputs": [
    {
     "name": "stdout",
     "output_type": "stream",
     "text": [
      "Epoch 1/2\n",
      "1590/1590 [==============================] - 0s 8us/step - loss: 8.6673 - acc: 0.4623\n",
      "Epoch 2/2\n",
      "1590/1590 [==============================] - 0s 11us/step - loss: 8.6673 - acc: 0.4623\n",
      "398/398 [==============================] - 0s 14us/step\n",
      "Q 2C :: Accuracy (Test Set)  0.4773869355719293\n"
     ]
    }
   ],
   "source": [
    "y_test = df_test['gender'].apply(lambda x: 0 if x == 'male' else 1).values.reshape(-1,1)\n",
    "y_train = df_train['gender'].apply(lambda x: 0 if x == 'male' else 1).values.reshape(-1,1)\n",
    "\n",
    "x_test_normalized = df_test['height'].apply('log').values.reshape(-1,1)\n",
    "x_train_normalized = df_train['height'].apply('log').values.reshape(-1,1)\n",
    "\n",
    "model.fit(x_train_normalized, y_train, epochs=2, batch_size=256)\n",
    "evaluation = model.evaluate(x_test_normalized, y_test, batch_size=256)\n",
    "\n",
    "print('Q 2C ::','Accuracy (Test Set) ', evaluation[1])\n",
    "# seems to make not a big difference at all"
   ]
  },
  {
   "cell_type": "markdown",
   "metadata": {},
   "source": [
    "***\n",
    "### Question 3 ###\n",
    "Get started with Support Vector Machines."
   ]
  },
  {
   "cell_type": "markdown",
   "metadata": {},
   "source": [
    "  \n",
    "Chose a SVM implementation and specify which you choose. Be sure the implementation allows you to choose between linear and RBF kernels."
   ]
  },
  {
   "cell_type": "markdown",
   "metadata": {},
   "source": [
    "**Question 3.a**   \n",
    "Use the same dataset from 2.a using the linear kernel to find training set prediction accuracy."
   ]
  },
  {
   "cell_type": "code",
   "execution_count": 17,
   "metadata": {},
   "outputs": [
    {
     "name": "stdout",
     "output_type": "stream",
     "text": [
      "Q 3A :: Accuracy SVM (Train Set)  0.8465408805031447\n"
     ]
    }
   ],
   "source": [
    "from sklearn import svm\n",
    "\n",
    "y_train = df_train['gender'].apply(lambda x: 0 if x == 'male' else 1).values.reshape(-1,1)\n",
    "x_train = df_train['height'].values.reshape(-1,1)\n",
    "y_test = df_test['gender'].apply(lambda x: 0 if x == 'male' else 1).values.reshape(-1,1)\n",
    "x_test = df_test['height'].values.reshape(-1,1)\n",
    "\n",
    "clf = svm.SVC(kernel='linear')\n",
    "clf.fit(x_train, y_train)\n",
    "\n",
    "accuracy = clf.score(x_train, y_train)\n",
    "\n",
    "print('Q 3A ::','Accuracy SVM (Train Set) ', accuracy)"
   ]
  },
  {
   "cell_type": "markdown",
   "metadata": {},
   "source": [
    "**Question 3.b**   \n",
    "Use the same dataset from 2.a using the linear kernel to find test set prediction accuracy"
   ]
  },
  {
   "cell_type": "code",
   "execution_count": 18,
   "metadata": {},
   "outputs": [
    {
     "name": "stdout",
     "output_type": "stream",
     "text": [
      "Q 3B :: Accuracy SVM (Test Set)  0.8542713567839196\n"
     ]
    }
   ],
   "source": [
    "accuracy = clf.score(x_test, y_test)\n",
    "\n",
    "print('Q 3B ::','Accuracy SVM (Test Set) ', accuracy)"
   ]
  },
  {
   "cell_type": "markdown",
   "metadata": {},
   "source": [
    "**Question 3.c**   \n",
    "Use the same dataset from 2.a using the RBF kernel  to find training set prediction accuracy"
   ]
  },
  {
   "cell_type": "code",
   "execution_count": 20,
   "metadata": {},
   "outputs": [
    {
     "name": "stdout",
     "output_type": "stream",
     "text": [
      "Q 3C :: Accuracy SVM with rbf kernel (Train Set)  0.8465408805031447\n"
     ]
    }
   ],
   "source": [
    "clf = svm.SVC(kernel='rbf')\n",
    "clf.fit(x_train, y_train)\n",
    "\n",
    "accuracy = clf.score(x_train, y_train)\n",
    "\n",
    "print('Q 3C ::','Accuracy SVM with rbf kernel (Train Set) ', accuracy)"
   ]
  },
  {
   "cell_type": "markdown",
   "metadata": {},
   "source": [
    "**Question 3.d**   \n",
    "Use the same dataset from 2.a using the RBF kernel  to find test set prediction accuracy"
   ]
  },
  {
   "cell_type": "code",
   "execution_count": 21,
   "metadata": {},
   "outputs": [
    {
     "name": "stdout",
     "output_type": "stream",
     "text": [
      "Q 3D :: Accuracy SVM with rbf kernel (Test Set)  0.8542713567839196\n"
     ]
    }
   ],
   "source": [
    "accuracy = clf.score(x_test, y_test)\n",
    "\n",
    "print('Q 3D ::','Accuracy SVM with rbf kernel (Test Set) ', accuracy)"
   ]
  },
  {
   "cell_type": "markdown",
   "metadata": {},
   "source": [
    "**Question 3.e**   \n",
    "Use the same dataset from 2.c (log) using the RBF to find test set prediction accuracy"
   ]
  },
  {
   "cell_type": "code",
   "execution_count": 22,
   "metadata": {},
   "outputs": [
    {
     "name": "stdout",
     "output_type": "stream",
     "text": [
      "Q 3E :: Accuracy SVM with rbf kernel and log (Test Set)  0.8542713567839196\n"
     ]
    }
   ],
   "source": [
    "clf = svm.SVC(kernel='rbf')\n",
    "x_train = df_train['height'].apply('log').values.reshape(-1,1)\n",
    "x_test = df_test['height'].apply('log').values.reshape(-1,1)\n",
    "clf.fit(x_train, y_train)\n",
    "\n",
    "accuracy = clf.score(x_test, y_test)\n",
    "\n",
    "print('Q 3E ::','Accuracy SVM with rbf kernel and log (Test Set) ', accuracy)"
   ]
  },
  {
   "cell_type": "markdown",
   "metadata": {},
   "source": [
    "**Question 3.f**   \n",
    "Z-score is a normalization technique. It is the value of a feature minus the average value for that feature in the training set, divided by the standard deviation of that feature in the training set. Repeat question 3.e using Z-score and note if there is any difference in accuracy and comment on why there is a change or no change in accuracy"
   ]
  },
  {
   "cell_type": "code",
   "execution_count": 23,
   "metadata": {},
   "outputs": [
    {
     "name": "stdout",
     "output_type": "stream",
     "text": [
      "Q 3E :: Accuracy SVM with rbf kernel and z-score (Test Set)  0.8542713567839196\n"
     ]
    }
   ],
   "source": [
    "avg = df_train['height'].mean()\n",
    "std_deviation = df_train['height'].std()\n",
    "\n",
    "transform_z_score = lambda x: (x - avg) / std_deviation\n",
    "\n",
    "x_train = df_train['height'].apply(transform_z_score).values.reshape(-1,1)\n",
    "x_test = df_test['height'].apply(transform_z_score).values.reshape(-1,1)\n",
    "\n",
    "clf.fit(x_train, y_train)\n",
    "\n",
    "accuracy = clf.score(x_test, y_test)\n",
    "print('Q 3E ::','Accuracy SVM with rbf kernel and z-score (Test Set) ', accuracy)"
   ]
  },
  {
   "cell_type": "markdown",
   "metadata": {},
   "source": [
    "***\n",
    "\n",
    "### Question 4 ###\n",
    "The rest of features in this dataset barring a few are categorical. Neither ML method accepts categorical features, so transform year, eyecolor, exercise into a set of binary features, one feature per unique original feature value, and mark the binary feature as ‘1’ if the feature value matches the original value and ‘0’ otherwise. Using only these binary variable transformed features, train and predict the class of the test set."
   ]
  },
  {
   "cell_type": "code",
   "execution_count": 24,
   "metadata": {},
   "outputs": [],
   "source": [
    "df_train4 = df_train[['year', 'eyecolor', 'exercise']]\n",
    "df_test4 = df_test[['year', 'eyecolor', 'exercise']]\n",
    "\n",
    "X_train = df_train4.to_dict('records')\n",
    "y_train = df_train['gender']\n",
    "\n",
    "X_test = df_test4.to_dict('records')\n",
    "y_test = df_test['gender']\n",
    "\n",
    "vec = DictVectorizer()\n",
    "X_train = vec.fit_transform(X_train).toarray()\n",
    "X_test = vec.fit_transform(X_test).toarray()\n",
    "\n",
    "le = LabelEncoder()\n",
    "le.fit([\"male\", \"female\"])\n",
    "y_train = le.transform(y_train).reshape(-1,1)\n",
    "y_test = le.transform(y_test).reshape(-1,1)"
   ]
  },
  {
   "cell_type": "markdown",
   "metadata": {},
   "source": [
    "**Question 4.a**    \n",
    "What was your accuracy using Neural Network with a single 10 node hidden layer? During training, use a maximum number of iterations of 50. (Expected training time: ~15 mins)"
   ]
  },
  {
   "cell_type": "code",
   "execution_count": 25,
   "metadata": {},
   "outputs": [
    {
     "name": "stdout",
     "output_type": "stream",
     "text": [
      "Epoch 1/50\n",
      "1590/1590 [==============================] - 0s 256us/step - loss: 0.6918 - acc: 0.5296\n",
      "Epoch 2/50\n",
      "1590/1590 [==============================] - 0s 57us/step - loss: 0.6917 - acc: 0.5346\n",
      "Epoch 3/50\n",
      "1590/1590 [==============================] - 0s 60us/step - loss: 0.6916 - acc: 0.5239\n",
      "Epoch 4/50\n",
      "1590/1590 [==============================] - 0s 51us/step - loss: 0.6916 - acc: 0.5296\n",
      "Epoch 5/50\n",
      "1590/1590 [==============================] - 0s 63us/step - loss: 0.6914 - acc: 0.5289\n",
      "Epoch 6/50\n",
      "1590/1590 [==============================] - 0s 49us/step - loss: 0.6914 - acc: 0.5270\n",
      "Epoch 7/50\n",
      "1590/1590 [==============================] - 0s 51us/step - loss: 0.6913 - acc: 0.5258\n",
      "Epoch 8/50\n",
      "1590/1590 [==============================] - 0s 51us/step - loss: 0.6912 - acc: 0.5321\n",
      "Epoch 9/50\n",
      "1590/1590 [==============================] - 0s 53us/step - loss: 0.6911 - acc: 0.5270\n",
      "Epoch 10/50\n",
      "1590/1590 [==============================] - 0s 63us/step - loss: 0.6910 - acc: 0.5277\n",
      "Epoch 11/50\n",
      "1590/1590 [==============================] - 0s 55us/step - loss: 0.6909 - acc: 0.5321\n",
      "Epoch 12/50\n",
      "1590/1590 [==============================] - 0s 53us/step - loss: 0.6909 - acc: 0.5296\n",
      "Epoch 13/50\n",
      "1590/1590 [==============================] - 0s 47us/step - loss: 0.6908 - acc: 0.5333\n",
      "Epoch 14/50\n",
      "1590/1590 [==============================] - 0s 46us/step - loss: 0.6907 - acc: 0.5314\n",
      "Epoch 15/50\n",
      "1590/1590 [==============================] - 0s 50us/step - loss: 0.6907 - acc: 0.5321\n",
      "Epoch 16/50\n",
      "1590/1590 [==============================] - 0s 52us/step - loss: 0.6906 - acc: 0.5296\n",
      "Epoch 17/50\n",
      "1590/1590 [==============================] - 0s 54us/step - loss: 0.6905 - acc: 0.5296\n",
      "Epoch 18/50\n",
      "1590/1590 [==============================] - 0s 55us/step - loss: 0.6904 - acc: 0.5321\n",
      "Epoch 19/50\n",
      "1590/1590 [==============================] - 0s 42us/step - loss: 0.6904 - acc: 0.5390\n",
      "Epoch 20/50\n",
      "1590/1590 [==============================] - 0s 48us/step - loss: 0.6903 - acc: 0.5352\n",
      "Epoch 21/50\n",
      "1590/1590 [==============================] - 0s 45us/step - loss: 0.6902 - acc: 0.5384\n",
      "Epoch 22/50\n",
      "1590/1590 [==============================] - 0s 52us/step - loss: 0.6901 - acc: 0.5358\n",
      "Epoch 23/50\n",
      "1590/1590 [==============================] - 0s 73us/step - loss: 0.6900 - acc: 0.5384\n",
      "Epoch 24/50\n",
      "1590/1590 [==============================] - 0s 62us/step - loss: 0.6900 - acc: 0.5384\n",
      "Epoch 25/50\n",
      "1590/1590 [==============================] - 0s 60us/step - loss: 0.6899 - acc: 0.5352\n",
      "Epoch 26/50\n",
      "1590/1590 [==============================] - 0s 54us/step - loss: 0.6898 - acc: 0.5365\n",
      "Epoch 27/50\n",
      "1590/1590 [==============================] - 0s 45us/step - loss: 0.6898 - acc: 0.5358\n",
      "Epoch 28/50\n",
      "1590/1590 [==============================] - 0s 52us/step - loss: 0.6897 - acc: 0.5314\n",
      "Epoch 29/50\n",
      "1590/1590 [==============================] - 0s 52us/step - loss: 0.6896 - acc: 0.5371\n",
      "Epoch 30/50\n",
      "1590/1590 [==============================] - 0s 58us/step - loss: 0.6896 - acc: 0.5415\n",
      "Epoch 31/50\n",
      "1590/1590 [==============================] - 0s 45us/step - loss: 0.6895 - acc: 0.5384\n",
      "Epoch 32/50\n",
      "1590/1590 [==============================] - 0s 45us/step - loss: 0.6895 - acc: 0.5396\n",
      "Epoch 33/50\n",
      "1590/1590 [==============================] - 0s 47us/step - loss: 0.6894 - acc: 0.5358\n",
      "Epoch 34/50\n",
      "1590/1590 [==============================] - 0s 47us/step - loss: 0.6893 - acc: 0.5371\n",
      "Epoch 35/50\n",
      "1590/1590 [==============================] - 0s 47us/step - loss: 0.6893 - acc: 0.5421\n",
      "Epoch 36/50\n",
      "1590/1590 [==============================] - 0s 46us/step - loss: 0.6892 - acc: 0.5377\n",
      "Epoch 37/50\n",
      "1590/1590 [==============================] - 0s 45us/step - loss: 0.6891 - acc: 0.5409\n",
      "Epoch 38/50\n",
      "1590/1590 [==============================] - 0s 47us/step - loss: 0.6891 - acc: 0.5390\n",
      "Epoch 39/50\n",
      "1590/1590 [==============================] - 0s 46us/step - loss: 0.6891 - acc: 0.5358\n",
      "Epoch 40/50\n",
      "1590/1590 [==============================] - 0s 49us/step - loss: 0.6889 - acc: 0.5403\n",
      "Epoch 41/50\n",
      "1590/1590 [==============================] - 0s 44us/step - loss: 0.6889 - acc: 0.5390\n",
      "Epoch 42/50\n",
      "1590/1590 [==============================] - 0s 52us/step - loss: 0.6889 - acc: 0.5384\n",
      "Epoch 43/50\n",
      "1590/1590 [==============================] - 0s 46us/step - loss: 0.6888 - acc: 0.5377\n",
      "Epoch 44/50\n",
      "1590/1590 [==============================] - 0s 60us/step - loss: 0.6887 - acc: 0.5390\n",
      "Epoch 45/50\n",
      "1590/1590 [==============================] - 0s 41us/step - loss: 0.6887 - acc: 0.5396\n",
      "Epoch 46/50\n",
      "1590/1590 [==============================] - 0s 47us/step - loss: 0.6887 - acc: 0.5409\n",
      "Epoch 47/50\n",
      "1590/1590 [==============================] - 0s 47us/step - loss: 0.6886 - acc: 0.5390\n",
      "Epoch 48/50\n",
      "1590/1590 [==============================] - 0s 55us/step - loss: 0.6885 - acc: 0.5421\n",
      "Epoch 49/50\n",
      "1590/1590 [==============================] - 0s 41us/step - loss: 0.6885 - acc: 0.5409\n",
      "Epoch 50/50\n",
      "1590/1590 [==============================] - 0s 49us/step - loss: 0.6885 - acc: 0.5409\n"
     ]
    },
    {
     "data": {
      "text/plain": [
       "<keras.callbacks.History at 0x10c93c1d0>"
      ]
     },
     "execution_count": 25,
     "metadata": {},
     "output_type": "execute_result"
    }
   ],
   "source": [
    "model = Sequential()\n",
    "model.add(Dense(units=10, activation='sigmoid', input_dim=13))\n",
    "model.add(Dense(units=1, activation='sigmoid'))\n",
    "model.compile(loss='binary_crossentropy',\n",
    "              optimizer='sgd',\n",
    "              metrics=['accuracy'])\n",
    "model.fit(X_train, y_train, epochs=50)"
   ]
  },
  {
   "cell_type": "code",
   "execution_count": 26,
   "metadata": {},
   "outputs": [
    {
     "name": "stdout",
     "output_type": "stream",
     "text": [
      "398/398 [==============================] - 0s 117us/step\n",
      "Q 4A :: Accuracy (Test Set)  0.5427135684382376\n"
     ]
    }
   ],
   "source": [
    "evaluation = model.evaluate(X_test, y_test)\n",
    "print('Q 4A ::','Accuracy (Test Set) ', evaluation[1])"
   ]
  },
  {
   "cell_type": "markdown",
   "metadata": {
    "collapsed": true
   },
   "source": [
    "**Question 4.b**    \n",
    "What was your accuracy using a SVM with RBF kernel?"
   ]
  },
  {
   "cell_type": "code",
   "execution_count": 28,
   "metadata": {},
   "outputs": [
    {
     "name": "stdout",
     "output_type": "stream",
     "text": [
      "Q 4B :: Accuracy SVM (Test Set)  0.585427135678392\n"
     ]
    }
   ],
   "source": [
    "clf = svm.SVC(kernel='rbf')\n",
    "clf.fit(X_train, y_train)\n",
    "clf.score(X_test, y_test)\n",
    "\n",
    "accuracy = clf.score(X_test, y_test)\n",
    "print('Q 4B ::','Accuracy SVM (Test Set) ', accuracy)"
   ]
  },
  {
   "cell_type": "markdown",
   "metadata": {},
   "source": [
    "***\n",
    "### Question 5###\n",
    "Using a NN, does height + eye color predict the test set class better by:"
   ]
  },
  {
   "cell_type": "markdown",
   "metadata": {},
   "source": [
    "**Question 5.a**  \n",
    "Keeping the original feature values?"
   ]
  },
  {
   "cell_type": "code",
   "execution_count": 30,
   "metadata": {},
   "outputs": [
    {
     "name": "stdout",
     "output_type": "stream",
     "text": [
      "Epoch 1/10\n",
      "1590/1590 [==============================] - 0s 243us/step - loss: 0.6909 - acc: 0.5377\n",
      "Epoch 2/10\n",
      "1590/1590 [==============================] - 0s 73us/step - loss: 0.6907 - acc: 0.5377\n",
      "Epoch 3/10\n",
      "1590/1590 [==============================] - 0s 51us/step - loss: 0.6906 - acc: 0.5377\n",
      "Epoch 4/10\n",
      "1590/1590 [==============================] - 0s 57us/step - loss: 0.6905 - acc: 0.5377\n",
      "Epoch 5/10\n",
      "1590/1590 [==============================] - 0s 54us/step - loss: 0.6905 - acc: 0.5377\n",
      "Epoch 6/10\n",
      "1590/1590 [==============================] - 0s 52us/step - loss: 0.6905 - acc: 0.5377\n",
      "Epoch 7/10\n",
      "1590/1590 [==============================] - 0s 60us/step - loss: 0.6905 - acc: 0.5377\n",
      "Epoch 8/10\n",
      "1590/1590 [==============================] - 0s 56us/step - loss: 0.6904 - acc: 0.5377\n",
      "Epoch 9/10\n",
      "1590/1590 [==============================] - 0s 56us/step - loss: 0.6904 - acc: 0.5377\n",
      "Epoch 10/10\n",
      "1590/1590 [==============================] - 0s 62us/step - loss: 0.6904 - acc: 0.5377\n"
     ]
    },
    {
     "data": {
      "text/plain": [
       "<keras.callbacks.History at 0x114248748>"
      ]
     },
     "execution_count": 30,
     "metadata": {},
     "output_type": "execute_result"
    }
   ],
   "source": [
    "X_train = df_train[['height','eyecolor']]\n",
    "X_train = X_train.to_dict('records')\n",
    "\n",
    "X_test = df_test[['height','eyecolor']]\n",
    "X_test = X_test.to_dict('records')\n",
    "\n",
    "vec = DictVectorizer()\n",
    "X_train = vec.fit_transform(X_train).toarray()\n",
    "X_test = vec.fit_transform(X_test).toarray()\n",
    "\n",
    "model = Sequential()\n",
    "model.add(Dense(units=10, activation='sigmoid', input_dim=6))\n",
    "model.add(Dense(units=1, activation='sigmoid'))\n",
    "model.compile(loss='binary_crossentropy',\n",
    "              optimizer='sgd',\n",
    "              metrics=['accuracy'])\n",
    "\n",
    "model.fit(X_train, y_train, epochs=10)"
   ]
  },
  {
   "cell_type": "code",
   "execution_count": 31,
   "metadata": {},
   "outputs": [
    {
     "name": "stdout",
     "output_type": "stream",
     "text": [
      "398/398 [==============================] - 0s 154us/step\n",
      "Q 5A :: Accuracy (Test Set)  0.5226130659256748\n"
     ]
    }
   ],
   "source": [
    "evaluation = model.evaluate(X_test, y_test)\n",
    "print('Q 5A ::','Accuracy (Test Set) ', evaluation[1])"
   ]
  },
  {
   "cell_type": "markdown",
   "metadata": {},
   "source": [
    "**Question 5.b**  \n",
    "Taking the log of the original values?"
   ]
  },
  {
   "cell_type": "code",
   "execution_count": 33,
   "metadata": {},
   "outputs": [
    {
     "name": "stdout",
     "output_type": "stream",
     "text": [
      "Epoch 1/10\n",
      "1590/1590 [==============================] - 0s 313us/step - loss: 0.7008 - acc: 0.4730\n",
      "Epoch 2/10\n",
      "1590/1590 [==============================] - 0s 50us/step - loss: 0.6976 - acc: 0.4635\n",
      "Epoch 3/10\n",
      "1590/1590 [==============================] - 0s 42us/step - loss: 0.6963 - acc: 0.4818\n",
      "Epoch 4/10\n",
      "1590/1590 [==============================] - 0s 40us/step - loss: 0.6958 - acc: 0.5088\n",
      "Epoch 5/10\n",
      "1590/1590 [==============================] - 0s 51us/step - loss: 0.6955 - acc: 0.5088\n",
      "Epoch 6/10\n",
      "1590/1590 [==============================] - 0s 52us/step - loss: 0.6954 - acc: 0.5088\n",
      "Epoch 7/10\n",
      "1590/1590 [==============================] - 0s 49us/step - loss: 0.6953 - acc: 0.5233\n",
      "Epoch 8/10\n",
      "1590/1590 [==============================] - 0s 49us/step - loss: 0.6951 - acc: 0.5088\n",
      "Epoch 9/10\n",
      "1590/1590 [==============================] - 0s 50us/step - loss: 0.6951 - acc: 0.5107\n",
      "Epoch 10/10\n",
      "1590/1590 [==============================] - 0s 54us/step - loss: 0.6950 - acc: 0.5270\n"
     ]
    },
    {
     "data": {
      "text/plain": [
       "<keras.callbacks.History at 0x114bca550>"
      ]
     },
     "execution_count": 33,
     "metadata": {},
     "output_type": "execute_result"
    }
   ],
   "source": [
    "df_train_log = df_train\n",
    "df_test_log = df_test\n",
    "df_train_log['height'] = df_train['height'].apply('log')\n",
    "df_test_log['height'] = df_test['height'].apply('log')\n",
    "\n",
    "X_train = df_train_log[['height','eyecolor']]\n",
    "X_train = X_train.to_dict('records')\n",
    "\n",
    "X_test = df_test_log[['height','eyecolor']]\n",
    "X_test = X_test.to_dict('records')\n",
    "\n",
    "vec = DictVectorizer()\n",
    "X_train = vec.fit_transform(X_train).toarray()\n",
    "X_test = vec.fit_transform(X_test).toarray()\n",
    "\n",
    "model = Sequential()\n",
    "model.add(Dense(units=10, activation='sigmoid', input_dim=6))\n",
    "model.add(Dense(units=1, activation='sigmoid'))\n",
    "model.compile(loss='binary_crossentropy',\n",
    "              optimizer='sgd',\n",
    "              metrics=['accuracy'])\n",
    "model.fit(X_train, y_train, epochs=10)"
   ]
  },
  {
   "cell_type": "code",
   "execution_count": 34,
   "metadata": {},
   "outputs": [
    {
     "name": "stdout",
     "output_type": "stream",
     "text": [
      "398/398 [==============================] - 0s 192us/step\n",
      "Q 5B:: Accuracy (Test Set)  0.5226130659256748\n"
     ]
    }
   ],
   "source": [
    "evaluation = model.evaluate(X_test, y_test)\n",
    "print('Q 5B::','Accuracy (Test Set) ', evaluation[1])"
   ]
  },
  {
   "cell_type": "markdown",
   "metadata": {},
   "source": [
    "**Question 5.c**  \n",
    "Taking the Z-score of the original values?"
   ]
  },
  {
   "cell_type": "code",
   "execution_count": 35,
   "metadata": {},
   "outputs": [
    {
     "name": "stdout",
     "output_type": "stream",
     "text": [
      "Epoch 1/10\n",
      "1590/1590 [==============================] - 0s 209us/step - loss: 0.6603 - acc: 0.5377\n",
      "Epoch 2/10\n",
      "1590/1590 [==============================] - 0s 45us/step - loss: 0.6501 - acc: 0.5560\n",
      "Epoch 3/10\n",
      "1590/1590 [==============================] - 0s 47us/step - loss: 0.6422 - acc: 0.6220\n",
      "Epoch 4/10\n",
      "1590/1590 [==============================] - 0s 48us/step - loss: 0.6353 - acc: 0.6635\n",
      "Epoch 5/10\n",
      "1590/1590 [==============================] - 0s 47us/step - loss: 0.6288 - acc: 0.7088\n",
      "Epoch 6/10\n",
      "1590/1590 [==============================] - 0s 47us/step - loss: 0.6225 - acc: 0.7239\n",
      "Epoch 7/10\n",
      "1590/1590 [==============================] - 0s 50us/step - loss: 0.6164 - acc: 0.7579\n",
      "Epoch 8/10\n",
      "1590/1590 [==============================] - 0s 49us/step - loss: 0.6103 - acc: 0.7648\n",
      "Epoch 9/10\n",
      "1590/1590 [==============================] - 0s 46us/step - loss: 0.6042 - acc: 0.7679\n",
      "Epoch 10/10\n",
      "1590/1590 [==============================] - 0s 46us/step - loss: 0.5981 - acc: 0.7780\n"
     ]
    },
    {
     "data": {
      "text/plain": [
       "<keras.callbacks.History at 0x114ebfd30>"
      ]
     },
     "execution_count": 35,
     "metadata": {},
     "output_type": "execute_result"
    }
   ],
   "source": [
    "avg = df_train['height'].mean()\n",
    "std_deviation = df_train['height'].std()\n",
    "\n",
    "transform_z_score = lambda x: (x - avg) / std_deviation\n",
    "\n",
    "\n",
    "df_train_Z = df_train\n",
    "df_test_Z = df_test\n",
    "df_train_Z['height'] = df_train_Z['height'].apply(transform_z_score)\n",
    "df_test_Z['height'] = df_test_Z['height'].apply(transform_z_score)\n",
    "\n",
    "df_train_Z = df_train_Z[['height','eyecolor']]\n",
    "X_train = df_train_Z[['height','eyecolor']]\n",
    "X_train = X_train.to_dict('records')\n",
    "\n",
    "df_test_Z = df_test_Z[['height','eyecolor']]\n",
    "X_test = df_test_Z[['height','eyecolor']]\n",
    "X_test = X_test.to_dict('records')\n",
    "\n",
    "vec = DictVectorizer()\n",
    "X_train = vec.fit_transform(X_train).toarray()\n",
    "X_test = vec.fit_transform(X_test).toarray()\n",
    "\n",
    "model = Sequential()\n",
    "model.add(Dense(units=10, activation='sigmoid', input_dim=6))\n",
    "model.add(Dense(units=1, activation='sigmoid'))\n",
    "model.compile(loss='binary_crossentropy',\n",
    "              optimizer='sgd',\n",
    "              metrics=['accuracy'])\n",
    "model.fit(X_train, y_train, epochs=10)"
   ]
  },
  {
   "cell_type": "code",
   "execution_count": 37,
   "metadata": {},
   "outputs": [
    {
     "name": "stdout",
     "output_type": "stream",
     "text": [
      "398/398 [==============================] - 0s 36us/step\n",
      "Q 5C:: Accuracy (Test Set)  0.7663316576924156\n"
     ]
    }
   ],
   "source": [
    "evaluation = model.evaluate(X_test, y_test)\n",
    "print('Q 5C::','Accuracy (Test Set) ', evaluation[1])\n",
    "# now it improves accuracy"
   ]
  },
  {
   "cell_type": "markdown",
   "metadata": {},
   "source": [
    "***\n",
    "### Question 6 ###\n",
    "Repeat question 5 for exercise hours + eye color"
   ]
  },
  {
   "cell_type": "code",
   "execution_count": 38,
   "metadata": {},
   "outputs": [
    {
     "name": "stdout",
     "output_type": "stream",
     "text": [
      "Epoch 1/10\n",
      "1590/1590 [==============================] - 0s 212us/step - loss: 0.8752 - acc: 0.4623\n",
      "Epoch 2/10\n",
      "1590/1590 [==============================] - 0s 37us/step - loss: 0.7664 - acc: 0.4623\n",
      "Epoch 3/10\n",
      "1590/1590 [==============================] - 0s 41us/step - loss: 0.7236 - acc: 0.4623\n",
      "Epoch 4/10\n",
      "1590/1590 [==============================] - 0s 41us/step - loss: 0.7068 - acc: 0.4421\n",
      "Epoch 5/10\n",
      "1590/1590 [==============================] - 0s 38us/step - loss: 0.7002 - acc: 0.4396\n",
      "Epoch 6/10\n",
      "1590/1590 [==============================] - 0s 35us/step - loss: 0.6973 - acc: 0.4862\n",
      "Epoch 7/10\n",
      "1590/1590 [==============================] - 0s 41us/step - loss: 0.6957 - acc: 0.5170\n",
      "Epoch 8/10\n",
      "1590/1590 [==============================] - 0s 42us/step - loss: 0.6947 - acc: 0.5182\n",
      "Epoch 9/10\n",
      "1590/1590 [==============================] - 0s 48us/step - loss: 0.6938 - acc: 0.5195\n",
      "Epoch 10/10\n",
      "1590/1590 [==============================] - 0s 50us/step - loss: 0.6931 - acc: 0.5346\n"
     ]
    },
    {
     "data": {
      "text/plain": [
       "<keras.callbacks.History at 0x115406550>"
      ]
     },
     "execution_count": 38,
     "metadata": {},
     "output_type": "execute_result"
    }
   ],
   "source": [
    "X_train = df_train[['exercisehours','eyecolor']]\n",
    "X_train = X_train.to_dict('records')\n",
    "\n",
    "X_test = df_test[['exercisehours','eyecolor']]\n",
    "X_test = X_test.to_dict('records')\n",
    "\n",
    "vec = DictVectorizer()\n",
    "X_train = vec.fit_transform(X_train).toarray()\n",
    "X_test = vec.fit_transform(X_test).toarray()\n",
    "\n",
    "model = Sequential()\n",
    "model.add(Dense(units=10, activation='sigmoid', input_dim=6))\n",
    "model.add(Dense(units=1, activation='sigmoid'))\n",
    "model.compile(loss='binary_crossentropy',\n",
    "              optimizer='sgd',\n",
    "              metrics=['accuracy'])\n",
    "model.fit(X_train, y_train, epochs=10)\n"
   ]
  },
  {
   "cell_type": "code",
   "execution_count": 40,
   "metadata": {},
   "outputs": [
    {
     "name": "stdout",
     "output_type": "stream",
     "text": [
      "398/398 [==============================] - 0s 39us/step\n",
      "Q 6A:: Accuracy (Test Set)  0.5226130659256748\n"
     ]
    }
   ],
   "source": [
    "evaluation = model.evaluate(X_test, y_test)\n",
    "print('Q 6A::','Accuracy (Test Set) ', evaluation[1])"
   ]
  },
  {
   "cell_type": "code",
   "execution_count": 52,
   "metadata": {},
   "outputs": [
    {
     "name": "stdout",
     "output_type": "stream",
     "text": [
      "Epoch 1/10\n",
      "1590/1590 [==============================] - 1s 320us/step - loss: nan - acc: 0.0038\n",
      "Epoch 2/10\n",
      "1590/1590 [==============================] - 0s 43us/step - loss: nan - acc: 0.0000e+00\n",
      "Epoch 3/10\n",
      "1590/1590 [==============================] - 0s 46us/step - loss: nan - acc: 0.0000e+00\n",
      "Epoch 4/10\n",
      "1590/1590 [==============================] - 0s 44us/step - loss: nan - acc: 0.0000e+00\n",
      "Epoch 5/10\n",
      "1590/1590 [==============================] - 0s 43us/step - loss: nan - acc: 0.0000e+00\n",
      "Epoch 6/10\n",
      "1590/1590 [==============================] - 0s 42us/step - loss: nan - acc: 0.0000e+00\n",
      "Epoch 7/10\n",
      "1590/1590 [==============================] - 0s 39us/step - loss: nan - acc: 0.0000e+00\n",
      "Epoch 8/10\n",
      "1590/1590 [==============================] - 0s 41us/step - loss: nan - acc: 0.0000e+00\n",
      "Epoch 9/10\n",
      "1590/1590 [==============================] - 0s 42us/step - loss: nan - acc: 0.0000e+00\n",
      "Epoch 10/10\n",
      "1590/1590 [==============================] - 0s 43us/step - loss: nan - acc: 0.0000e+00\n"
     ]
    },
    {
     "data": {
      "text/plain": [
       "<keras.callbacks.History at 0x11616dcc0>"
      ]
     },
     "execution_count": 52,
     "metadata": {},
     "output_type": "execute_result"
    }
   ],
   "source": [
    "df_train_log = df_train\n",
    "df_test_log = df_test\n",
    "\n",
    "\n",
    "# make sure there are no NaN values in the resulting dataset by replacing 0 with a small positive number\n",
    "df_train_log['exercisehours'] = df_train_log['exercisehours'].apply(lambda x : 0.00001 if x == 0 else x)\n",
    "df_test_log['exercisehours'] = df_test_log['exercisehours'].apply(lambda x : 0.00001 if x == 0 else x)\n",
    "\n",
    "df_train_log['exercisehours'] = df_train['exercisehours'].apply('log')\n",
    "df_test_log['exercisehours'] = df_test['exercisehours'].apply('log')\n",
    "\n",
    "df_train_log\n",
    "\n",
    "X_train = df_train_log[['exercisehours','eyecolor']]\n",
    "X_train = X_train.to_dict('records')\n",
    "\n",
    "X_test = df_test_log[['exercisehours','eyecolor']]\n",
    "X_test = X_test.to_dict('records')\n",
    "\n",
    "vec = DictVectorizer()\n",
    "X_train = vec.fit_transform(X_train).toarray()\n",
    "X_test = vec.fit_transform(X_test).toarray()\n",
    "\n",
    "model = Sequential()\n",
    "model.add(Dense(units=10, activation='sigmoid', input_dim=6))\n",
    "model.add(Dense(units=1, activation='sigmoid'))\n",
    "model.compile(loss='binary_crossentropy',\n",
    "              optimizer='sgd',\n",
    "              metrics=['accuracy'])\n",
    "model.fit(X_train, y_train, epochs=10)"
   ]
  },
  {
   "cell_type": "code",
   "execution_count": 53,
   "metadata": {},
   "outputs": [
    {
     "name": "stdout",
     "output_type": "stream",
     "text": [
      "398/398 [==============================] - 0s 285us/step\n",
      "Q 6B:: Accuracy (Test Set)  0.0\n"
     ]
    }
   ],
   "source": [
    "evaluation = model.evaluate(X_test, y_test)\n",
    "print('Q 6B::','Accuracy (Test Set) ', evaluation[1])"
   ]
  },
  {
   "cell_type": "code",
   "execution_count": 54,
   "metadata": {},
   "outputs": [
    {
     "name": "stdout",
     "output_type": "stream",
     "text": [
      "Epoch 1/10\n",
      "1590/1590 [==============================] - 1s 334us/step - loss: nan - acc: 0.0069\n",
      "Epoch 2/10\n",
      "1590/1590 [==============================] - 0s 51us/step - loss: nan - acc: 0.0000e+00\n",
      "Epoch 3/10\n",
      "1590/1590 [==============================] - 0s 64us/step - loss: nan - acc: 0.0000e+00\n",
      "Epoch 4/10\n",
      "1590/1590 [==============================] - 0s 58us/step - loss: nan - acc: 0.0000e+00\n",
      "Epoch 5/10\n",
      "1590/1590 [==============================] - 0s 47us/step - loss: nan - acc: 0.0000e+00\n",
      "Epoch 6/10\n",
      "1590/1590 [==============================] - 0s 50us/step - loss: nan - acc: 0.0000e+00\n",
      "Epoch 7/10\n",
      "1590/1590 [==============================] - 0s 48us/step - loss: nan - acc: 0.0000e+00\n",
      "Epoch 8/10\n",
      "1590/1590 [==============================] - 0s 38us/step - loss: nan - acc: 0.0000e+00\n",
      "Epoch 9/10\n",
      "1590/1590 [==============================] - 0s 37us/step - loss: nan - acc: 0.0000e+00\n",
      "Epoch 10/10\n",
      "1590/1590 [==============================] - 0s 40us/step - loss: nan - acc: 0.0000e+00\n"
     ]
    },
    {
     "data": {
      "text/plain": [
       "<keras.callbacks.History at 0x115f7d710>"
      ]
     },
     "execution_count": 54,
     "metadata": {},
     "output_type": "execute_result"
    }
   ],
   "source": [
    "avg = df_train['exercisehours'].mean()\n",
    "std_deviation = df_train['exercisehours'].std()\n",
    "\n",
    "transform_z_score = lambda x: (x - avg) / std_deviation\n",
    "\n",
    "\n",
    "df_train_Z = df_train\n",
    "df_test_Z = df_test\n",
    "df_train_Z['exercisehours'] = df_train_Z['exercisehours'].apply(transform_z_score)\n",
    "df_test_Z['exercisehours'] = df_test_Z['exercisehours'].apply(transform_z_score)\n",
    "\n",
    "X_train = df_train_Z[['exercisehours','eyecolor']]\n",
    "X_train = X_train.to_dict('records')\n",
    "\n",
    "X_test = df_test_Z[['exercisehours','eyecolor']]\n",
    "X_test = X_test.to_dict('records')\n",
    "\n",
    "vec = DictVectorizer()\n",
    "X_train = vec.fit_transform(X_train).toarray()\n",
    "X_test = vec.fit_transform(X_test).toarray()\n",
    "\n",
    "model = Sequential()\n",
    "model.add(Dense(units=10, activation='sigmoid', input_dim=6))\n",
    "model.add(Dense(units=1, activation='sigmoid'))\n",
    "model.compile(loss='binary_crossentropy',\n",
    "              optimizer='sgd',\n",
    "              metrics=['accuracy'])\n",
    "model.fit(X_train, y_train, epochs=10)\n"
   ]
  },
  {
   "cell_type": "code",
   "execution_count": 55,
   "metadata": {},
   "outputs": [
    {
     "name": "stdout",
     "output_type": "stream",
     "text": [
      "398/398 [==============================] - 0s 260us/step\n",
      "Q 6C:: Accuracy (Test Set)  0.0\n"
     ]
    }
   ],
   "source": [
    "evaluation = model.evaluate(X_test, y_test)\n",
    "print('Q 6C::','Accuracy (Test Set) ', evaluation[1])"
   ]
  },
  {
   "cell_type": "markdown",
   "metadata": {},
   "source": [
    "***\n",
    "### Question 7###\n",
    "Combine the features from question 4, 5, and exercise hours from question 6 (using the best normalization feature set form questions 5 and 6)"
   ]
  },
  {
   "cell_type": "markdown",
   "metadata": {},
   "source": [
    "**Question 7.a**  \n",
    "What was the NN accuracy on the test set using the single 10 node hidden layer?"
   ]
  },
  {
   "cell_type": "code",
   "execution_count": 61,
   "metadata": {},
   "outputs": [
    {
     "name": "stdout",
     "output_type": "stream",
     "text": [
      "Epoch 1/50\n",
      "1590/1590 [==============================] - 0s 314us/step - loss: 0.6868 - acc: 0.4698\n",
      "Epoch 2/50\n",
      "1590/1590 [==============================] - 0s 47us/step - loss: 0.6552 - acc: 0.5786\n",
      "Epoch 3/50\n",
      "1590/1590 [==============================] - 0s 47us/step - loss: 0.6406 - acc: 0.7635\n",
      "Epoch 4/50\n",
      "1590/1590 [==============================] - 0s 49us/step - loss: 0.6320 - acc: 0.8031\n",
      "Epoch 5/50\n",
      "1590/1590 [==============================] - 0s 46us/step - loss: 0.6260 - acc: 0.8025\n",
      "Epoch 6/50\n",
      "1590/1590 [==============================] - 0s 49us/step - loss: 0.6208 - acc: 0.7881\n",
      "Epoch 7/50\n",
      "1590/1590 [==============================] - 0s 48us/step - loss: 0.6157 - acc: 0.7748\n",
      "Epoch 8/50\n",
      "1590/1590 [==============================] - 0s 47us/step - loss: 0.6107 - acc: 0.7799\n",
      "Epoch 9/50\n",
      "1590/1590 [==============================] - 0s 50us/step - loss: 0.6056 - acc: 0.7811\n",
      "Epoch 10/50\n",
      "1590/1590 [==============================] - 0s 48us/step - loss: 0.6006 - acc: 0.7811\n",
      "Epoch 11/50\n",
      "1590/1590 [==============================] - 0s 48us/step - loss: 0.5953 - acc: 0.7887\n",
      "Epoch 12/50\n",
      "1590/1590 [==============================] - 0s 47us/step - loss: 0.5901 - acc: 0.7956\n",
      "Epoch 13/50\n",
      "1590/1590 [==============================] - 0s 52us/step - loss: 0.5847 - acc: 0.7956\n",
      "Epoch 14/50\n",
      "1590/1590 [==============================] - 0s 47us/step - loss: 0.5793 - acc: 0.8082\n",
      "Epoch 15/50\n",
      "1590/1590 [==============================] - 0s 47us/step - loss: 0.5738 - acc: 0.8119\n",
      "Epoch 16/50\n",
      "1590/1590 [==============================] - 0s 48us/step - loss: 0.5683 - acc: 0.8182\n",
      "Epoch 17/50\n",
      "1590/1590 [==============================] - 0s 45us/step - loss: 0.5628 - acc: 0.8233\n",
      "Epoch 18/50\n",
      "1590/1590 [==============================] - 0s 55us/step - loss: 0.5572 - acc: 0.8201\n",
      "Epoch 19/50\n",
      "1590/1590 [==============================] - 0s 55us/step - loss: 0.5517 - acc: 0.8226\n",
      "Epoch 20/50\n",
      "1590/1590 [==============================] - 0s 74us/step - loss: 0.5461 - acc: 0.8277\n",
      "Epoch 21/50\n",
      "1590/1590 [==============================] - 0s 63us/step - loss: 0.5407 - acc: 0.8277\n",
      "Epoch 22/50\n",
      "1590/1590 [==============================] - 0s 49us/step - loss: 0.5352 - acc: 0.8296\n",
      "Epoch 23/50\n",
      "1590/1590 [==============================] - 0s 54us/step - loss: 0.5298 - acc: 0.8314\n",
      "Epoch 24/50\n",
      "1590/1590 [==============================] - 0s 54us/step - loss: 0.5245 - acc: 0.8314\n",
      "Epoch 25/50\n",
      "1590/1590 [==============================] - 0s 49us/step - loss: 0.5192 - acc: 0.8308\n",
      "Epoch 26/50\n",
      "1590/1590 [==============================] - 0s 50us/step - loss: 0.5140 - acc: 0.8333\n",
      "Epoch 27/50\n",
      "1590/1590 [==============================] - 0s 49us/step - loss: 0.5089 - acc: 0.8314\n",
      "Epoch 28/50\n",
      "1590/1590 [==============================] - 0s 51us/step - loss: 0.5039 - acc: 0.8314\n",
      "Epoch 29/50\n",
      "1590/1590 [==============================] - 0s 47us/step - loss: 0.4990 - acc: 0.8346\n",
      "Epoch 30/50\n",
      "1590/1590 [==============================] - 0s 51us/step - loss: 0.4942 - acc: 0.8371\n",
      "Epoch 31/50\n",
      "1590/1590 [==============================] - 0s 51us/step - loss: 0.4896 - acc: 0.8340\n",
      "Epoch 32/50\n",
      "1590/1590 [==============================] - 0s 50us/step - loss: 0.4850 - acc: 0.8384\n",
      "Epoch 33/50\n",
      "1590/1590 [==============================] - 0s 51us/step - loss: 0.4806 - acc: 0.8390\n",
      "Epoch 34/50\n",
      "1590/1590 [==============================] - 0s 47us/step - loss: 0.4763 - acc: 0.8377\n",
      "Epoch 35/50\n",
      "1590/1590 [==============================] - 0s 51us/step - loss: 0.4722 - acc: 0.8384\n",
      "Epoch 36/50\n",
      "1590/1590 [==============================] - 0s 51us/step - loss: 0.4681 - acc: 0.8390\n",
      "Epoch 37/50\n",
      "1590/1590 [==============================] - 0s 51us/step - loss: 0.4642 - acc: 0.8390\n",
      "Epoch 38/50\n",
      "1590/1590 [==============================] - 0s 60us/step - loss: 0.4604 - acc: 0.8377\n",
      "Epoch 39/50\n",
      "1590/1590 [==============================] - 0s 78us/step - loss: 0.4568 - acc: 0.8403\n",
      "Epoch 40/50\n",
      "1590/1590 [==============================] - 0s 65us/step - loss: 0.4533 - acc: 0.8434\n",
      "Epoch 41/50\n",
      "1590/1590 [==============================] - 0s 55us/step - loss: 0.4499 - acc: 0.8428\n",
      "Epoch 42/50\n",
      "1590/1590 [==============================] - 0s 59us/step - loss: 0.4466 - acc: 0.8415\n",
      "Epoch 43/50\n",
      "1590/1590 [==============================] - 0s 59us/step - loss: 0.4435 - acc: 0.8447\n",
      "Epoch 44/50\n",
      "1590/1590 [==============================] - 0s 66us/step - loss: 0.4404 - acc: 0.8434\n",
      "Epoch 45/50\n",
      "1590/1590 [==============================] - 0s 63us/step - loss: 0.4375 - acc: 0.8447\n",
      "Epoch 46/50\n",
      "1590/1590 [==============================] - 0s 71us/step - loss: 0.4347 - acc: 0.8453\n",
      "Epoch 47/50\n",
      "1590/1590 [==============================] - 0s 76us/step - loss: 0.4320 - acc: 0.8447\n",
      "Epoch 48/50\n",
      "1590/1590 [==============================] - 0s 73us/step - loss: 0.4294 - acc: 0.8447\n",
      "Epoch 49/50\n",
      "1590/1590 [==============================] - 0s 45us/step - loss: 0.4269 - acc: 0.8434\n",
      "Epoch 50/50\n",
      "1590/1590 [==============================] - 0s 49us/step - loss: 0.4245 - acc: 0.8421\n"
     ]
    },
    {
     "data": {
      "text/plain": [
       "<keras.callbacks.History at 0x116cfd080>"
      ]
     },
     "execution_count": 61,
     "metadata": {},
     "output_type": "execute_result"
    }
   ],
   "source": [
    "avg = df_train['height'].mean()\n",
    "std_deviation = df_train['height'].std()\n",
    "\n",
    "transform_z_score = lambda x: (x - avg) / std_deviation\n",
    "\n",
    "X_train = df_train[['eyecolor','year', 'exercise', 'height']]\n",
    "X_train['height'] = X_train['height'].apply(transform_z_score)\n",
    "X_train = X_train.to_dict('records')\n",
    "\n",
    "#'exercisehours',\n",
    "\n",
    "X_test = df_test[['eyecolor','year', 'exercise', 'height']]\n",
    "X_test['height'] = X_test['height'].apply(transform_z_score)\n",
    "X_test = X_test.to_dict('records')\n",
    "\n",
    "vec = DictVectorizer()\n",
    "X_train = vec.fit_transform(X_train).toarray()\n",
    "X_test = vec.fit_transform(X_test).toarray()\n",
    "\n",
    "model = Sequential()\n",
    "model.add(Dense(units=10, activation='sigmoid', input_dim=14))\n",
    "model.add(Dense(units=1, activation='sigmoid'))\n",
    "model.compile(loss='binary_crossentropy',\n",
    "              optimizer='sgd',\n",
    "              metrics=['accuracy'])\n",
    "model.fit(X_train, y_train, epochs=50)"
   ]
  },
  {
   "cell_type": "code",
   "execution_count": 62,
   "metadata": {},
   "outputs": [
    {
     "name": "stdout",
     "output_type": "stream",
     "text": [
      "398/398 [==============================] - 0s 379us/step\n",
      "Q 7A:: Accuracy (Test Set)  0.8492462305567372\n"
     ]
    }
   ],
   "source": [
    "evaluation = model.evaluate(X_test, y_test)\n",
    "print('Q 7A::','Accuracy (Test Set) ', evaluation[1])"
   ]
  },
  {
   "cell_type": "markdown",
   "metadata": {},
   "source": [
    "**Question 7.b**  \n",
    "What was the SVM accuracy on the test set the RBF kernel?"
   ]
  },
  {
   "cell_type": "code",
   "execution_count": 63,
   "metadata": {},
   "outputs": [
    {
     "name": "stdout",
     "output_type": "stream",
     "text": [
      "Q 7B:: Accuracy (Test Set)  0.8542713567839196\n"
     ]
    }
   ],
   "source": [
    "clf = svm.SVC(kernel='rbf')\n",
    "clf.fit(X_train, y_train)\n",
    "\n",
    "accuracy = clf.score(X_test, y_test)\n",
    "print('Q 7B::','Accuracy (Test Set) ', accuracy)"
   ]
  },
  {
   "cell_type": "markdown",
   "metadata": {},
   "source": [
    "***\n",
    "### Question 8- Bonus###\n",
    "Can you improve your test set prediction accuracy by 5% or more?  \n",
    "\n",
    "See how close to that milestone of improvement you can get by modifying the tuning parameters of either Neural Networks (the number of hidden layers, number of hidden nodes in each layer, the learning rate aka mu) or with SVM (choosing kernel, C, and gamma). A great guide to tuning parameters is explained in this guide: http://www.csie.ntu.edu.tw/~cjlin/papers/guide/guide.pdf. \n",
    "\n",
    "While the guide is specific to SVM and in particular the C and gamma parameters of the RBF kernel, the method applies to generally to any ML technique with tuning parameters.\n",
    "\n",
    "Please also write a paragraph in a markdown cell below with an explanation of your approach and evaluation metrics.\n"
   ]
  },
  {
   "cell_type": "code",
   "execution_count": null,
   "metadata": {},
   "outputs": [],
   "source": []
  },
  {
   "cell_type": "code",
   "execution_count": null,
   "metadata": {},
   "outputs": [],
   "source": []
  }
 ],
 "metadata": {
  "anaconda-cloud": {},
  "kernelspec": {
   "display_name": "Python 2",
   "language": "python",
   "name": "python2"
  },
  "language_info": {
   "codemirror_mode": {
    "name": "ipython",
    "version": 3
   },
   "file_extension": ".py",
   "mimetype": "text/x-python",
   "name": "python",
   "nbconvert_exporter": "python",
   "pygments_lexer": "ipython3",
   "version": "3.6.4"
  }
 },
 "nbformat": 4,
 "nbformat_minor": 1
}
